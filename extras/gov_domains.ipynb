{
 "cells": [
  {
   "cell_type": "code",
   "execution_count": 1,
   "metadata": {},
   "outputs": [],
   "source": [
    "import json\n",
    "import demjson"
   ]
  },
  {
   "cell_type": "code",
   "execution_count": 2,
   "metadata": {
    "collapsed": true
   },
   "outputs": [
    {
     "name": "stderr",
     "output_type": "stream",
     "text": [
      "  % Total    % Received % Xferd  Average Speed   Time    Time     Time  Current\n",
      "                                 Dload  Upload   Total   Spent    Left  Speed\n",
      "\n",
      "  0     0    0     0    0     0      0      0 --:--:-- --:--:-- --:--:--     0\n",
      "  0     0    0     0    0     0      0      0 --:--:-- --:--:-- --:--:--     0\n",
      "  0     0    0     0    0     0      0      0 --:--:--  0:00:01 --:--:--     0\n",
      "  0     0    0     0    0     0      0      0 --:--:--  0:00:02 --:--:--     0\n",
      "  0 9095k    0 15778    0     0   4182      0  0:37:07  0:00:03  0:37:04  4181\n",
      "  1 9095k    1  162k    0     0  34280      0  0:04:31  0:00:04  0:04:27 34273\n",
      "  7 9095k    7  690k    0     0   119k      0  0:01:15  0:00:05  0:01:10  140k\n",
      " 14 9095k   14 1347k    0     0   200k      0  0:00:45  0:00:06  0:00:39  274k\n",
      " 21 9095k   21 1946k    0     0   251k      0  0:00:36  0:00:07  0:00:29  396k\n",
      " 27 9095k   27 2538k    0     0   290k      0  0:00:31  0:00:08  0:00:23  508k\n",
      " 35 9095k   35 3214k    0     0   328k      0  0:00:27  0:00:09  0:00:18  618k\n",
      " 41 9095k   41 3786k    0     0   352k      0  0:00:25  0:00:10  0:00:15  621k\n",
      " 48 9095k   48 4450k    0     0   379k      0  0:00:23  0:00:11  0:00:12  619k\n",
      " 52 9095k   52 4737k    0     0   371k      0  0:00:24  0:00:12  0:00:12  558k\n",
      " 59 9095k   59 5386k    0     0   388k      0  0:00:23  0:00:13  0:00:10  554k\n",
      " 68 9095k   68 6269k    0     0   425k      0  0:00:21  0:00:14  0:00:07  616k\n",
      " 82 9095k   82 7514k    0     0   477k      0  0:00:19  0:00:15  0:00:04  746k\n",
      "100 9095k  100 9095k    0     0   549k      0  0:00:16  0:00:16 --:--:--  963k\n"
     ]
    }
   ],
   "source": [
    "#!curl \"https://zonecruncher.com/qname-monitor/qname?q=gov.%3F%3F&token=crimeware000zetalytics640sharing&ruleID=&size=100000\" > govdomin1.json"
   ]
  },
  {
   "cell_type": "code",
   "execution_count": null,
   "metadata": {},
   "outputs": [],
   "source": [
    "#!curl \"https://zonecruncher.com/qname-monitor/qname?q=gov&token=crimeware000zetalytics640sharing&ruleID=&size=43127\" > govdomin2.json"
   ]
  },
  {
   "cell_type": "code",
   "execution_count": 2,
   "metadata": {
    "collapsed": true
   },
   "outputs": [
    {
     "name": "stderr",
     "output_type": "stream",
     "text": [
      "  % Total    % Received % Xferd  Average Speed   Time    Time     Time  Current\n",
      "                                 Dload  Upload   Total   Spent    Left  Speed\n",
      "\n",
      "  0     0    0     0    0     0      0      0 --:--:-- --:--:-- --:--:--     0\n",
      "  0     0    0     0    0     0      0      0 --:--:-- --:--:-- --:--:--     0\n",
      "  0     0    0     0    0     0      0      0 --:--:--  0:00:02 --:--:--     0\n",
      "  0     0    0     0    0     0      0      0 --:--:--  0:00:02 --:--:--     0\n",
      "  0     0    0     0    0     0      0      0 --:--:--  0:00:03 --:--:--     0\n",
      "100 15875  100 15875    0     0   3171      0  0:00:05  0:00:05 --:--:--  3172\n",
      "100 15875  100 15875    0     0   3171      0  0:00:05  0:00:05 --:--:--  3787\n"
     ]
    }
   ],
   "source": [
    "#!curl \"https://zonecruncher.com/qname-monitor/qname?q=mil.%3F%3F&token=crimeware000zetalytics640sharing&ruleID=&size=100000\" > govdomin3.json"
   ]
  },
  {
   "cell_type": "code",
   "execution_count": null,
   "metadata": {},
   "outputs": [],
   "source": [
    "#!curl \"https://zonecruncher.com/qname-monitor/qname?q=br&token=crimeware000zetalytics640sharing&ruleID=&size=100000\" > govdomin41.json"
   ]
  },
  {
   "cell_type": "code",
   "execution_count": null,
   "metadata": {},
   "outputs": [],
   "source": [
    "#!curl \"https://zonecruncher.com/qname-monitor/qname?q=edu&token=crimeware000zetalytics640sharing&ruleID=&size=100000\" > govdomin5.json"
   ]
  },
  {
   "cell_type": "code",
   "execution_count": 5,
   "metadata": {},
   "outputs": [
    {
     "name": "stderr",
     "output_type": "stream",
     "text": [
      "  % Total    % Received % Xferd  Average Speed   Time    Time     Time  Current\n",
      "                                 Dload  Upload   Total   Spent    Left  Speed\n",
      "\n",
      "  0     0    0     0    0     0      0      0 --:--:-- --:--:-- --:--:--     0\n",
      "  0     0    0     0    0     0      0      0 --:--:-- --:--:-- --:--:--     0\n",
      "  0     0    0     0    0     0      0      0 --:--:--  0:00:01 --:--:--     0\n",
      "  2  651k    2 16384    0     0   5382      0  0:02:03  0:00:03  0:02:00  5384\n",
      "  4  651k    4 32768    0     0   9456      0  0:01:10  0:00:03  0:01:07  9456\n",
      " 11  651k   11 73728    0     0  16225      0  0:00:41  0:00:04  0:00:37 16225\n",
      " 15  651k   15  104k    0     0  19181      0  0:00:34  0:00:05  0:00:29 21667\n",
      " 23  651k   23  156k    0     0  23801      0  0:00:28  0:00:06  0:00:22 31446\n",
      " 28  651k   28  184k    0     0  24466      0  0:00:27  0:00:07  0:00:20 36932\n",
      " 35  651k   35  234k    0     0  26689      0  0:00:24  0:00:08  0:00:16 37515\n",
      " 38  651k   38  249k    0     0  26859      0  0:00:24  0:00:09  0:00:15 36556\n",
      " 44  651k   44  288k    0     0  28244      0  0:00:23  0:00:10  0:00:13 38472\n",
      " 49  651k   49  320k    0     0  28357      0  0:00:23  0:00:11  0:00:12 34660\n",
      " 55  651k   55  360k    0     0  29503      0  0:00:22  0:00:12  0:00:10 37585\n",
      " 60  651k   60  392k    0     0  29136      0  0:00:22  0:00:13  0:00:09 33714\n",
      " 63  651k   63  416k    0     0  29353      0  0:00:22  0:00:14  0:00:08 34116\n",
      " 68  651k   68  448k    0     0  29574      0  0:00:22  0:00:15  0:00:07 32342\n",
      " 74  651k   74  488k    0     0  29849      0  0:00:22  0:00:16  0:00:06 33185\n",
      " 81  651k   81  531k    0     0  30996      0  0:00:21  0:00:17  0:00:04 34701\n",
      " 87  651k   87  570k    0     0  31600      0  0:00:21  0:00:18  0:00:03 38818\n",
      " 93  651k   93  609k    0     0  31617      0  0:00:21  0:00:19  0:00:02 37913\n",
      " 98  651k   98  640k    0     0  31573      0  0:00:21  0:00:20  0:00:01 37478\n",
      "100  651k  100  651k    0     0  31639      0  0:00:21  0:00:21 --:--:-- 38564\n"
     ]
    }
   ],
   "source": [
    "#!curl \"https://zonecruncher.com/qname-monitor/qname?q=edu.%3F%3F&token=crimeware000zetalytics640sharing&ruleID=&size=100000\"> govdomin6.json"
   ]
  },
  {
   "cell_type": "code",
   "execution_count": 7,
   "metadata": {},
   "outputs": [],
   "source": [
    "import numpy as np\n",
    "from tldextract import extract\n",
    "def check_tld(array):\n",
    "    new_list = []\n",
    "    for i in array:\n",
    "        tsd, td, tsu = extract(i) #subdomain, domain, suffix\n",
    "        if td:\n",
    "            dom = td + '.' + tsu\n",
    "        else:\n",
    "            dom = tsu\n",
    "        new_list.append(dom)\n",
    "    print(len(new_list))\n",
    "    print(len(np.unique(new_list)))\n",
    "    return(np.unique(new_list))"
   ]
  },
  {
   "cell_type": "code",
   "execution_count": 8,
   "metadata": {},
   "outputs": [
    {
     "name": "stdout",
     "output_type": "stream",
     "text": [
      "46152\n"
     ]
    }
   ],
   "source": [
    "white1 = []\n",
    "with open(\"govdomin1.json\") as f:\n",
    "    data1 = json.load(f)\n",
    "for i in data1['results']:\n",
    "    white1.append(i['qname'])\n",
    "    white1.append(i['domain'])\n",
    "print(len(white1))"
   ]
  },
  {
   "cell_type": "code",
   "execution_count": 9,
   "metadata": {
    "scrolled": true
   },
   "outputs": [
    {
     "name": "stdout",
     "output_type": "stream",
     "text": [
      "46152\n",
      "3618\n",
      "21786\n"
     ]
    }
   ],
   "source": [
    "white1 = check_tld(white1)"
   ]
  },
  {
   "cell_type": "code",
   "execution_count": 10,
   "metadata": {},
   "outputs": [
    {
     "name": "stdout",
     "output_type": "stream",
     "text": [
      "24362\n",
      "35214\n",
      "59576\n",
      "433\n",
      "28908\n"
     ]
    }
   ],
   "source": [
    "white2 = []\n",
    "with open(\"govdomin2.json\") as f:\n",
    "    data2 = json.load(f)\n",
    "for i in data2['results']:\n",
    "    white2.append(i['qname'])\n",
    "    white2.append(i['domain'])\n",
    "print(len(white2))\n",
    "\n",
    "white21 = []\n",
    "with open(\"govdomin21.json\") as f:\n",
    "    data21 = json.load(f)\n",
    "for i in data21['results']:\n",
    "    white21.append(i['qname'])\n",
    "    white21.append(i['domain'])\n",
    "print(len(white21))\n",
    "\n",
    "white2 = check_tld(white2 + white21)"
   ]
  },
  {
   "cell_type": "code",
   "execution_count": 11,
   "metadata": {},
   "outputs": [
    {
     "name": "stdout",
     "output_type": "stream",
     "text": [
      "84\n"
     ]
    }
   ],
   "source": [
    "white3 = []\n",
    "with open(\"govdomin3.json\") as f:\n",
    "    data3 = json.load(f)\n",
    "for i in data3['results']:\n",
    "    white3.append(i['qname'])\n",
    "    white3.append(i['domain'])\n",
    "print(len(white3))"
   ]
  },
  {
   "cell_type": "code",
   "execution_count": 12,
   "metadata": {},
   "outputs": [
    {
     "name": "stdout",
     "output_type": "stream",
     "text": [
      "84\n",
      "24\n",
      "39\n"
     ]
    }
   ],
   "source": [
    "white3 = check_tld(white3)"
   ]
  },
  {
   "cell_type": "code",
   "execution_count": 13,
   "metadata": {},
   "outputs": [
    {
     "name": "stdout",
     "output_type": "stream",
     "text": [
      "8440\n",
      "6432\n"
     ]
    }
   ],
   "source": [
    "white4 = []\n",
    "with open(\"govdomin4.json\") as f:\n",
    "    data4 = json.load(f)\n",
    "for i in data4['results']:\n",
    "    white4.append(i['qname'])\n",
    "    white4.append(i['domain'])\n",
    "print(len(white4))\n",
    "\n",
    "white41 = []\n",
    "with open(\"govdomin41.json\") as f:\n",
    "    data41 = json.load(f)\n",
    "for i in data41['results']:\n",
    "    white41.append(i['qname'])\n",
    "    white41.append(i['domain'])\n",
    "print(len(white41))"
   ]
  },
  {
   "cell_type": "code",
   "execution_count": 14,
   "metadata": {},
   "outputs": [
    {
     "name": "stdout",
     "output_type": "stream",
     "text": [
      "14872\n",
      "2109\n",
      "6068\n"
     ]
    }
   ],
   "source": [
    "white4 = check_tld(white4 + white41)"
   ]
  },
  {
   "cell_type": "code",
   "execution_count": 15,
   "metadata": {},
   "outputs": [
    {
     "name": "stdout",
     "output_type": "stream",
     "text": [
      "5832\n"
     ]
    }
   ],
   "source": [
    "white5 = []\n",
    "with open(\"govdomin5.json\") as f:\n",
    "    data5 = json.load(f)\n",
    "for i in data5['results']:\n",
    "    white5.append(i['qname'])\n",
    "    white5.append(i['domain'])\n",
    "print(len(white5))"
   ]
  },
  {
   "cell_type": "code",
   "execution_count": 16,
   "metadata": {},
   "outputs": [
    {
     "name": "stdout",
     "output_type": "stream",
     "text": [
      "5832\n",
      "735\n",
      "2916\n"
     ]
    }
   ],
   "source": [
    "white5 = check_tld(white5)"
   ]
  },
  {
   "cell_type": "code",
   "execution_count": 17,
   "metadata": {},
   "outputs": [
    {
     "name": "stdout",
     "output_type": "stream",
     "text": [
      "3398\n"
     ]
    }
   ],
   "source": [
    "white6 = []\n",
    "with open(\"govdomin6.json\") as f:\n",
    "    data6 = json.load(f)\n",
    "for i in data6['results']:\n",
    "    white6.append(i['qname'])\n",
    "    white6.append(i['domain'])\n",
    "print(len(white6))"
   ]
  },
  {
   "cell_type": "code",
   "execution_count": 18,
   "metadata": {},
   "outputs": [
    {
     "name": "stdout",
     "output_type": "stream",
     "text": [
      "3398\n",
      "869\n",
      "1481\n"
     ]
    }
   ],
   "source": [
    "white6 = check_tld(white6)"
   ]
  },
  {
   "cell_type": "code",
   "execution_count": 21,
   "metadata": {},
   "outputs": [
    {
     "name": "stdout",
     "output_type": "stream",
     "text": [
      "7788\n",
      "7788\n",
      "7394\n",
      "4972\n"
     ]
    }
   ],
   "source": [
    "all_gov = []\n",
    "for i in white1:\n",
    "    all_gov.append(i)\n",
    "for i in white2:\n",
    "    all_gov.append(i)\n",
    "for i in white3:\n",
    "    all_gov.append(i)\n",
    "for i in white4:\n",
    "    all_gov.append(i)\n",
    "for i in white5:\n",
    "    all_gov.append(i)\n",
    "for i in white6:\n",
    "    all_gov.append(i)\n",
    "\n",
    "print(len(all_gov))\n",
    "all_gov = check_tld(all_gov)"
   ]
  },
  {
   "cell_type": "code",
   "execution_count": 22,
   "metadata": {},
   "outputs": [
    {
     "name": "stdout",
     "output_type": "stream",
     "text": [
      "7394\n"
     ]
    }
   ],
   "source": [
    "print(len(all_gov))"
   ]
  },
  {
   "cell_type": "code",
   "execution_count": 23,
   "metadata": {},
   "outputs": [
    {
     "data": {
      "text/plain": [
       "array(['103.gov.kg', '10covid.stilingue.com.br', '10mm.com.br',\n",
       "       '146.169032dev.covid.host.adzu.edu.ph', '1551.gov.ua',\n",
       "       '210.213.146.169032dev.covid.host.adzu.edu.ph',\n",
       "       '213.146.169032www.covid-19.host.adzu.edu.ph',\n",
       "       '2368fs-intake-covid19screen.app.cloud.gov',\n",
       "       '324.covid19screen.fr.cloud.gov', '365online-covid19.edu.jo'],\n",
       "      dtype='<U85')"
      ]
     },
     "execution_count": 23,
     "metadata": {},
     "output_type": "execute_result"
    }
   ],
   "source": [
    "all_gov[:10]"
   ]
  },
  {
   "cell_type": "code",
   "execution_count": 24,
   "metadata": {},
   "outputs": [],
   "source": [
    "with open('govedu_domains.txt', 'w') as f:\n",
    "    for item in all_gov:\n",
    "        f.write(\"%s\\n\" % item)"
   ]
  },
  {
   "cell_type": "code",
   "execution_count": null,
   "metadata": {},
   "outputs": [],
   "source": []
  }
 ],
 "metadata": {
  "kernelspec": {
   "display_name": "Python 3",
   "language": "python",
   "name": "python3"
  },
  "language_info": {
   "codemirror_mode": {
    "name": "ipython",
    "version": 3
   },
   "file_extension": ".py",
   "mimetype": "text/x-python",
   "name": "python",
   "nbconvert_exporter": "python",
   "pygments_lexer": "ipython3",
   "version": "3.6.5"
  }
 },
 "nbformat": 4,
 "nbformat_minor": 2
}
