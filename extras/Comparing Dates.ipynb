{
 "cells": [
  {
   "cell_type": "code",
   "execution_count": 5,
   "metadata": {},
   "outputs": [],
   "source": [
    "import requests\n",
    "from bs4 import BeautifulSoup\n",
    "import numpy as np\n",
    "from tqdm import tqdm\n",
    "import pandas as pd"
   ]
  },
  {
   "cell_type": "markdown",
   "metadata": {},
   "source": [
    "# PhishLab"
   ]
  },
  {
   "cell_type": "code",
   "execution_count": null,
   "metadata": {},
   "outputs": [],
   "source": [
    "s = requests.Session()\n",
    "phishlab_url = \"https://docs.google.com/spreadsheets/u/0/d/e/2PACX-1vQsps3wI4wu7ZtBVFlX0dRdIBI9j9uEbT-5j4YdOx3bNxdT2SzS4EX69jtRlwrFyk9QeXNYN9vUT2Mj/pubhtml/sheet?headers=false&gid=0\"\n",
    "phishlab_page = s.get(phishlab_url)\n",
    "soup = BeautifulSoup(phishlab_page.content, 'lxml')\n",
    "tables = soup.find_all('td')  # all the tables present on the page"
   ]
  },
  {
   "cell_type": "code",
   "execution_count": null,
   "metadata": {},
   "outputs": [],
   "source": [
    "cols = [header.string for header in soup.findAll('td')]\n",
    "mal_dom = cols.index('Malicious Domain')\n",
    "add_date = cols.index('Date Added')\n",
    "domainpl = [td[mal_dom].string \n",
    "              for td in [tr.findAll('td') \n",
    "                         for tr in soup.find('tbody').findAll('tr')]]\n",
    "\n",
    "addedpl = [td[add_date].string \n",
    "              for td in [tr.findAll('td') \n",
    "                         for tr in soup.find('tbody').findAll('tr')]]"
   ]
  },
  {
   "cell_type": "code",
   "execution_count": null,
   "metadata": {},
   "outputs": [],
   "source": [
    "from tqdm import tqdm\n",
    "pldomain_dot = domainpl[2:]\n",
    "plab_domain = []\n",
    "for i in pldomain_dot:\n",
    "    j = i.replace('[.]','.')\n",
    "    plab_domain.append(j)"
   ]
  },
  {
   "cell_type": "code",
   "execution_count": null,
   "metadata": {},
   "outputs": [],
   "source": [
    "phishlab = {'Added': addedpl[2:], \n",
    "       'Domain': plab_domain}"
   ]
  },
  {
   "cell_type": "code",
   "execution_count": null,
   "metadata": {},
   "outputs": [],
   "source": [
    "final_phishlab = pd.DataFrame(phishlab)\n"
   ]
  },
  {
   "cell_type": "code",
   "execution_count": null,
   "metadata": {},
   "outputs": [],
   "source": [
    "final_phishlab.to_csv('phishlab_with_date.csv', index=False, header=True)"
   ]
  },
  {
   "cell_type": "markdown",
   "metadata": {},
   "source": [
    "# Domain Tools"
   ]
  },
  {
   "cell_type": "code",
   "execution_count": 6,
   "metadata": {},
   "outputs": [],
   "source": [
    "dt = pd.read_csv('confirmed_covid_dt.csv', sep='\\t', header=None)\n",
    "phishlab = pd.read_csv('phishlab_with_date.csv')"
   ]
  },
  {
   "cell_type": "code",
   "execution_count": 19,
   "metadata": {},
   "outputs": [],
   "source": [
    "# dt = dt.drop(dt[dt[2]<=90].index)"
   ]
  },
  {
   "cell_type": "code",
   "execution_count": 34,
   "metadata": {},
   "outputs": [],
   "source": [
    "#all_dt = dt[2].values.tolist()"
   ]
  },
  {
   "cell_type": "code",
   "execution_count": 19,
   "metadata": {},
   "outputs": [
    {
     "data": {
      "text/html": [
       "<div>\n",
       "<style scoped>\n",
       "    .dataframe tbody tr th:only-of-type {\n",
       "        vertical-align: middle;\n",
       "    }\n",
       "\n",
       "    .dataframe tbody tr th {\n",
       "        vertical-align: top;\n",
       "    }\n",
       "\n",
       "    .dataframe thead th {\n",
       "        text-align: right;\n",
       "    }\n",
       "</style>\n",
       "<table border=\"1\" class=\"dataframe\">\n",
       "  <thead>\n",
       "    <tr style=\"text-align: right;\">\n",
       "      <th></th>\n",
       "      <th>0</th>\n",
       "      <th>1</th>\n",
       "      <th>2</th>\n",
       "    </tr>\n",
       "  </thead>\n",
       "  <tbody>\n",
       "    <tr>\n",
       "      <th>0</th>\n",
       "      <td>covidwinkel.com</td>\n",
       "      <td>2020-10-14</td>\n",
       "      <td>99</td>\n",
       "    </tr>\n",
       "    <tr>\n",
       "      <th>1</th>\n",
       "      <td>mycovidwaivers.com</td>\n",
       "      <td>2020-10-14</td>\n",
       "      <td>99</td>\n",
       "    </tr>\n",
       "    <tr>\n",
       "      <th>2</th>\n",
       "      <td>covid19certificado.com</td>\n",
       "      <td>2020-10-13</td>\n",
       "      <td>99</td>\n",
       "    </tr>\n",
       "    <tr>\n",
       "      <th>3</th>\n",
       "      <td>coronaviruslivemap.tk</td>\n",
       "      <td>2020-10-13</td>\n",
       "      <td>99</td>\n",
       "    </tr>\n",
       "    <tr>\n",
       "      <th>4</th>\n",
       "      <td>entschaedigung-coronakrise.de</td>\n",
       "      <td>2020-10-13</td>\n",
       "      <td>99</td>\n",
       "    </tr>\n",
       "  </tbody>\n",
       "</table>\n",
       "</div>"
      ],
      "text/plain": [
       "                               0           1   2\n",
       "0                covidwinkel.com  2020-10-14  99\n",
       "1             mycovidwaivers.com  2020-10-14  99\n",
       "2         covid19certificado.com  2020-10-13  99\n",
       "3          coronaviruslivemap.tk  2020-10-13  99\n",
       "4  entschaedigung-coronakrise.de  2020-10-13  99"
      ]
     },
     "execution_count": 19,
     "metadata": {},
     "output_type": "execute_result"
    }
   ],
   "source": [
    "dt.head()"
   ]
  },
  {
   "cell_type": "code",
   "execution_count": 34,
   "metadata": {},
   "outputs": [],
   "source": [
    "date_pl = phishlab['Added'].values.tolist()\n",
    "date_dt = dt[1].values.tolist()\n",
    "domain_pl = phishlab['Domain'].values.tolist()\n",
    "domain_dt = dt[0].values.tolist()\n",
    "risk_dt = dt[2].values.tolist()"
   ]
  },
  {
   "cell_type": "code",
   "execution_count": 22,
   "metadata": {},
   "outputs": [
    {
     "name": "stderr",
     "output_type": "stream",
     "text": [
      "100%|████████████████████████████████████████████████████████████████████████████████| 323/323 [00:07<00:00, 45.12it/s]\n"
     ]
    }
   ],
   "source": [
    "in_pl = []\n",
    "in_dt = []\n",
    "for i in tqdm(range(len(domain_pl))):\n",
    "    for j in range(len(domain_dt)):\n",
    "        if domain_dt[j] == domain_pl[i]:\n",
    "            in_pl.append(i)\n",
    "            in_dt.append(j)"
   ]
  },
  {
   "cell_type": "code",
   "execution_count": 29,
   "metadata": {},
   "outputs": [],
   "source": [
    "def drop_duplicates(lst):\n",
    "  return list(dict.fromkeys(lst))"
   ]
  },
  {
   "cell_type": "code",
   "execution_count": 24,
   "metadata": {
    "collapsed": true
   },
   "outputs": [
    {
     "name": "stdout",
     "output_type": "stream",
     "text": [
      "[1, 2, 4, 5, 6, 7, 8, 9, 20, 54, 57, 66, 83, 88, 114, 127, 133, 155, 163, 183, 215, 249, 272, 289, 308] [1961, 3097, 36724, 36724, 36724, 36724, 36724, 36724, 1961, 2573, 57999, 2308, 6460, 2516, 63063, 3184, 3184, 3104, 3195, 87240, 80220, 14854, 5544, 29644, 55362]\n"
     ]
    }
   ],
   "source": [
    "print((in_pl), (in_dt))"
   ]
  },
  {
   "cell_type": "code",
   "execution_count": 33,
   "metadata": {
    "collapsed": true
   },
   "outputs": [
    {
     "name": "stdout",
     "output_type": "stream",
     "text": [
      "PhishLab vs Domain Tools\n",
      "9/1/20 2020-08-28\n",
      "8/31/20 2020-07-29\n",
      "8/31/20 2020-08-31\n",
      "8/31/20 2020-08-31\n",
      "8/31/20 2020-08-31\n",
      "8/31/20 2020-08-31\n",
      "8/31/20 2020-08-31\n",
      "8/31/20 2020-08-31\n",
      "8/29/20 2020-08-28\n",
      "8/21/20 2020-08-09\n",
      "8/20/20 2020-03-15\n",
      "8/17/20 2020-08-16\n",
      "8/11/20 2020-05-18\n",
      "8/10/20 2020-08-10\n",
      "8/4/20 2020-03-19\n",
      "8/2/20 2020-07-27\n",
      "8/2/20 2020-07-27\n",
      "7/29/20 2020-07-29\n",
      "7/27/20 2020-07-27\n",
      "7/21/20 2020-07-16\n",
      "7/14/20 2020-04-06\n",
      "7/10/20 2020-04-04\n",
      "7/7/20 2020-05-31\n",
      "7/4/20 2020-07-02\n",
      "7/2/20 2020-03-01\n"
     ]
    }
   ],
   "source": [
    "print(\"PhishLab vs Domain Tools\")\n",
    "for x in range(25):\n",
    "    print(date_pl[in_pl[x]], date_dt[in_dt[x]])"
   ]
  },
  {
   "cell_type": "code",
   "execution_count": 36,
   "metadata": {},
   "outputs": [
    {
     "name": "stdout",
     "output_type": "stream",
     "text": [
      "Domain Tools Risk\n",
      "99\n",
      "99\n",
      "97\n",
      "97\n",
      "97\n",
      "97\n",
      "97\n",
      "97\n",
      "99\n",
      "99\n",
      "92\n",
      "99\n",
      "99\n",
      "99\n",
      "90\n",
      "99\n",
      "99\n",
      "99\n",
      "99\n",
      "78\n",
      "82\n",
      "99\n",
      "99\n",
      "98\n",
      "93\n"
     ]
    }
   ],
   "source": [
    "print(\"Domain Tools Risk\")\n",
    "for x in range(25):\n",
    "    print(risk_dt[in_dt[x]])"
   ]
  },
  {
   "cell_type": "code",
   "execution_count": null,
   "metadata": {},
   "outputs": [],
   "source": []
  }
 ],
 "metadata": {
  "kernelspec": {
   "display_name": "Python 3",
   "language": "python",
   "name": "python3"
  },
  "language_info": {
   "codemirror_mode": {
    "name": "ipython",
    "version": 3
   },
   "file_extension": ".py",
   "mimetype": "text/x-python",
   "name": "python",
   "nbconvert_exporter": "python",
   "pygments_lexer": "ipython3",
   "version": "3.6.5"
  }
 },
 "nbformat": 4,
 "nbformat_minor": 2
}
