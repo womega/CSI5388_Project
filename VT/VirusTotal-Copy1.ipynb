{
 "cells": [
  {
   "cell_type": "markdown",
   "metadata": {},
   "source": [
    "# Imports"
   ]
  },
  {
   "cell_type": "code",
   "execution_count": 1,
   "metadata": {
    "ExecuteTime": {
     "end_time": "2020-12-22T01:53:31.680166Z",
     "start_time": "2020-12-22T01:53:30.607039Z"
    }
   },
   "outputs": [],
   "source": [
    "import pandas as pd\n",
    "import numpy as np\n",
    "import seaborn as sns\n",
    "import matplotlib.pyplot as plt\n",
    "import numpy as np\n",
    "#from tldextract import extract\n",
    "import wordninja\n",
    "from tqdm import tqdm\n",
    "import re\n",
    "from collections import Counter\n",
    "import math\n",
    "import dnstwist "
   ]
  },
  {
   "cell_type": "code",
   "execution_count": 2,
   "metadata": {
    "ExecuteTime": {
     "end_time": "2020-12-22T01:53:33.649892Z",
     "start_time": "2020-12-22T01:53:33.171174Z"
    }
   },
   "outputs": [],
   "source": [
    "unlabeled_data = pd.read_csv('final_unlabeled.csv')\n",
    "#malicious_data = pd.read_csv('final_malicious.csv')\n",
    "#whitelist_data = pd.read_csv('final_whitelist_with_keyword.csv')"
   ]
  },
  {
   "cell_type": "code",
   "execution_count": 3,
   "metadata": {
    "ExecuteTime": {
     "end_time": "2020-12-22T01:53:33.907205Z",
     "start_time": "2020-12-22T01:53:33.899225Z"
    }
   },
   "outputs": [],
   "source": [
    "unlabeled_list = unlabeled_data['Domain'].values.tolist()\n",
    "#malicious_list = malicious_data['Domain'].values.tolist()\n",
    "#whitelist_list = whitelist_data['Domain'].values.tolist()"
   ]
  },
  {
   "cell_type": "markdown",
   "metadata": {},
   "source": [
    "# VT"
   ]
  },
  {
   "cell_type": "code",
   "execution_count": 4,
   "metadata": {
    "ExecuteTime": {
     "end_time": "2020-12-19T06:58:38.872714Z",
     "start_time": "2020-12-19T06:58:38.511985Z"
    }
   },
   "outputs": [
    {
     "data": {
      "text/plain": [
       "numpy.ndarray"
      ]
     },
     "execution_count": 4,
     "metadata": {},
     "output_type": "execute_result"
    }
   ],
   "source": [
    "type(unlabeled_data.values)"
   ]
  },
  {
   "cell_type": "code",
   "execution_count": 4,
   "metadata": {
    "ExecuteTime": {
     "end_time": "2020-12-22T01:53:37.446764Z",
     "start_time": "2020-12-22T01:53:37.443768Z"
    }
   },
   "outputs": [],
   "source": [
    "from tqdm import tqdm\n",
    "import time"
   ]
  },
  {
   "cell_type": "code",
   "execution_count": 5,
   "metadata": {
    "ExecuteTime": {
     "end_time": "2020-12-22T01:53:38.893884Z",
     "start_time": "2020-12-22T01:53:38.890886Z"
    }
   },
   "outputs": [],
   "source": [
    "import requests\n",
    "\n",
    "url = 'https://www.virustotal.com/vtapi/v2/url/report'\n",
    "\n",
    "u_l = unlabeled_list[64553:74553]\n",
    "res = []\n",
    "sources = []\n",
    "doms = []"
   ]
  },
  {
   "cell_type": "code",
   "execution_count": 17,
   "metadata": {
    "ExecuteTime": {
     "end_time": "2020-12-22T13:47:53.739463Z",
     "start_time": "2020-12-22T13:37:03.958561Z"
    }
   },
   "outputs": [
    {
     "name": "stderr",
     "output_type": "stream",
     "text": [
      "100%|████████████████████████████████████████████████████████████████████████████████| 481/481 [10:49<00:00,  1.35s/it]\n"
     ]
    }
   ],
   "source": [
    "t = 0\n",
    "getattr(tqdm, '_instances', {}).clear()\n",
    "for i in tqdm(u_l[130+2377+298+178+1144+1063+540+2089+1483+187+30:]):\n",
    "    params = {'apikey': 'f7bb2c16c9230e5ce161cb5b36e47a2c282a578c91daf01712bf446c7ba73607', 'resource':i}\n",
    "    response = requests.get(url, params=params)\n",
    "    js = response.json()\n",
    "    flag = 0\n",
    "    s = []\n",
    "    if js['response_code']:\n",
    "        for j in js['scans']:\n",
    "            if js['scans'][j]['detected']:\n",
    "                flag += 1\n",
    "                s.append(j)\n",
    "    if flag:\n",
    "        res.append(1)\n",
    "        sources.append(s)\n",
    "    else:\n",
    "        res.append(0)\n",
    "        sources.append('clean')\n",
    "    doms.append(i)\n",
    "    #time.sleep(15)"
   ]
  },
  {
   "cell_type": "code",
   "execution_count": 19,
   "metadata": {
    "ExecuteTime": {
     "end_time": "2020-12-22T13:48:38.841043Z",
     "start_time": "2020-12-22T13:48:38.835060Z"
    }
   },
   "outputs": [
    {
     "data": {
      "text/plain": [
       "Counter({0: 9216, 1: 784})"
      ]
     },
     "execution_count": 19,
     "metadata": {},
     "output_type": "execute_result"
    }
   ],
   "source": [
    "Counter(res)"
   ]
  },
  {
   "cell_type": "code",
   "execution_count": 20,
   "metadata": {
    "ExecuteTime": {
     "end_time": "2020-12-22T13:49:09.766078Z",
     "start_time": "2020-12-22T13:49:09.632041Z"
    }
   },
   "outputs": [],
   "source": [
    "df1 = pd.read_csv('vt_labels.csv')"
   ]
  },
  {
   "cell_type": "code",
   "execution_count": 21,
   "metadata": {
    "ExecuteTime": {
     "end_time": "2020-12-22T13:49:10.078343Z",
     "start_time": "2020-12-22T13:49:10.070335Z"
    }
   },
   "outputs": [],
   "source": [
    "vtdoms1 = df1.Domains.values.tolist()\n",
    "vtsrc1 = df1.Sources.values.tolist()\n",
    "vtlabl1 = df1.Labels.values.tolist()"
   ]
  },
  {
   "cell_type": "code",
   "execution_count": 22,
   "metadata": {
    "ExecuteTime": {
     "end_time": "2020-12-22T13:49:11.318436Z",
     "start_time": "2020-12-22T13:49:11.270184Z"
    }
   },
   "outputs": [],
   "source": [
    "vt_labels = pd.Series(vtlabl1 + res, name='Labels')\n",
    "vt_sources = pd.Series(vtsrc1 + sources, name='Sources')\n",
    "vt_doms = pd.Series(vtdoms1 + doms, name='Domains')\n",
    "vt_f = pd.concat([vt_doms, vt_labels, vt_sources], axis=1)"
   ]
  },
  {
   "cell_type": "code",
   "execution_count": 23,
   "metadata": {
    "ExecuteTime": {
     "end_time": "2020-12-22T13:49:21.349693Z",
     "start_time": "2020-12-22T13:49:21.189867Z"
    }
   },
   "outputs": [],
   "source": [
    "vt_f.to_csv(\"vt_labels_.csv\", index=False)"
   ]
  },
  {
   "cell_type": "code",
   "execution_count": 30,
   "metadata": {},
   "outputs": [
    {
     "data": {
      "text/plain": [
       "50553"
      ]
     },
     "execution_count": 30,
     "metadata": {},
     "output_type": "execute_result"
    }
   ],
   "source": [
    "len(df1) + len(df2) + len(res)"
   ]
  }
 ],
 "metadata": {
  "kernelspec": {
   "display_name": "Python 3",
   "language": "python",
   "name": "python3"
  },
  "language_info": {
   "codemirror_mode": {
    "name": "ipython",
    "version": 3
   },
   "file_extension": ".py",
   "mimetype": "text/x-python",
   "name": "python",
   "nbconvert_exporter": "python",
   "pygments_lexer": "ipython3",
   "version": "3.6.5"
  },
  "latex_envs": {
   "LaTeX_envs_menu_present": true,
   "autoclose": false,
   "autocomplete": true,
   "bibliofile": "biblio.bib",
   "cite_by": "apalike",
   "current_citInitial": 1,
   "eqLabelWithNumbers": true,
   "eqNumInitial": 1,
   "hotkeys": {
    "equation": "Ctrl-E",
    "itemize": "Ctrl-I"
   },
   "labels_anchors": false,
   "latex_user_defs": false,
   "report_style_numbering": false,
   "user_envs_cfg": false
  },
  "toc": {
   "base_numbering": 1,
   "nav_menu": {},
   "number_sections": true,
   "sideBar": true,
   "skip_h1_title": false,
   "title_cell": "Table of Contents",
   "title_sidebar": "Contents",
   "toc_cell": false,
   "toc_position": {
    "height": "calc(100% - 180px)",
    "left": "10px",
    "top": "150px",
    "width": "228px"
   },
   "toc_section_display": true,
   "toc_window_display": true
  }
 },
 "nbformat": 4,
 "nbformat_minor": 2
}
