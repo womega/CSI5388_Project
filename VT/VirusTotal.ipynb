{
 "cells": [
  {
   "cell_type": "markdown",
   "metadata": {},
   "source": [
    "# Imports"
   ]
  },
  {
   "cell_type": "code",
   "execution_count": 3,
   "metadata": {
    "ExecuteTime": {
     "end_time": "2020-12-22T01:52:00.195001Z",
     "start_time": "2020-12-22T01:51:48.908457Z"
    }
   },
   "outputs": [],
   "source": [
    "import pandas as pd\n",
    "import numpy as np\n",
    "import seaborn as sns\n",
    "import matplotlib.pyplot as plt\n",
    "import numpy as np\n",
    "#from tldextract import extract\n",
    "import wordninja\n",
    "from tqdm import tqdm\n",
    "import re\n",
    "from collections import Counter\n",
    "import math\n",
    "import dnstwist "
   ]
  },
  {
   "cell_type": "code",
   "execution_count": 4,
   "metadata": {
    "ExecuteTime": {
     "end_time": "2020-12-22T01:52:00.755851Z",
     "start_time": "2020-12-22T01:52:00.195876Z"
    }
   },
   "outputs": [],
   "source": [
    "unlabeled_data = pd.read_csv('final_unlabeled.csv')\n",
    "#malicious_data = pd.read_csv('final_malicious.csv')\n",
    "#whitelist_data = pd.read_csv('final_whitelist_with_keyword.csv')"
   ]
  },
  {
   "cell_type": "code",
   "execution_count": 5,
   "metadata": {
    "ExecuteTime": {
     "end_time": "2020-12-22T01:52:00.765787Z",
     "start_time": "2020-12-22T01:52:00.756810Z"
    }
   },
   "outputs": [],
   "source": [
    "unlabeled_list = unlabeled_data['Domain'].values.tolist()\n",
    "#malicious_list = malicious_data['Domain'].values.tolist()\n",
    "#whitelist_list = whitelist_data['Domain'].values.tolist()"
   ]
  },
  {
   "cell_type": "markdown",
   "metadata": {},
   "source": [
    "# VT"
   ]
  },
  {
   "cell_type": "code",
   "execution_count": 6,
   "metadata": {
    "ExecuteTime": {
     "end_time": "2020-12-18T13:35:07.940408Z",
     "start_time": "2020-12-18T13:35:07.396882Z"
    }
   },
   "outputs": [
    {
     "data": {
      "text/plain": [
       "numpy.ndarray"
      ]
     },
     "execution_count": 6,
     "metadata": {},
     "output_type": "execute_result"
    }
   ],
   "source": [
    "type(unlabeled_data.values)"
   ]
  },
  {
   "cell_type": "code",
   "execution_count": 6,
   "metadata": {
    "ExecuteTime": {
     "end_time": "2020-12-22T01:52:02.766383Z",
     "start_time": "2020-12-22T01:52:02.763359Z"
    }
   },
   "outputs": [],
   "source": [
    "from tqdm import tqdm\n",
    "import time"
   ]
  },
  {
   "cell_type": "code",
   "execution_count": 11,
   "metadata": {
    "ExecuteTime": {
     "end_time": "2020-12-22T01:53:00.903323Z",
     "start_time": "2020-12-22T01:53:00.900330Z"
    }
   },
   "outputs": [],
   "source": [
    "import requests\n",
    "\n",
    "url = 'https://www.virustotal.com/vtapi/v2/url/report'\n",
    "\n",
    "u_l = unlabeled_list[54553:64553]\n",
    "res = []\n",
    "sources = []\n",
    "doms = []"
   ]
  },
  {
   "cell_type": "code",
   "execution_count": 18,
   "metadata": {
    "ExecuteTime": {
     "end_time": "2020-12-22T08:35:16.513569Z",
     "start_time": "2020-12-22T06:11:59.876251Z"
    }
   },
   "outputs": [
    {
     "name": "stderr",
     "output_type": "stream",
     "text": [
      "100%|████████████████████████████████████████████████████████████████████████████| 5570/5570 [2:23:16<00:00,  1.54s/it]\n"
     ]
    }
   ],
   "source": [
    "t = 0\n",
    "getattr(tqdm, '_instances', {}).clear()\n",
    "for i in tqdm(u_l[151+2329+1593+279+78:]):\n",
    "    params = {'apikey': 'f7bb2c16c9230e5ce161cb5b36e47a2c282a578c91daf01712bf446c7ba73607', 'resource':i}\n",
    "    response = requests.get(url, params=params)\n",
    "    js = response.json()\n",
    "    flag = 0\n",
    "    s = []\n",
    "    if js['response_code']:\n",
    "        for j in js['scans']:\n",
    "            if js['scans'][j]['detected']:\n",
    "                flag += 1\n",
    "                s.append(j)\n",
    "    if flag:\n",
    "        res.append(1)\n",
    "        sources.append(s)\n",
    "    else:\n",
    "        res.append(0)\n",
    "        sources.append('clean')\n",
    "    doms.append(i)\n",
    "    #time.sleep(15)"
   ]
  },
  {
   "cell_type": "code",
   "execution_count": 25,
   "metadata": {
    "ExecuteTime": {
     "end_time": "2020-12-22T13:23:57.580407Z",
     "start_time": "2020-12-22T13:23:57.575422Z"
    }
   },
   "outputs": [
    {
     "data": {
      "text/plain": [
       "10001"
      ]
     },
     "execution_count": 25,
     "metadata": {},
     "output_type": "execute_result"
    }
   ],
   "source": [
    "len(sources)"
   ]
  },
  {
   "cell_type": "code",
   "execution_count": 40,
   "metadata": {
    "ExecuteTime": {
     "end_time": "2020-12-22T13:33:49.772310Z",
     "start_time": "2020-12-22T13:33:49.722336Z"
    }
   },
   "outputs": [],
   "source": [
    "df1 = pd.read_csv('vt_labels.csv')"
   ]
  },
  {
   "cell_type": "code",
   "execution_count": 41,
   "metadata": {
    "ExecuteTime": {
     "end_time": "2020-12-22T13:33:50.169364Z",
     "start_time": "2020-12-22T13:33:50.162382Z"
    }
   },
   "outputs": [],
   "source": [
    "vtdoms1 = df1.Domains.values.tolist()\n",
    "vtsrc1 = df1.Sources.values.tolist()\n",
    "vtlabl1 = df1.Labels.values.tolist()"
   ]
  },
  {
   "cell_type": "code",
   "execution_count": 42,
   "metadata": {
    "ExecuteTime": {
     "end_time": "2020-12-22T13:33:50.636694Z",
     "start_time": "2020-12-22T13:33:50.609826Z"
    }
   },
   "outputs": [],
   "source": [
    "vt_labels = pd.Series(vtlabl1 + res, name='Labels')\n",
    "vt_sources = pd.Series(vtsrc1 + sources, name='Sources')\n",
    "vt_doms = pd.Series(vtdoms1 + doms, name='Domains')\n",
    "vt_f = pd.concat([vt_doms, vt_labels, vt_sources], axis=1)"
   ]
  },
  {
   "cell_type": "code",
   "execution_count": 38,
   "metadata": {
    "ExecuteTime": {
     "end_time": "2020-12-22T13:32:58.401290Z",
     "start_time": "2020-12-22T13:32:58.390331Z"
    }
   },
   "outputs": [],
   "source": [
    "vt_labels = pd.Series(res, name='Labels')\n",
    "vt_sources = pd.Series(sources, name='Sources')\n",
    "vt_doms = pd.Series(doms, name='Domains')\n",
    "vt_f = pd.concat([vt_doms, vt_labels, vt_sources], axis=1)"
   ]
  },
  {
   "cell_type": "code",
   "execution_count": 43,
   "metadata": {
    "ExecuteTime": {
     "end_time": "2020-12-22T13:34:09.874999Z",
     "start_time": "2020-12-22T13:34:09.727856Z"
    }
   },
   "outputs": [],
   "source": [
    "vt_f.to_csv(\"vt_labels.csv\", index=False)"
   ]
  },
  {
   "cell_type": "code",
   "execution_count": 37,
   "metadata": {
    "ExecuteTime": {
     "end_time": "2020-12-22T13:32:51.476809Z",
     "start_time": "2020-12-22T13:32:51.473814Z"
    }
   },
   "outputs": [
    {
     "data": {
      "text/plain": [
       "'clean'"
      ]
     },
     "execution_count": 37,
     "metadata": {},
     "output_type": "execute_result"
    }
   ],
   "source": [
    "sources.pop(0)"
   ]
  },
  {
   "cell_type": "code",
   "execution_count": 8,
   "metadata": {
    "ExecuteTime": {
     "end_time": "2020-12-22T01:52:09.451888Z",
     "start_time": "2020-12-22T01:52:08.028516Z"
    }
   },
   "outputs": [],
   "source": [
    "params = {'apikey': 'f7bb2c16c9230e5ce161cb5b36e47a2c282a578c91daf01712bf446c7ba73607', 'resource':'c0vidrbcsoul.com', 'allinfo': 'true', 'scan':'1'}\n",
    "response = requests.get(url, params=params)\n",
    "js = response.json()"
   ]
  },
  {
   "cell_type": "code",
   "execution_count": 9,
   "metadata": {
    "ExecuteTime": {
     "end_time": "2020-12-22T01:52:10.961584Z",
     "start_time": "2020-12-22T01:52:10.955601Z"
    }
   },
   "outputs": [
    {
     "data": {
      "text/plain": [
       "{'sophos category': 'illegal phishing, phishing and fraud',\n",
       " 'Response content SHA-256': 'd88de330316512687e735ebd49ce91d426b77b139df4a8b2dc07478d8c6bdb9c',\n",
       " 'URL after redirects': 'http://c0vidrbcsoul.com/',\n",
       " 'rlength': 90394,\n",
       " 'Forcepoint ThreatSeeker category': 'malicious web sites',\n",
       " 'Comodo Valkyrie Verdict category': 'professional networking ',\n",
       " 'Response code': 200,\n",
       " 'Response headers': {'content-length': '90394',\n",
       "  'upgrade': 'h2,h2c',\n",
       "  'x-powered-by': 'PHP/7.3.14',\n",
       "  'vary': 'Accept-Encoding,User-Agent',\n",
       "  'keep-alive': 'timeout=5',\n",
       "  'server': 'Apache',\n",
       "  'connection': 'Upgrade, Keep-Alive',\n",
       "  'date': 'Wed, 25 Mar 2020 13:51:03 GMT',\n",
       "  'content-type': 'text/html; charset=UTF-8'},\n",
       " 'resolution': '107.180.54.210'}"
      ]
     },
     "execution_count": 9,
     "metadata": {},
     "output_type": "execute_result"
    }
   ],
   "source": [
    "js['additional_info']"
   ]
  },
  {
   "cell_type": "code",
   "execution_count": null,
   "metadata": {},
   "outputs": [],
   "source": []
  }
 ],
 "metadata": {
  "kernelspec": {
   "display_name": "Python 3",
   "language": "python",
   "name": "python3"
  },
  "language_info": {
   "codemirror_mode": {
    "name": "ipython",
    "version": 3
   },
   "file_extension": ".py",
   "mimetype": "text/x-python",
   "name": "python",
   "nbconvert_exporter": "python",
   "pygments_lexer": "ipython3",
   "version": "3.6.5"
  },
  "latex_envs": {
   "LaTeX_envs_menu_present": true,
   "autoclose": false,
   "autocomplete": true,
   "bibliofile": "biblio.bib",
   "cite_by": "apalike",
   "current_citInitial": 1,
   "eqLabelWithNumbers": true,
   "eqNumInitial": 1,
   "hotkeys": {
    "equation": "Ctrl-E",
    "itemize": "Ctrl-I"
   },
   "labels_anchors": false,
   "latex_user_defs": false,
   "report_style_numbering": false,
   "user_envs_cfg": false
  },
  "toc": {
   "base_numbering": 1,
   "nav_menu": {},
   "number_sections": true,
   "sideBar": true,
   "skip_h1_title": false,
   "title_cell": "Table of Contents",
   "title_sidebar": "Contents",
   "toc_cell": false,
   "toc_position": {
    "height": "calc(100% - 180px)",
    "left": "10px",
    "top": "150px",
    "width": "228px"
   },
   "toc_section_display": true,
   "toc_window_display": true
  }
 },
 "nbformat": 4,
 "nbformat_minor": 2
}
