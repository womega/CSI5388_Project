{
 "cells": [
  {
   "cell_type": "markdown",
   "metadata": {},
   "source": [
    "# Imports"
   ]
  },
  {
   "cell_type": "code",
   "execution_count": 1,
   "metadata": {
    "ExecuteTime": {
     "end_time": "2021-01-12T14:32:34.694148Z",
     "start_time": "2021-01-12T14:32:27.949108Z"
    }
   },
   "outputs": [],
   "source": [
    "import pandas as pd\n",
    "import numpy as np\n",
    "import seaborn as sns\n",
    "import matplotlib.pyplot as plt\n",
    "import numpy as np\n",
    "#from tldextract import extract\n",
    "import wordninja\n",
    "from tqdm import tqdm\n",
    "import re\n",
    "from collections import Counter\n",
    "import math\n",
    "import dnstwist "
   ]
  },
  {
   "cell_type": "code",
   "execution_count": 2,
   "metadata": {
    "ExecuteTime": {
     "end_time": "2021-01-12T14:32:35.710545Z",
     "start_time": "2021-01-12T14:32:34.697147Z"
    }
   },
   "outputs": [],
   "source": [
    "unlabeled_data = pd.read_csv('final_unlabeled.csv')\n",
    "#malicious_data = pd.read_csv('final_malicious.csv')\n",
    "#whitelist_data = pd.read_csv('final_whitelist_with_keyword.csv')"
   ]
  },
  {
   "cell_type": "code",
   "execution_count": 3,
   "metadata": {
    "ExecuteTime": {
     "end_time": "2021-01-12T14:32:35.742526Z",
     "start_time": "2021-01-12T14:32:35.713544Z"
    }
   },
   "outputs": [],
   "source": [
    "unlabeled_list = unlabeled_data['Domain'].values.tolist()\n",
    "#malicious_list = malicious_data['Domain'].values.tolist()\n",
    "#whitelist_list = whitelist_data['Domain'].values.tolist()"
   ]
  },
  {
   "cell_type": "markdown",
   "metadata": {},
   "source": [
    "# VT"
   ]
  },
  {
   "cell_type": "code",
   "execution_count": 4,
   "metadata": {
    "ExecuteTime": {
     "end_time": "2021-01-12T14:32:36.191926Z",
     "start_time": "2021-01-12T14:32:35.746525Z"
    }
   },
   "outputs": [
    {
     "data": {
      "text/plain": [
       "numpy.ndarray"
      ]
     },
     "execution_count": 4,
     "metadata": {},
     "output_type": "execute_result"
    }
   ],
   "source": [
    "type(unlabeled_data.values)"
   ]
  },
  {
   "cell_type": "code",
   "execution_count": 5,
   "metadata": {
    "ExecuteTime": {
     "end_time": "2021-01-12T14:32:36.206935Z",
     "start_time": "2021-01-12T14:32:36.194927Z"
    }
   },
   "outputs": [],
   "source": [
    "from tqdm import tqdm\n",
    "import time"
   ]
  },
  {
   "cell_type": "code",
   "execution_count": 6,
   "metadata": {
    "ExecuteTime": {
     "end_time": "2021-01-12T14:33:00.142736Z",
     "start_time": "2021-01-12T14:33:00.137725Z"
    }
   },
   "outputs": [],
   "source": [
    "import requests\n",
    "\n",
    "url = 'https://www.virustotal.com/vtapi/v2/url/report'\n",
    "dom = 'https://www.virustotal.com/vtapi/v2/domain/report'\n",
    "\n",
    "\n",
    "res = []\n",
    "sources = []\n",
    "doms = []"
   ]
  },
  {
   "cell_type": "code",
   "execution_count": 13,
   "metadata": {
    "ExecuteTime": {
     "end_time": "2021-01-12T14:43:13.122101Z",
     "start_time": "2021-01-12T14:43:13.118105Z"
    }
   },
   "outputs": [],
   "source": [
    "u_l = unlabeled_list[13000:13000]"
   ]
  },
  {
   "cell_type": "code",
   "execution_count": 14,
   "metadata": {
    "ExecuteTime": {
     "end_time": "2021-01-12T14:54:19.114131Z",
     "start_time": "2021-01-12T14:43:43.031259Z"
    }
   },
   "outputs": [
    {
     "name": "stderr",
     "output_type": "stream",
     "text": [
      "100%|██████████████████████████████████████████████████████████████████████████████| 2000/2000 [10:36<00:00,  3.14it/s]\n"
     ]
    }
   ],
   "source": [
    "t = 0\n",
    "getattr(tqdm, '_instances', {}).clear()\n",
    "for i in tqdm(u_l):\n",
    "    params = {'apikey': 'f7bb2c16c9230e5ce161cb5b36e47a2c282a578c91daf01712bf446c7ba73607', 'domain':i}\n",
    "    response = requests.get(dom, params=params)\n",
    "    js = response.json()\n",
    "    flag = 0\n",
    "    s = []\n",
    "    if js['response_code']:\n",
    "        if js['detected_urls']:\n",
    "            res.append(1)\n",
    "        else:\n",
    "            res.append(0)\n",
    "    else:\n",
    "        res.append('not_found')\n",
    "    #time.sleep(15)"
   ]
  },
  {
   "cell_type": "code",
   "execution_count": 16,
   "metadata": {
    "ExecuteTime": {
     "end_time": "2021-01-12T14:54:59.306941Z",
     "start_time": "2021-01-12T14:54:58.737684Z"
    }
   },
   "outputs": [],
   "source": [
    "df1 = pd.read_csv('vt_labels.csv')\n",
    "\n",
    "#vtdoms1 = df1.Domains.values.tolist()\n",
    "#vtsrc1 = df1.Sources.values.tolist()\n",
    "\n",
    "vtlabl1 = df1.Labels.values.tolist()[10000:13000]"
   ]
  },
  {
   "cell_type": "code",
   "execution_count": 17,
   "metadata": {
    "ExecuteTime": {
     "end_time": "2021-01-12T14:55:01.707029Z",
     "start_time": "2021-01-12T14:55:01.688040Z"
    }
   },
   "outputs": [
    {
     "name": "stdout",
     "output_type": "stream",
     "text": [
      "before Counter({0: 2816, 1: 184})\n",
      "after Counter({'not_found': 2455, 0: 360, 1: 185})\n"
     ]
    }
   ],
   "source": [
    "print('before', Counter(vtlabl1))\n",
    "print('after', Counter(res))"
   ]
  },
  {
   "cell_type": "code",
   "execution_count": 18,
   "metadata": {
    "ExecuteTime": {
     "end_time": "2021-01-12T14:59:57.043180Z",
     "start_time": "2021-01-12T14:59:56.976197Z"
    }
   },
   "outputs": [],
   "source": [
    "vt_labels = pd.Series(res, name='Labels')\n",
    "#vt_sources = pd.Series(vtsrc1 + sources, name='Sources')\n",
    "vt_doms = pd.Series(unlabeled_list[10000:13000], name='Domains')\n",
    "vt_f = pd.concat([vt_doms, vt_labels], axis=1)"
   ]
  },
  {
   "cell_type": "code",
   "execution_count": 19,
   "metadata": {
    "ExecuteTime": {
     "end_time": "2021-01-12T14:59:59.345488Z",
     "start_time": "2021-01-12T14:59:58.990391Z"
    }
   },
   "outputs": [],
   "source": [
    "vt_f.to_csv(\"vt_labels_doms_1.csv\", index=False)"
   ]
  },
  {
   "cell_type": "code",
   "execution_count": 30,
   "metadata": {},
   "outputs": [
    {
     "data": {
      "text/plain": [
       "50553"
      ]
     },
     "execution_count": 30,
     "metadata": {},
     "output_type": "execute_result"
    }
   ],
   "source": [
    "len(df1) + len(df2) + len(res)"
   ]
  }
 ],
 "metadata": {
  "kernelspec": {
   "display_name": "Python 3",
   "language": "python",
   "name": "python3"
  },
  "language_info": {
   "codemirror_mode": {
    "name": "ipython",
    "version": 3
   },
   "file_extension": ".py",
   "mimetype": "text/x-python",
   "name": "python",
   "nbconvert_exporter": "python",
   "pygments_lexer": "ipython3",
   "version": "3.6.5"
  },
  "latex_envs": {
   "LaTeX_envs_menu_present": true,
   "autoclose": false,
   "autocomplete": true,
   "bibliofile": "biblio.bib",
   "cite_by": "apalike",
   "current_citInitial": 1,
   "eqLabelWithNumbers": true,
   "eqNumInitial": 1,
   "hotkeys": {
    "equation": "Ctrl-E",
    "itemize": "Ctrl-I"
   },
   "labels_anchors": false,
   "latex_user_defs": false,
   "report_style_numbering": false,
   "user_envs_cfg": false
  },
  "toc": {
   "base_numbering": 1,
   "nav_menu": {},
   "number_sections": true,
   "sideBar": true,
   "skip_h1_title": false,
   "title_cell": "Table of Contents",
   "title_sidebar": "Contents",
   "toc_cell": false,
   "toc_position": {
    "height": "calc(100% - 180px)",
    "left": "10px",
    "top": "150px",
    "width": "228px"
   },
   "toc_section_display": true,
   "toc_window_display": true
  }
 },
 "nbformat": 4,
 "nbformat_minor": 2
}
