{
 "cells": [
  {
   "cell_type": "code",
   "execution_count": 155,
   "metadata": {
    "ExecuteTime": {
     "end_time": "2020-12-20T06:49:53.436780Z",
     "start_time": "2020-12-20T06:49:52.318648Z"
    }
   },
   "outputs": [],
   "source": [
    "from sklearn.metrics import cohen_kappa_score, confusion_matrix, make_scorer, recall_score, f1_score\n",
    "import numpy as np\n",
    "import pandas as pd\n",
    "from collections import Counter\n",
    "from tqdm import tqdm"
   ]
  },
  {
   "cell_type": "code",
   "execution_count": 175,
   "metadata": {
    "ExecuteTime": {
     "end_time": "2020-12-20T07:07:39.652953Z",
     "start_time": "2020-12-20T07:07:38.937284Z"
    }
   },
   "outputs": [],
   "source": [
    "predictions = pd.read_csv('unlabeled_predictions.csv')\n",
    "labels = pd.read_csv(\"vt_labels.csv\").Labels.values.tolist()\n",
    "labels_1 = pd.read_csv(\"vt_labels_1.csv\").Labels.values.tolist()"
   ]
  },
  {
   "cell_type": "code",
   "execution_count": 157,
   "metadata": {
    "ExecuteTime": {
     "end_time": "2020-12-20T06:49:58.408486Z",
     "start_time": "2020-12-20T06:49:58.322745Z"
    }
   },
   "outputs": [],
   "source": [
    "def specificity(y_true, y_pred): \n",
    "    tn = confusion_matrix(y_true, y_pred)[0, 0]\n",
    "    fp = confusion_matrix(y_true, y_pred)[0, 1]\n",
    "    neg = tn + fp\n",
    "    return tn/neg\n",
    "\n"
   ]
  },
  {
   "cell_type": "code",
   "execution_count": 176,
   "metadata": {
    "ExecuteTime": {
     "end_time": "2020-12-20T07:07:54.336673Z",
     "start_time": "2020-12-20T07:07:54.331659Z"
    }
   },
   "outputs": [
    {
     "data": {
      "text/plain": [
       "4578"
      ]
     },
     "execution_count": 176,
     "metadata": {},
     "output_type": "execute_result"
    }
   ],
   "source": [
    "len(labels_1)"
   ]
  },
  {
   "cell_type": "code",
   "execution_count": 159,
   "metadata": {
    "ExecuteTime": {
     "end_time": "2020-12-20T06:50:13.766005Z",
     "start_time": "2020-12-20T06:50:11.337739Z"
    }
   },
   "outputs": [],
   "source": [
    "ht_sd = predictions['Labeled with subdomains'].values.tolist()\n",
    "ht_nosd = predictions['Labeled w/o subdomains'].values.tolist()\n",
    "dtc = predictions['Labeled dtc'].values.tolist()\n",
    "rfc = predictions['Labeled rfc'].values.tolist()\n",
    "xgb = predictions['Labeled xgb'].values.tolist()\n",
    "gbc = predictions['Labeled gbc'].values.tolist()\n",
    "mlp = predictions['Labeled mlp'].values.tolist()\n",
    "svc = predictions['Labeled svc'].values.tolist()\n",
    "\n",
    "dtc_sd = predictions['Labeled dtc_sd'].values.tolist()\n",
    "rfc_sd = predictions['Labeled rfc_sd'].values.tolist()\n",
    "xgb_sd = predictions['Labeled xgb_sd'].values.tolist()\n",
    "gbc_sd = predictions['Labeled gbc_sd'].values.tolist()\n",
    "mlp_sd = predictions['Labeled mlp_sd'].values.tolist()\n",
    "svc_sd = predictions['Labeled svc_sd'].values.tolist()"
   ]
  },
  {
   "cell_type": "code",
   "execution_count": 160,
   "metadata": {
    "ExecuteTime": {
     "end_time": "2020-12-20T06:50:15.345268Z",
     "start_time": "2020-12-20T06:50:14.749997Z"
    }
   },
   "outputs": [],
   "source": [
    "predictions.drop('Domain', inplace=True, axis=1)\n"
   ]
  },
  {
   "cell_type": "code",
   "execution_count": 161,
   "metadata": {
    "ExecuteTime": {
     "end_time": "2020-12-20T06:50:15.439212Z",
     "start_time": "2020-12-20T06:50:15.350264Z"
    }
   },
   "outputs": [
    {
     "data": {
      "text/plain": [
       "13453"
      ]
     },
     "execution_count": 161,
     "metadata": {},
     "output_type": "execute_result"
    }
   ],
   "source": [
    "len(labels)"
   ]
  },
  {
   "cell_type": "code",
   "execution_count": 162,
   "metadata": {
    "ExecuteTime": {
     "end_time": "2020-12-20T06:50:23.258608Z",
     "start_time": "2020-12-20T06:50:23.199643Z"
    }
   },
   "outputs": [
    {
     "name": "stdout",
     "output_type": "stream",
     "text": [
      "Counter({0: 13117, 1: 336})\n",
      "Counter({0: 12913, 1: 540})\n"
     ]
    }
   ],
   "source": [
    "print(Counter(labels))\n",
    "print(Counter(ht_sd[:13453]))"
   ]
  },
  {
   "cell_type": "code",
   "execution_count": 177,
   "metadata": {
    "ExecuteTime": {
     "end_time": "2020-12-20T07:08:51.118417Z",
     "start_time": "2020-12-20T07:08:51.102425Z"
    }
   },
   "outputs": [
    {
     "name": "stdout",
     "output_type": "stream",
     "text": [
      "Counter({0: 3990, 1: 588})\n",
      "Counter({0: 3713, 1: 865})\n"
     ]
    }
   ],
   "source": [
    "print(Counter(labels_1))\n",
    "print(Counter(ht_sd[20000:20000+4578]))"
   ]
  },
  {
   "cell_type": "code",
   "execution_count": 163,
   "metadata": {
    "ExecuteTime": {
     "end_time": "2020-12-20T06:50:39.937220Z",
     "start_time": "2020-12-20T06:50:39.504159Z"
    }
   },
   "outputs": [
    {
     "name": "stdout",
     "output_type": "stream",
     "text": [
      "0.9824655027826484\n",
      "0.9226190476190477\n"
     ]
    }
   ],
   "source": [
    "print(specificity(labels, ht_sd[:13453]))\n",
    "print(recall_score(labels, ht_sd[:13453]))"
   ]
  },
  {
   "cell_type": "code",
   "execution_count": 164,
   "metadata": {
    "ExecuteTime": {
     "end_time": "2020-12-20T06:51:12.359619Z",
     "start_time": "2020-12-20T06:51:12.271672Z"
    }
   },
   "outputs": [
    {
     "name": "stdout",
     "output_type": "stream",
     "text": [
      "0.9662270336204924\n",
      "0.8125\n"
     ]
    }
   ],
   "source": [
    "print(specificity(labels, ht_nosd[:13453]))\n",
    "print(recall_score(labels, ht_nosd[:13453]))"
   ]
  },
  {
   "cell_type": "code",
   "execution_count": 165,
   "metadata": {
    "ExecuteTime": {
     "end_time": "2020-12-20T06:51:20.468596Z",
     "start_time": "2020-12-20T06:51:20.399635Z"
    }
   },
   "outputs": [
    {
     "name": "stdout",
     "output_type": "stream",
     "text": [
      "0.990317908058245\n",
      "0.7023809523809523\n"
     ]
    }
   ],
   "source": [
    "print(specificity(labels, xgb[:13453]))\n",
    "print(recall_score(labels, xgb[:13453]))"
   ]
  },
  {
   "cell_type": "code",
   "execution_count": 166,
   "metadata": {
    "ExecuteTime": {
     "end_time": "2020-12-20T06:51:26.987632Z",
     "start_time": "2020-12-20T06:51:26.919670Z"
    }
   },
   "outputs": [
    {
     "name": "stdout",
     "output_type": "stream",
     "text": [
      "0.9909278036136312\n",
      "0.7470238095238095\n"
     ]
    }
   ],
   "source": [
    "print(specificity(labels, xgb_sd[:13453]))\n",
    "print(recall_score(labels, xgb_sd[:13453]))"
   ]
  },
  {
   "cell_type": "code",
   "execution_count": 167,
   "metadata": {
    "ExecuteTime": {
     "end_time": "2020-12-20T06:51:38.302759Z",
     "start_time": "2020-12-20T06:51:38.191152Z"
    }
   },
   "outputs": [
    {
     "data": {
      "text/plain": [
       "array([[12887,   230],\n",
       "       [   26,   310]], dtype=int64)"
      ]
     },
     "execution_count": 167,
     "metadata": {},
     "output_type": "execute_result"
    }
   ],
   "source": [
    "confusion_matrix(labels, ht_sd[:13453])"
   ]
  },
  {
   "cell_type": "code",
   "execution_count": 168,
   "metadata": {
    "ExecuteTime": {
     "end_time": "2020-12-20T06:52:04.301406Z",
     "start_time": "2020-12-20T06:52:04.255433Z"
    }
   },
   "outputs": [
    {
     "data": {
      "text/plain": [
       "0.6984780529555904"
      ]
     },
     "execution_count": 168,
     "metadata": {},
     "output_type": "execute_result"
    }
   ],
   "source": [
    "cohen_kappa_score(labels, ht_sd[:13453])"
   ]
  },
  {
   "cell_type": "code",
   "execution_count": 169,
   "metadata": {
    "ExecuteTime": {
     "end_time": "2020-12-20T06:53:05.266472Z",
     "start_time": "2020-12-20T06:53:05.238491Z"
    }
   },
   "outputs": [
    {
     "data": {
      "text/plain": [
       "array([[12674,   443],\n",
       "       [   63,   273]], dtype=int64)"
      ]
     },
     "execution_count": 169,
     "metadata": {},
     "output_type": "execute_result"
    }
   ],
   "source": [
    "confusion_matrix(labels, ht_nosd[:13453])"
   ]
  },
  {
   "cell_type": "code",
   "execution_count": 170,
   "metadata": {
    "ExecuteTime": {
     "end_time": "2020-12-20T06:53:05.266472Z",
     "start_time": "2020-12-20T06:53:05.238491Z"
    }
   },
   "outputs": [
    {
     "data": {
      "text/plain": [
       "array([[12940,   177],\n",
       "       [  126,   210]], dtype=int64)"
      ]
     },
     "execution_count": 170,
     "metadata": {},
     "output_type": "execute_result"
    }
   ],
   "source": [
    "confusion_matrix(labels, dtc[:13453])"
   ]
  },
  {
   "cell_type": "code",
   "execution_count": 171,
   "metadata": {
    "ExecuteTime": {
     "end_time": "2020-12-20T06:53:05.266472Z",
     "start_time": "2020-12-20T06:53:05.238491Z"
    }
   },
   "outputs": [
    {
     "data": {
      "text/plain": [
       "array([[12940,   177],\n",
       "       [   84,   252]], dtype=int64)"
      ]
     },
     "execution_count": 171,
     "metadata": {},
     "output_type": "execute_result"
    }
   ],
   "source": [
    "confusion_matrix(labels, rfc[:13453])"
   ]
  },
  {
   "cell_type": "code",
   "execution_count": 172,
   "metadata": {
    "ExecuteTime": {
     "end_time": "2020-12-20T06:53:05.266472Z",
     "start_time": "2020-12-20T06:53:05.238491Z"
    }
   },
   "outputs": [
    {
     "data": {
      "text/plain": [
       "array([[12990,   127],\n",
       "       [  100,   236]], dtype=int64)"
      ]
     },
     "execution_count": 172,
     "metadata": {},
     "output_type": "execute_result"
    }
   ],
   "source": [
    "confusion_matrix(labels, xgb[:13453])"
   ]
  },
  {
   "cell_type": "code",
   "execution_count": 129,
   "metadata": {
    "ExecuteTime": {
     "end_time": "2020-12-20T06:53:05.266472Z",
     "start_time": "2020-12-20T06:53:05.238491Z"
    }
   },
   "outputs": [
    {
     "data": {
      "text/plain": [
       "array([[13454,   270],\n",
       "       [  198,   150]], dtype=int64)"
      ]
     },
     "execution_count": 129,
     "metadata": {},
     "output_type": "execute_result"
    }
   ],
   "source": [
    "confusion_matrix(labels,gbc[:14072])"
   ]
  },
  {
   "cell_type": "code",
   "execution_count": 131,
   "metadata": {
    "ExecuteTime": {
     "end_time": "2020-12-20T06:53:05.266472Z",
     "start_time": "2020-12-20T06:53:05.238491Z"
    }
   },
   "outputs": [
    {
     "data": {
      "text/plain": [
       "array([[13474,   250],\n",
       "       [  176,   172]], dtype=int64)"
      ]
     },
     "execution_count": 131,
     "metadata": {},
     "output_type": "execute_result"
    }
   ],
   "source": [
    "confusion_matrix(labels, mlp[:14072])"
   ]
  },
  {
   "cell_type": "code",
   "execution_count": 132,
   "metadata": {
    "ExecuteTime": {
     "end_time": "2020-12-20T06:53:05.266472Z",
     "start_time": "2020-12-20T06:53:05.238491Z"
    }
   },
   "outputs": [
    {
     "data": {
      "text/plain": [
       "array([[13343,   381],\n",
       "       [  180,   168]], dtype=int64)"
      ]
     },
     "execution_count": 132,
     "metadata": {},
     "output_type": "execute_result"
    }
   ],
   "source": [
    "confusion_matrix(labels, svc[:14072])"
   ]
  },
  {
   "cell_type": "code",
   "execution_count": 133,
   "metadata": {
    "ExecuteTime": {
     "end_time": "2020-12-20T06:53:05.266472Z",
     "start_time": "2020-12-20T06:53:05.238491Z"
    }
   },
   "outputs": [
    {
     "data": {
      "text/plain": [
       "array([[13434,   290],\n",
       "       [  162,   186]], dtype=int64)"
      ]
     },
     "execution_count": 133,
     "metadata": {},
     "output_type": "execute_result"
    }
   ],
   "source": [
    "confusion_matrix(labels, dtc_sd[:14072])"
   ]
  },
  {
   "cell_type": "code",
   "execution_count": 134,
   "metadata": {
    "ExecuteTime": {
     "end_time": "2020-12-20T06:53:05.266472Z",
     "start_time": "2020-12-20T06:53:05.238491Z"
    }
   },
   "outputs": [
    {
     "data": {
      "text/plain": [
       "array([[13482,   242],\n",
       "       [  186,   162]], dtype=int64)"
      ]
     },
     "execution_count": 134,
     "metadata": {},
     "output_type": "execute_result"
    }
   ],
   "source": [
    "confusion_matrix(labels, rfc_sd[:14072])"
   ]
  },
  {
   "cell_type": "code",
   "execution_count": 135,
   "metadata": {
    "ExecuteTime": {
     "end_time": "2020-12-18T03:55:37.402237Z",
     "start_time": "2020-12-18T03:55:37.364259Z"
    }
   },
   "outputs": [
    {
     "data": {
      "text/plain": [
       "array([[13499,   225],\n",
       "       [  188,   160]], dtype=int64)"
      ]
     },
     "execution_count": 135,
     "metadata": {},
     "output_type": "execute_result"
    }
   ],
   "source": [
    "confusion_matrix(labels, xgb_sd[:14072])"
   ]
  },
  {
   "cell_type": "code",
   "execution_count": 136,
   "metadata": {
    "ExecuteTime": {
     "end_time": "2020-12-18T03:55:37.402237Z",
     "start_time": "2020-12-18T03:55:37.364259Z"
    }
   },
   "outputs": [
    {
     "data": {
      "text/plain": [
       "array([[13488,   236],\n",
       "       [  181,   167]], dtype=int64)"
      ]
     },
     "execution_count": 136,
     "metadata": {},
     "output_type": "execute_result"
    }
   ],
   "source": [
    "confusion_matrix(labels, gbc_sd[:14072])"
   ]
  },
  {
   "cell_type": "code",
   "execution_count": 138,
   "metadata": {
    "ExecuteTime": {
     "end_time": "2020-12-18T03:55:37.402237Z",
     "start_time": "2020-12-18T03:55:37.364259Z"
    }
   },
   "outputs": [
    {
     "data": {
      "text/plain": [
       "array([[13475,   249],\n",
       "       [  173,   175]], dtype=int64)"
      ]
     },
     "execution_count": 138,
     "metadata": {},
     "output_type": "execute_result"
    }
   ],
   "source": [
    "confusion_matrix(labels, mlp_sd[:14072])"
   ]
  },
  {
   "cell_type": "code",
   "execution_count": 139,
   "metadata": {
    "ExecuteTime": {
     "end_time": "2020-12-18T03:56:11.534903Z",
     "start_time": "2020-12-18T03:56:11.498908Z"
    }
   },
   "outputs": [
    {
     "data": {
      "text/plain": [
       "array([[13435,   289],\n",
       "       [  162,   186]], dtype=int64)"
      ]
     },
     "execution_count": 139,
     "metadata": {},
     "output_type": "execute_result"
    }
   ],
   "source": [
    "confusion_matrix( labels, svc_sd[:14072])"
   ]
  },
  {
   "cell_type": "code",
   "execution_count": 53,
   "metadata": {
    "ExecuteTime": {
     "end_time": "2020-12-16T13:42:38.465672Z",
     "start_time": "2020-12-16T13:42:38.248693Z"
    }
   },
   "outputs": [],
   "source": [
    "def calc_kappa(y_1, df):\n",
    "    k_s = []\n",
    "    for i in df.columns:\n",
    "        k_s.append(cohen_kappa_score(y_1, df))\n",
    "    return k_s"
   ]
  },
  {
   "cell_type": "code",
   "execution_count": 54,
   "metadata": {
    "ExecuteTime": {
     "end_time": "2020-12-16T13:42:47.345506Z",
     "start_time": "2020-12-16T13:42:38.468631Z"
    }
   },
   "outputs": [],
   "source": [
    "kk_1 = []\n",
    "for i in predictions.columns:\n",
    "    kk_1.append(cohen_kappa_score(ht_sd, predictions[i].values.tolist()))\n",
    "\n",
    "kk_1 = pd.Series(kk_1, name='HT_sd')"
   ]
  },
  {
   "cell_type": "code",
   "execution_count": 55,
   "metadata": {
    "ExecuteTime": {
     "end_time": "2020-12-16T13:42:55.188696Z",
     "start_time": "2020-12-16T13:42:47.347510Z"
    }
   },
   "outputs": [],
   "source": [
    "kk_2 = []\n",
    "for i in predictions.columns:\n",
    "    kk_2.append(cohen_kappa_score(ht_nosd, predictions[i].values.tolist()))\n",
    "\n",
    "kk_2 = pd.Series(kk_2, name='HT_nosd')"
   ]
  },
  {
   "cell_type": "code",
   "execution_count": 56,
   "metadata": {
    "ExecuteTime": {
     "end_time": "2020-12-16T13:43:02.868109Z",
     "start_time": "2020-12-16T13:42:55.189651Z"
    }
   },
   "outputs": [],
   "source": [
    "kk_3 = []\n",
    "for i in predictions.columns:\n",
    "    kk_3.append(cohen_kappa_score(dtc, predictions[i].values.tolist()))\n",
    "    \n",
    "kk_3 = pd.Series(kk_3, name='DTC_nosd')"
   ]
  },
  {
   "cell_type": "code",
   "execution_count": 57,
   "metadata": {
    "ExecuteTime": {
     "end_time": "2020-12-16T13:43:11.204350Z",
     "start_time": "2020-12-16T13:43:02.869128Z"
    }
   },
   "outputs": [],
   "source": [
    "kk_4 = []\n",
    "for i in predictions.columns:\n",
    "    kk_4.append(cohen_kappa_score(rfc, predictions[i].values.tolist()))\n",
    "    \n",
    "kk_4 = pd.Series(kk_4, name='RFC_nosd')"
   ]
  },
  {
   "cell_type": "code",
   "execution_count": 58,
   "metadata": {
    "ExecuteTime": {
     "end_time": "2020-12-16T13:43:18.809208Z",
     "start_time": "2020-12-16T13:43:11.206320Z"
    }
   },
   "outputs": [],
   "source": [
    "kk_5 = []\n",
    "for i in predictions.columns:\n",
    "    kk_5.append(cohen_kappa_score(xgb, predictions[i].values.tolist()))\n",
    "kk_5 = pd.Series(kk_5, name='XGB_nosd')"
   ]
  },
  {
   "cell_type": "code",
   "execution_count": 59,
   "metadata": {
    "ExecuteTime": {
     "end_time": "2020-12-16T13:43:27.062575Z",
     "start_time": "2020-12-16T13:43:18.811226Z"
    }
   },
   "outputs": [],
   "source": [
    "kk_6 = []\n",
    "for i in predictions.columns:\n",
    "    kk_6.append(cohen_kappa_score(gbc, predictions[i].values.tolist()))\n",
    "kk_6 = pd.Series(kk_6, name='GBC_nosd')"
   ]
  },
  {
   "cell_type": "code",
   "execution_count": 60,
   "metadata": {
    "ExecuteTime": {
     "end_time": "2020-12-16T13:43:35.153975Z",
     "start_time": "2020-12-16T13:43:27.064529Z"
    }
   },
   "outputs": [],
   "source": [
    "kk_7 = []\n",
    "for i in predictions.columns:\n",
    "    kk_7.append(cohen_kappa_score(mlp, predictions[i].values.tolist()))\n",
    "kk_7 = pd.Series(kk_7, name='MLP_nosd')"
   ]
  },
  {
   "cell_type": "code",
   "execution_count": 61,
   "metadata": {
    "ExecuteTime": {
     "end_time": "2020-12-16T13:43:42.974559Z",
     "start_time": "2020-12-16T13:43:35.158925Z"
    }
   },
   "outputs": [],
   "source": [
    "kk_8 = []\n",
    "for i in predictions.columns:\n",
    "    kk_8.append(cohen_kappa_score(svc, predictions[i].values.tolist()))\n",
    "kk_8 = pd.Series(kk_8, name='SVC_nosd')"
   ]
  },
  {
   "cell_type": "code",
   "execution_count": 62,
   "metadata": {
    "ExecuteTime": {
     "end_time": "2020-12-16T13:44:32.388499Z",
     "start_time": "2020-12-16T13:44:24.404060Z"
    }
   },
   "outputs": [],
   "source": [
    "kk_9 = []\n",
    "for i in predictions.columns:\n",
    "    kk_9.append(cohen_kappa_score(dtc_sd, predictions[i].values.tolist()))\n",
    "kk_9 = pd.Series(kk_9, name='DTC_sd')"
   ]
  },
  {
   "cell_type": "code",
   "execution_count": 63,
   "metadata": {
    "ExecuteTime": {
     "end_time": "2020-12-16T13:44:32.388499Z",
     "start_time": "2020-12-16T13:44:24.404060Z"
    }
   },
   "outputs": [],
   "source": [
    "kk_10 = []\n",
    "for i in predictions.columns:\n",
    "    kk_10.append(cohen_kappa_score(rfc_sd, predictions[i].values.tolist()))\n",
    "kk_10 = pd.Series(kk_10, name='RFC_sd')"
   ]
  },
  {
   "cell_type": "code",
   "execution_count": 64,
   "metadata": {
    "ExecuteTime": {
     "end_time": "2020-12-16T13:44:32.388499Z",
     "start_time": "2020-12-16T13:44:24.404060Z"
    }
   },
   "outputs": [],
   "source": [
    "kk_11 = []\n",
    "for i in predictions.columns:\n",
    "    kk_11.append(cohen_kappa_score(xgb_sd, predictions[i].values.tolist()))\n",
    "kk_11 = pd.Series(kk_11, name='XGB_sd')"
   ]
  },
  {
   "cell_type": "code",
   "execution_count": 65,
   "metadata": {
    "ExecuteTime": {
     "end_time": "2020-12-16T13:44:32.388499Z",
     "start_time": "2020-12-16T13:44:24.404060Z"
    }
   },
   "outputs": [],
   "source": [
    "kk_12 = []\n",
    "for i in predictions.columns:\n",
    "    kk_12.append(cohen_kappa_score(gbc_sd, predictions[i].values.tolist()))\n",
    "kk_12 = pd.Series(kk_12, name='GBC_sd')"
   ]
  },
  {
   "cell_type": "code",
   "execution_count": 66,
   "metadata": {
    "ExecuteTime": {
     "end_time": "2020-12-16T13:44:32.388499Z",
     "start_time": "2020-12-16T13:44:24.404060Z"
    }
   },
   "outputs": [],
   "source": [
    "kk_13 = []\n",
    "for i in predictions.columns:\n",
    "    kk_13.append(cohen_kappa_score(mlp_sd, predictions[i].values.tolist()))\n",
    "kk_13 = pd.Series(kk_13, name='MLP_sd')"
   ]
  },
  {
   "cell_type": "code",
   "execution_count": 67,
   "metadata": {
    "ExecuteTime": {
     "end_time": "2020-12-16T13:44:32.388499Z",
     "start_time": "2020-12-16T13:44:24.404060Z"
    }
   },
   "outputs": [],
   "source": [
    "kk_14 = []\n",
    "for i in predictions.columns:\n",
    "    kk_14.append(cohen_kappa_score(svc_sd, predictions[i].values.tolist()))\n",
    "kk_14 = pd.Series(kk_14, name='SVC_sd')"
   ]
  },
  {
   "cell_type": "code",
   "execution_count": 68,
   "metadata": {
    "ExecuteTime": {
     "end_time": "2020-12-16T13:44:32.404462Z",
     "start_time": "2020-12-16T13:44:32.390454Z"
    }
   },
   "outputs": [],
   "source": [
    "scores = pd.concat([kk_1, kk_2, kk_3, kk_4, kk_5, kk_6, kk_7, kk_8, kk_9, kk_10, kk_11, kk_12, kk_13, kk_14], axis=1)"
   ]
  },
  {
   "cell_type": "code",
   "execution_count": 69,
   "metadata": {
    "ExecuteTime": {
     "end_time": "2020-12-16T13:44:32.717391Z",
     "start_time": "2020-12-16T13:44:32.406446Z"
    }
   },
   "outputs": [],
   "source": [
    "i = 0\n",
    "for j in scores.columns:\n",
    "    scores.rename(index={i: j}, inplace=True)\n",
    "    i += 1"
   ]
  },
  {
   "cell_type": "code",
   "execution_count": 23,
   "metadata": {
    "ExecuteTime": {
     "end_time": "2020-12-16T13:38:36.463804Z",
     "start_time": "2020-12-16T13:38:36.245947Z"
    },
    "scrolled": false
   },
   "outputs": [
    {
     "data": {
      "text/html": [
       "<div>\n",
       "<style scoped>\n",
       "    .dataframe tbody tr th:only-of-type {\n",
       "        vertical-align: middle;\n",
       "    }\n",
       "\n",
       "    .dataframe tbody tr th {\n",
       "        vertical-align: top;\n",
       "    }\n",
       "\n",
       "    .dataframe thead th {\n",
       "        text-align: right;\n",
       "    }\n",
       "</style>\n",
       "<table border=\"1\" class=\"dataframe\">\n",
       "  <thead>\n",
       "    <tr style=\"text-align: right;\">\n",
       "      <th></th>\n",
       "      <th>HT_sd</th>\n",
       "      <th>HT_nosd</th>\n",
       "      <th>DTC_nosd</th>\n",
       "      <th>RFC_nosd</th>\n",
       "      <th>XGB_nosd</th>\n",
       "      <th>GBC_nosd</th>\n",
       "      <th>MLP_nosd</th>\n",
       "      <th>SVC_nosd</th>\n",
       "      <th>DTC_sd</th>\n",
       "      <th>RFC_sd</th>\n",
       "      <th>XGB_sd</th>\n",
       "      <th>GBC_sd</th>\n",
       "      <th>MLP_sd</th>\n",
       "      <th>SVC_sd</th>\n",
       "    </tr>\n",
       "  </thead>\n",
       "  <tbody>\n",
       "    <tr>\n",
       "      <th>HT_sd</th>\n",
       "      <td>1.000000</td>\n",
       "      <td>0.472702</td>\n",
       "      <td>0.536007</td>\n",
       "      <td>0.635022</td>\n",
       "      <td>0.641643</td>\n",
       "      <td>0.622850</td>\n",
       "      <td>0.759843</td>\n",
       "      <td>0.602941</td>\n",
       "      <td>0.833846</td>\n",
       "      <td>0.720133</td>\n",
       "      <td>0.717321</td>\n",
       "      <td>0.742215</td>\n",
       "      <td>0.777479</td>\n",
       "      <td>0.833846</td>\n",
       "    </tr>\n",
       "    <tr>\n",
       "      <th>HT_nosd</th>\n",
       "      <td>0.472702</td>\n",
       "      <td>1.000000</td>\n",
       "      <td>0.488778</td>\n",
       "      <td>0.538546</td>\n",
       "      <td>0.489606</td>\n",
       "      <td>0.579053</td>\n",
       "      <td>0.529465</td>\n",
       "      <td>0.631339</td>\n",
       "      <td>0.543579</td>\n",
       "      <td>0.457043</td>\n",
       "      <td>0.468487</td>\n",
       "      <td>0.474360</td>\n",
       "      <td>0.515412</td>\n",
       "      <td>0.543579</td>\n",
       "    </tr>\n",
       "    <tr>\n",
       "      <th>DTC_nosd</th>\n",
       "      <td>0.536007</td>\n",
       "      <td>0.488778</td>\n",
       "      <td>1.000000</td>\n",
       "      <td>0.676990</td>\n",
       "      <td>0.694215</td>\n",
       "      <td>0.661483</td>\n",
       "      <td>0.612966</td>\n",
       "      <td>0.547179</td>\n",
       "      <td>0.646421</td>\n",
       "      <td>0.692239</td>\n",
       "      <td>0.694215</td>\n",
       "      <td>0.676805</td>\n",
       "      <td>0.607393</td>\n",
       "      <td>0.646421</td>\n",
       "    </tr>\n",
       "    <tr>\n",
       "      <th>RFC_nosd</th>\n",
       "      <td>0.635022</td>\n",
       "      <td>0.538546</td>\n",
       "      <td>0.676990</td>\n",
       "      <td>1.000000</td>\n",
       "      <td>0.841810</td>\n",
       "      <td>0.874899</td>\n",
       "      <td>0.761807</td>\n",
       "      <td>0.725382</td>\n",
       "      <td>0.763219</td>\n",
       "      <td>0.828391</td>\n",
       "      <td>0.808507</td>\n",
       "      <td>0.783177</td>\n",
       "      <td>0.752192</td>\n",
       "      <td>0.763219</td>\n",
       "    </tr>\n",
       "    <tr>\n",
       "      <th>XGB_nosd</th>\n",
       "      <td>0.641643</td>\n",
       "      <td>0.489606</td>\n",
       "      <td>0.694215</td>\n",
       "      <td>0.841810</td>\n",
       "      <td>1.000000</td>\n",
       "      <td>0.817004</td>\n",
       "      <td>0.787290</td>\n",
       "      <td>0.647358</td>\n",
       "      <td>0.782216</td>\n",
       "      <td>0.838146</td>\n",
       "      <td>0.859107</td>\n",
       "      <td>0.800113</td>\n",
       "      <td>0.771227</td>\n",
       "      <td>0.782216</td>\n",
       "    </tr>\n",
       "    <tr>\n",
       "      <th>GBC_nosd</th>\n",
       "      <td>0.622850</td>\n",
       "      <td>0.579053</td>\n",
       "      <td>0.661483</td>\n",
       "      <td>0.874899</td>\n",
       "      <td>0.817004</td>\n",
       "      <td>1.000000</td>\n",
       "      <td>0.744904</td>\n",
       "      <td>0.728654</td>\n",
       "      <td>0.747071</td>\n",
       "      <td>0.749378</td>\n",
       "      <td>0.756915</td>\n",
       "      <td>0.754506</td>\n",
       "      <td>0.730170</td>\n",
       "      <td>0.747071</td>\n",
       "    </tr>\n",
       "    <tr>\n",
       "      <th>MLP_nosd</th>\n",
       "      <td>0.759843</td>\n",
       "      <td>0.529465</td>\n",
       "      <td>0.612966</td>\n",
       "      <td>0.761807</td>\n",
       "      <td>0.787290</td>\n",
       "      <td>0.744904</td>\n",
       "      <td>1.000000</td>\n",
       "      <td>0.738204</td>\n",
       "      <td>0.919553</td>\n",
       "      <td>0.841608</td>\n",
       "      <td>0.838340</td>\n",
       "      <td>0.883735</td>\n",
       "      <td>0.960071</td>\n",
       "      <td>0.919553</td>\n",
       "    </tr>\n",
       "    <tr>\n",
       "      <th>SVC_nosd</th>\n",
       "      <td>0.602941</td>\n",
       "      <td>0.631339</td>\n",
       "      <td>0.547179</td>\n",
       "      <td>0.725382</td>\n",
       "      <td>0.647358</td>\n",
       "      <td>0.728654</td>\n",
       "      <td>0.738204</td>\n",
       "      <td>1.000000</td>\n",
       "      <td>0.711062</td>\n",
       "      <td>0.636694</td>\n",
       "      <td>0.633619</td>\n",
       "      <td>0.660827</td>\n",
       "      <td>0.725705</td>\n",
       "      <td>0.711062</td>\n",
       "    </tr>\n",
       "    <tr>\n",
       "      <th>DTC_sd</th>\n",
       "      <td>0.833846</td>\n",
       "      <td>0.543579</td>\n",
       "      <td>0.646421</td>\n",
       "      <td>0.763219</td>\n",
       "      <td>0.782216</td>\n",
       "      <td>0.747071</td>\n",
       "      <td>0.919553</td>\n",
       "      <td>0.711062</td>\n",
       "      <td>1.000000</td>\n",
       "      <td>0.876638</td>\n",
       "      <td>0.873632</td>\n",
       "      <td>0.900143</td>\n",
       "      <td>0.941758</td>\n",
       "      <td>1.000000</td>\n",
       "    </tr>\n",
       "    <tr>\n",
       "      <th>RFC_sd</th>\n",
       "      <td>0.720133</td>\n",
       "      <td>0.457043</td>\n",
       "      <td>0.692239</td>\n",
       "      <td>0.828391</td>\n",
       "      <td>0.838146</td>\n",
       "      <td>0.749378</td>\n",
       "      <td>0.841608</td>\n",
       "      <td>0.636694</td>\n",
       "      <td>0.876638</td>\n",
       "      <td>1.000000</td>\n",
       "      <td>0.929761</td>\n",
       "      <td>0.910755</td>\n",
       "      <td>0.860261</td>\n",
       "      <td>0.876638</td>\n",
       "    </tr>\n",
       "    <tr>\n",
       "      <th>XGB_sd</th>\n",
       "      <td>0.717321</td>\n",
       "      <td>0.468487</td>\n",
       "      <td>0.694215</td>\n",
       "      <td>0.808507</td>\n",
       "      <td>0.859107</td>\n",
       "      <td>0.756915</td>\n",
       "      <td>0.838340</td>\n",
       "      <td>0.633619</td>\n",
       "      <td>0.873632</td>\n",
       "      <td>0.929761</td>\n",
       "      <td>1.000000</td>\n",
       "      <td>0.901548</td>\n",
       "      <td>0.857017</td>\n",
       "      <td>0.873632</td>\n",
       "    </tr>\n",
       "    <tr>\n",
       "      <th>GBC_sd</th>\n",
       "      <td>0.742215</td>\n",
       "      <td>0.474360</td>\n",
       "      <td>0.676805</td>\n",
       "      <td>0.783177</td>\n",
       "      <td>0.800113</td>\n",
       "      <td>0.754506</td>\n",
       "      <td>0.883735</td>\n",
       "      <td>0.660827</td>\n",
       "      <td>0.900143</td>\n",
       "      <td>0.910755</td>\n",
       "      <td>0.901548</td>\n",
       "      <td>1.000000</td>\n",
       "      <td>0.902330</td>\n",
       "      <td>0.900143</td>\n",
       "    </tr>\n",
       "    <tr>\n",
       "      <th>MLP_sd</th>\n",
       "      <td>0.777479</td>\n",
       "      <td>0.515412</td>\n",
       "      <td>0.607393</td>\n",
       "      <td>0.752192</td>\n",
       "      <td>0.771227</td>\n",
       "      <td>0.730170</td>\n",
       "      <td>0.960071</td>\n",
       "      <td>0.725705</td>\n",
       "      <td>0.941758</td>\n",
       "      <td>0.860261</td>\n",
       "      <td>0.857017</td>\n",
       "      <td>0.902330</td>\n",
       "      <td>1.000000</td>\n",
       "      <td>0.941758</td>\n",
       "    </tr>\n",
       "    <tr>\n",
       "      <th>SVC_sd</th>\n",
       "      <td>0.833846</td>\n",
       "      <td>0.543579</td>\n",
       "      <td>0.646421</td>\n",
       "      <td>0.763219</td>\n",
       "      <td>0.782216</td>\n",
       "      <td>0.747071</td>\n",
       "      <td>0.919553</td>\n",
       "      <td>0.711062</td>\n",
       "      <td>1.000000</td>\n",
       "      <td>0.876638</td>\n",
       "      <td>0.873632</td>\n",
       "      <td>0.900143</td>\n",
       "      <td>0.941758</td>\n",
       "      <td>1.000000</td>\n",
       "    </tr>\n",
       "  </tbody>\n",
       "</table>\n",
       "</div>"
      ],
      "text/plain": [
       "             HT_sd   HT_nosd  DTC_nosd  RFC_nosd  XGB_nosd  GBC_nosd  \\\n",
       "HT_sd     1.000000  0.472702  0.536007  0.635022  0.641643  0.622850   \n",
       "HT_nosd   0.472702  1.000000  0.488778  0.538546  0.489606  0.579053   \n",
       "DTC_nosd  0.536007  0.488778  1.000000  0.676990  0.694215  0.661483   \n",
       "RFC_nosd  0.635022  0.538546  0.676990  1.000000  0.841810  0.874899   \n",
       "XGB_nosd  0.641643  0.489606  0.694215  0.841810  1.000000  0.817004   \n",
       "GBC_nosd  0.622850  0.579053  0.661483  0.874899  0.817004  1.000000   \n",
       "MLP_nosd  0.759843  0.529465  0.612966  0.761807  0.787290  0.744904   \n",
       "SVC_nosd  0.602941  0.631339  0.547179  0.725382  0.647358  0.728654   \n",
       "DTC_sd    0.833846  0.543579  0.646421  0.763219  0.782216  0.747071   \n",
       "RFC_sd    0.720133  0.457043  0.692239  0.828391  0.838146  0.749378   \n",
       "XGB_sd    0.717321  0.468487  0.694215  0.808507  0.859107  0.756915   \n",
       "GBC_sd    0.742215  0.474360  0.676805  0.783177  0.800113  0.754506   \n",
       "MLP_sd    0.777479  0.515412  0.607393  0.752192  0.771227  0.730170   \n",
       "SVC_sd    0.833846  0.543579  0.646421  0.763219  0.782216  0.747071   \n",
       "\n",
       "          MLP_nosd  SVC_nosd    DTC_sd    RFC_sd    XGB_sd    GBC_sd  \\\n",
       "HT_sd     0.759843  0.602941  0.833846  0.720133  0.717321  0.742215   \n",
       "HT_nosd   0.529465  0.631339  0.543579  0.457043  0.468487  0.474360   \n",
       "DTC_nosd  0.612966  0.547179  0.646421  0.692239  0.694215  0.676805   \n",
       "RFC_nosd  0.761807  0.725382  0.763219  0.828391  0.808507  0.783177   \n",
       "XGB_nosd  0.787290  0.647358  0.782216  0.838146  0.859107  0.800113   \n",
       "GBC_nosd  0.744904  0.728654  0.747071  0.749378  0.756915  0.754506   \n",
       "MLP_nosd  1.000000  0.738204  0.919553  0.841608  0.838340  0.883735   \n",
       "SVC_nosd  0.738204  1.000000  0.711062  0.636694  0.633619  0.660827   \n",
       "DTC_sd    0.919553  0.711062  1.000000  0.876638  0.873632  0.900143   \n",
       "RFC_sd    0.841608  0.636694  0.876638  1.000000  0.929761  0.910755   \n",
       "XGB_sd    0.838340  0.633619  0.873632  0.929761  1.000000  0.901548   \n",
       "GBC_sd    0.883735  0.660827  0.900143  0.910755  0.901548  1.000000   \n",
       "MLP_sd    0.960071  0.725705  0.941758  0.860261  0.857017  0.902330   \n",
       "SVC_sd    0.919553  0.711062  1.000000  0.876638  0.873632  0.900143   \n",
       "\n",
       "            MLP_sd    SVC_sd  \n",
       "HT_sd     0.777479  0.833846  \n",
       "HT_nosd   0.515412  0.543579  \n",
       "DTC_nosd  0.607393  0.646421  \n",
       "RFC_nosd  0.752192  0.763219  \n",
       "XGB_nosd  0.771227  0.782216  \n",
       "GBC_nosd  0.730170  0.747071  \n",
       "MLP_nosd  0.960071  0.919553  \n",
       "SVC_nosd  0.725705  0.711062  \n",
       "DTC_sd    0.941758  1.000000  \n",
       "RFC_sd    0.860261  0.876638  \n",
       "XGB_sd    0.857017  0.873632  \n",
       "GBC_sd    0.902330  0.900143  \n",
       "MLP_sd    1.000000  0.941758  \n",
       "SVC_sd    0.941758  1.000000  "
      ]
     },
     "execution_count": 23,
     "metadata": {},
     "output_type": "execute_result"
    }
   ],
   "source": [
    "# at 10000\n",
    "scores"
   ]
  },
  {
   "cell_type": "code",
   "execution_count": 47,
   "metadata": {
    "ExecuteTime": {
     "end_time": "2020-12-16T13:44:37.112172Z",
     "start_time": "2020-12-16T13:44:37.083176Z"
    }
   },
   "outputs": [
    {
     "data": {
      "text/html": [
       "<div>\n",
       "<style scoped>\n",
       "    .dataframe tbody tr th:only-of-type {\n",
       "        vertical-align: middle;\n",
       "    }\n",
       "\n",
       "    .dataframe tbody tr th {\n",
       "        vertical-align: top;\n",
       "    }\n",
       "\n",
       "    .dataframe thead th {\n",
       "        text-align: right;\n",
       "    }\n",
       "</style>\n",
       "<table border=\"1\" class=\"dataframe\">\n",
       "  <thead>\n",
       "    <tr style=\"text-align: right;\">\n",
       "      <th></th>\n",
       "      <th>HT_sd</th>\n",
       "      <th>HT_nosd</th>\n",
       "      <th>DTC_nosd</th>\n",
       "      <th>RFC_nosd</th>\n",
       "      <th>XGB_nosd</th>\n",
       "      <th>GBC_nosd</th>\n",
       "      <th>MLP_nosd</th>\n",
       "      <th>SVC_nosd</th>\n",
       "      <th>DTC_sd</th>\n",
       "      <th>RFC_sd</th>\n",
       "      <th>XGB_sd</th>\n",
       "      <th>GBC_sd</th>\n",
       "      <th>MLP_sd</th>\n",
       "      <th>SVC_sd</th>\n",
       "    </tr>\n",
       "  </thead>\n",
       "  <tbody>\n",
       "    <tr>\n",
       "      <th>0</th>\n",
       "      <td>1.000000</td>\n",
       "      <td>0.516136</td>\n",
       "      <td>0.432184</td>\n",
       "      <td>0.415136</td>\n",
       "      <td>0.419381</td>\n",
       "      <td>0.430228</td>\n",
       "      <td>0.437489</td>\n",
       "      <td>0.411177</td>\n",
       "      <td>0.462255</td>\n",
       "      <td>0.429417</td>\n",
       "      <td>0.427201</td>\n",
       "      <td>0.419462</td>\n",
       "      <td>0.412326</td>\n",
       "      <td>0.463567</td>\n",
       "    </tr>\n",
       "    <tr>\n",
       "      <th>1</th>\n",
       "      <td>0.516136</td>\n",
       "      <td>1.000000</td>\n",
       "      <td>0.443471</td>\n",
       "      <td>0.479981</td>\n",
       "      <td>0.486970</td>\n",
       "      <td>0.536886</td>\n",
       "      <td>0.502200</td>\n",
       "      <td>0.501884</td>\n",
       "      <td>0.503385</td>\n",
       "      <td>0.480724</td>\n",
       "      <td>0.483090</td>\n",
       "      <td>0.481268</td>\n",
       "      <td>0.487370</td>\n",
       "      <td>0.504590</td>\n",
       "    </tr>\n",
       "    <tr>\n",
       "      <th>2</th>\n",
       "      <td>0.432184</td>\n",
       "      <td>0.443471</td>\n",
       "      <td>1.000000</td>\n",
       "      <td>0.827423</td>\n",
       "      <td>0.806695</td>\n",
       "      <td>0.828251</td>\n",
       "      <td>0.792382</td>\n",
       "      <td>0.784041</td>\n",
       "      <td>0.793584</td>\n",
       "      <td>0.811402</td>\n",
       "      <td>0.796100</td>\n",
       "      <td>0.790961</td>\n",
       "      <td>0.783858</td>\n",
       "      <td>0.793200</td>\n",
       "    </tr>\n",
       "    <tr>\n",
       "      <th>3</th>\n",
       "      <td>0.415136</td>\n",
       "      <td>0.479981</td>\n",
       "      <td>0.827423</td>\n",
       "      <td>1.000000</td>\n",
       "      <td>0.945094</td>\n",
       "      <td>0.889628</td>\n",
       "      <td>0.936006</td>\n",
       "      <td>0.933639</td>\n",
       "      <td>0.932526</td>\n",
       "      <td>0.955144</td>\n",
       "      <td>0.938852</td>\n",
       "      <td>0.927499</td>\n",
       "      <td>0.929843</td>\n",
       "      <td>0.932665</td>\n",
       "    </tr>\n",
       "    <tr>\n",
       "      <th>4</th>\n",
       "      <td>0.419381</td>\n",
       "      <td>0.486970</td>\n",
       "      <td>0.806695</td>\n",
       "      <td>0.945094</td>\n",
       "      <td>1.000000</td>\n",
       "      <td>0.890612</td>\n",
       "      <td>0.958688</td>\n",
       "      <td>0.942187</td>\n",
       "      <td>0.955771</td>\n",
       "      <td>0.951089</td>\n",
       "      <td>0.967741</td>\n",
       "      <td>0.945158</td>\n",
       "      <td>0.946504</td>\n",
       "      <td>0.956015</td>\n",
       "    </tr>\n",
       "    <tr>\n",
       "      <th>5</th>\n",
       "      <td>0.430228</td>\n",
       "      <td>0.536886</td>\n",
       "      <td>0.828251</td>\n",
       "      <td>0.889628</td>\n",
       "      <td>0.890612</td>\n",
       "      <td>1.000000</td>\n",
       "      <td>0.897348</td>\n",
       "      <td>0.895415</td>\n",
       "      <td>0.892217</td>\n",
       "      <td>0.882560</td>\n",
       "      <td>0.886212</td>\n",
       "      <td>0.892134</td>\n",
       "      <td>0.887851</td>\n",
       "      <td>0.892810</td>\n",
       "    </tr>\n",
       "    <tr>\n",
       "      <th>6</th>\n",
       "      <td>0.437489</td>\n",
       "      <td>0.502200</td>\n",
       "      <td>0.792382</td>\n",
       "      <td>0.936006</td>\n",
       "      <td>0.958688</td>\n",
       "      <td>0.897348</td>\n",
       "      <td>1.000000</td>\n",
       "      <td>0.968206</td>\n",
       "      <td>0.981070</td>\n",
       "      <td>0.957973</td>\n",
       "      <td>0.965947</td>\n",
       "      <td>0.963117</td>\n",
       "      <td>0.976667</td>\n",
       "      <td>0.981621</td>\n",
       "    </tr>\n",
       "    <tr>\n",
       "      <th>7</th>\n",
       "      <td>0.411177</td>\n",
       "      <td>0.501884</td>\n",
       "      <td>0.784041</td>\n",
       "      <td>0.933639</td>\n",
       "      <td>0.942187</td>\n",
       "      <td>0.895415</td>\n",
       "      <td>0.968206</td>\n",
       "      <td>1.000000</td>\n",
       "      <td>0.962278</td>\n",
       "      <td>0.948731</td>\n",
       "      <td>0.949315</td>\n",
       "      <td>0.959145</td>\n",
       "      <td>0.966051</td>\n",
       "      <td>0.963634</td>\n",
       "    </tr>\n",
       "    <tr>\n",
       "      <th>8</th>\n",
       "      <td>0.462255</td>\n",
       "      <td>0.503385</td>\n",
       "      <td>0.793584</td>\n",
       "      <td>0.932526</td>\n",
       "      <td>0.955771</td>\n",
       "      <td>0.892217</td>\n",
       "      <td>0.981070</td>\n",
       "      <td>0.962278</td>\n",
       "      <td>1.000000</td>\n",
       "      <td>0.963519</td>\n",
       "      <td>0.968080</td>\n",
       "      <td>0.966525</td>\n",
       "      <td>0.968473</td>\n",
       "      <td>0.998595</td>\n",
       "    </tr>\n",
       "    <tr>\n",
       "      <th>9</th>\n",
       "      <td>0.429417</td>\n",
       "      <td>0.480724</td>\n",
       "      <td>0.811402</td>\n",
       "      <td>0.955144</td>\n",
       "      <td>0.951089</td>\n",
       "      <td>0.882560</td>\n",
       "      <td>0.957973</td>\n",
       "      <td>0.948731</td>\n",
       "      <td>0.963519</td>\n",
       "      <td>1.000000</td>\n",
       "      <td>0.964808</td>\n",
       "      <td>0.956999</td>\n",
       "      <td>0.955690</td>\n",
       "      <td>0.963613</td>\n",
       "    </tr>\n",
       "    <tr>\n",
       "      <th>10</th>\n",
       "      <td>0.427201</td>\n",
       "      <td>0.483090</td>\n",
       "      <td>0.796100</td>\n",
       "      <td>0.938852</td>\n",
       "      <td>0.967741</td>\n",
       "      <td>0.886212</td>\n",
       "      <td>0.965947</td>\n",
       "      <td>0.949315</td>\n",
       "      <td>0.968080</td>\n",
       "      <td>0.964808</td>\n",
       "      <td>1.000000</td>\n",
       "      <td>0.960244</td>\n",
       "      <td>0.961476</td>\n",
       "      <td>0.967921</td>\n",
       "    </tr>\n",
       "    <tr>\n",
       "      <th>11</th>\n",
       "      <td>0.419462</td>\n",
       "      <td>0.481268</td>\n",
       "      <td>0.790961</td>\n",
       "      <td>0.927499</td>\n",
       "      <td>0.945158</td>\n",
       "      <td>0.892134</td>\n",
       "      <td>0.963117</td>\n",
       "      <td>0.959145</td>\n",
       "      <td>0.966525</td>\n",
       "      <td>0.956999</td>\n",
       "      <td>0.960244</td>\n",
       "      <td>1.000000</td>\n",
       "      <td>0.964863</td>\n",
       "      <td>0.966416</td>\n",
       "    </tr>\n",
       "    <tr>\n",
       "      <th>12</th>\n",
       "      <td>0.412326</td>\n",
       "      <td>0.487370</td>\n",
       "      <td>0.783858</td>\n",
       "      <td>0.929843</td>\n",
       "      <td>0.946504</td>\n",
       "      <td>0.887851</td>\n",
       "      <td>0.976667</td>\n",
       "      <td>0.966051</td>\n",
       "      <td>0.968473</td>\n",
       "      <td>0.955690</td>\n",
       "      <td>0.961476</td>\n",
       "      <td>0.964863</td>\n",
       "      <td>1.000000</td>\n",
       "      <td>0.969076</td>\n",
       "    </tr>\n",
       "    <tr>\n",
       "      <th>13</th>\n",
       "      <td>0.463567</td>\n",
       "      <td>0.504590</td>\n",
       "      <td>0.793200</td>\n",
       "      <td>0.932665</td>\n",
       "      <td>0.956015</td>\n",
       "      <td>0.892810</td>\n",
       "      <td>0.981621</td>\n",
       "      <td>0.963634</td>\n",
       "      <td>0.998595</td>\n",
       "      <td>0.963613</td>\n",
       "      <td>0.967921</td>\n",
       "      <td>0.966416</td>\n",
       "      <td>0.969076</td>\n",
       "      <td>1.000000</td>\n",
       "    </tr>\n",
       "  </tbody>\n",
       "</table>\n",
       "</div>"
      ],
      "text/plain": [
       "       HT_sd   HT_nosd  DTC_nosd  RFC_nosd  XGB_nosd  GBC_nosd  MLP_nosd  \\\n",
       "0   1.000000  0.516136  0.432184  0.415136  0.419381  0.430228  0.437489   \n",
       "1   0.516136  1.000000  0.443471  0.479981  0.486970  0.536886  0.502200   \n",
       "2   0.432184  0.443471  1.000000  0.827423  0.806695  0.828251  0.792382   \n",
       "3   0.415136  0.479981  0.827423  1.000000  0.945094  0.889628  0.936006   \n",
       "4   0.419381  0.486970  0.806695  0.945094  1.000000  0.890612  0.958688   \n",
       "5   0.430228  0.536886  0.828251  0.889628  0.890612  1.000000  0.897348   \n",
       "6   0.437489  0.502200  0.792382  0.936006  0.958688  0.897348  1.000000   \n",
       "7   0.411177  0.501884  0.784041  0.933639  0.942187  0.895415  0.968206   \n",
       "8   0.462255  0.503385  0.793584  0.932526  0.955771  0.892217  0.981070   \n",
       "9   0.429417  0.480724  0.811402  0.955144  0.951089  0.882560  0.957973   \n",
       "10  0.427201  0.483090  0.796100  0.938852  0.967741  0.886212  0.965947   \n",
       "11  0.419462  0.481268  0.790961  0.927499  0.945158  0.892134  0.963117   \n",
       "12  0.412326  0.487370  0.783858  0.929843  0.946504  0.887851  0.976667   \n",
       "13  0.463567  0.504590  0.793200  0.932665  0.956015  0.892810  0.981621   \n",
       "\n",
       "    SVC_nosd    DTC_sd    RFC_sd    XGB_sd    GBC_sd    MLP_sd    SVC_sd  \n",
       "0   0.411177  0.462255  0.429417  0.427201  0.419462  0.412326  0.463567  \n",
       "1   0.501884  0.503385  0.480724  0.483090  0.481268  0.487370  0.504590  \n",
       "2   0.784041  0.793584  0.811402  0.796100  0.790961  0.783858  0.793200  \n",
       "3   0.933639  0.932526  0.955144  0.938852  0.927499  0.929843  0.932665  \n",
       "4   0.942187  0.955771  0.951089  0.967741  0.945158  0.946504  0.956015  \n",
       "5   0.895415  0.892217  0.882560  0.886212  0.892134  0.887851  0.892810  \n",
       "6   0.968206  0.981070  0.957973  0.965947  0.963117  0.976667  0.981621  \n",
       "7   1.000000  0.962278  0.948731  0.949315  0.959145  0.966051  0.963634  \n",
       "8   0.962278  1.000000  0.963519  0.968080  0.966525  0.968473  0.998595  \n",
       "9   0.948731  0.963519  1.000000  0.964808  0.956999  0.955690  0.963613  \n",
       "10  0.949315  0.968080  0.964808  1.000000  0.960244  0.961476  0.967921  \n",
       "11  0.959145  0.966525  0.956999  0.960244  1.000000  0.964863  0.966416  \n",
       "12  0.966051  0.968473  0.955690  0.961476  0.964863  1.000000  0.969076  \n",
       "13  0.963634  0.998595  0.963613  0.967921  0.966416  0.969076  1.000000  "
      ]
     },
     "execution_count": 47,
     "metadata": {},
     "output_type": "execute_result"
    }
   ],
   "source": [
    "# at 100000\n",
    "scores"
   ]
  },
  {
   "cell_type": "code",
   "execution_count": 70,
   "metadata": {
    "ExecuteTime": {
     "end_time": "2020-12-16T13:44:37.112172Z",
     "start_time": "2020-12-16T13:44:37.083176Z"
    }
   },
   "outputs": [
    {
     "data": {
      "text/html": [
       "<div>\n",
       "<style scoped>\n",
       "    .dataframe tbody tr th:only-of-type {\n",
       "        vertical-align: middle;\n",
       "    }\n",
       "\n",
       "    .dataframe tbody tr th {\n",
       "        vertical-align: top;\n",
       "    }\n",
       "\n",
       "    .dataframe thead th {\n",
       "        text-align: right;\n",
       "    }\n",
       "</style>\n",
       "<table border=\"1\" class=\"dataframe\">\n",
       "  <thead>\n",
       "    <tr style=\"text-align: right;\">\n",
       "      <th></th>\n",
       "      <th>HT_sd</th>\n",
       "      <th>HT_nosd</th>\n",
       "      <th>DTC_nosd</th>\n",
       "      <th>RFC_nosd</th>\n",
       "      <th>XGB_nosd</th>\n",
       "      <th>GBC_nosd</th>\n",
       "      <th>MLP_nosd</th>\n",
       "      <th>SVC_nosd</th>\n",
       "      <th>DTC_sd</th>\n",
       "      <th>RFC_sd</th>\n",
       "      <th>XGB_sd</th>\n",
       "      <th>GBC_sd</th>\n",
       "      <th>MLP_sd</th>\n",
       "      <th>SVC_sd</th>\n",
       "    </tr>\n",
       "  </thead>\n",
       "  <tbody>\n",
       "    <tr>\n",
       "      <th>HT_sd</th>\n",
       "      <td>1.000000</td>\n",
       "      <td>0.380922</td>\n",
       "      <td>0.223846</td>\n",
       "      <td>0.219961</td>\n",
       "      <td>0.230166</td>\n",
       "      <td>0.205385</td>\n",
       "      <td>0.251964</td>\n",
       "      <td>0.234591</td>\n",
       "      <td>0.282199</td>\n",
       "      <td>0.249172</td>\n",
       "      <td>0.247880</td>\n",
       "      <td>0.247925</td>\n",
       "      <td>0.250202</td>\n",
       "      <td>0.283565</td>\n",
       "    </tr>\n",
       "    <tr>\n",
       "      <th>HT_nosd</th>\n",
       "      <td>0.380922</td>\n",
       "      <td>1.000000</td>\n",
       "      <td>0.168401</td>\n",
       "      <td>0.182236</td>\n",
       "      <td>0.189823</td>\n",
       "      <td>0.174776</td>\n",
       "      <td>0.196362</td>\n",
       "      <td>0.194510</td>\n",
       "      <td>0.206367</td>\n",
       "      <td>0.196916</td>\n",
       "      <td>0.197348</td>\n",
       "      <td>0.199779</td>\n",
       "      <td>0.202501</td>\n",
       "      <td>0.206662</td>\n",
       "    </tr>\n",
       "    <tr>\n",
       "      <th>DTC_nosd</th>\n",
       "      <td>0.223846</td>\n",
       "      <td>0.168401</td>\n",
       "      <td>1.000000</td>\n",
       "      <td>0.840180</td>\n",
       "      <td>0.833158</td>\n",
       "      <td>0.772407</td>\n",
       "      <td>0.801836</td>\n",
       "      <td>0.786061</td>\n",
       "      <td>0.796798</td>\n",
       "      <td>0.817793</td>\n",
       "      <td>0.808683</td>\n",
       "      <td>0.803868</td>\n",
       "      <td>0.786245</td>\n",
       "      <td>0.796271</td>\n",
       "    </tr>\n",
       "    <tr>\n",
       "      <th>RFC_nosd</th>\n",
       "      <td>0.219961</td>\n",
       "      <td>0.182236</td>\n",
       "      <td>0.840180</td>\n",
       "      <td>1.000000</td>\n",
       "      <td>0.925738</td>\n",
       "      <td>0.858297</td>\n",
       "      <td>0.897131</td>\n",
       "      <td>0.890813</td>\n",
       "      <td>0.879436</td>\n",
       "      <td>0.912516</td>\n",
       "      <td>0.898605</td>\n",
       "      <td>0.878642</td>\n",
       "      <td>0.875025</td>\n",
       "      <td>0.879449</td>\n",
       "    </tr>\n",
       "    <tr>\n",
       "      <th>XGB_nosd</th>\n",
       "      <td>0.230166</td>\n",
       "      <td>0.189823</td>\n",
       "      <td>0.833158</td>\n",
       "      <td>0.925738</td>\n",
       "      <td>1.000000</td>\n",
       "      <td>0.843979</td>\n",
       "      <td>0.915568</td>\n",
       "      <td>0.892551</td>\n",
       "      <td>0.899669</td>\n",
       "      <td>0.916257</td>\n",
       "      <td>0.930267</td>\n",
       "      <td>0.896692</td>\n",
       "      <td>0.892036</td>\n",
       "      <td>0.899631</td>\n",
       "    </tr>\n",
       "    <tr>\n",
       "      <th>GBC_nosd</th>\n",
       "      <td>0.205385</td>\n",
       "      <td>0.174776</td>\n",
       "      <td>0.772407</td>\n",
       "      <td>0.858297</td>\n",
       "      <td>0.843979</td>\n",
       "      <td>1.000000</td>\n",
       "      <td>0.848544</td>\n",
       "      <td>0.852477</td>\n",
       "      <td>0.825274</td>\n",
       "      <td>0.817670</td>\n",
       "      <td>0.821906</td>\n",
       "      <td>0.826516</td>\n",
       "      <td>0.823985</td>\n",
       "      <td>0.825561</td>\n",
       "    </tr>\n",
       "    <tr>\n",
       "      <th>MLP_nosd</th>\n",
       "      <td>0.251964</td>\n",
       "      <td>0.196362</td>\n",
       "      <td>0.801836</td>\n",
       "      <td>0.897131</td>\n",
       "      <td>0.915568</td>\n",
       "      <td>0.848544</td>\n",
       "      <td>1.000000</td>\n",
       "      <td>0.945947</td>\n",
       "      <td>0.957674</td>\n",
       "      <td>0.925052</td>\n",
       "      <td>0.928809</td>\n",
       "      <td>0.931833</td>\n",
       "      <td>0.956917</td>\n",
       "      <td>0.958294</td>\n",
       "    </tr>\n",
       "    <tr>\n",
       "      <th>SVC_nosd</th>\n",
       "      <td>0.234591</td>\n",
       "      <td>0.194510</td>\n",
       "      <td>0.786061</td>\n",
       "      <td>0.890813</td>\n",
       "      <td>0.892551</td>\n",
       "      <td>0.852477</td>\n",
       "      <td>0.945947</td>\n",
       "      <td>1.000000</td>\n",
       "      <td>0.934562</td>\n",
       "      <td>0.907943</td>\n",
       "      <td>0.906774</td>\n",
       "      <td>0.917559</td>\n",
       "      <td>0.937460</td>\n",
       "      <td>0.935943</td>\n",
       "    </tr>\n",
       "    <tr>\n",
       "      <th>DTC_sd</th>\n",
       "      <td>0.282199</td>\n",
       "      <td>0.206367</td>\n",
       "      <td>0.796798</td>\n",
       "      <td>0.879436</td>\n",
       "      <td>0.899669</td>\n",
       "      <td>0.825274</td>\n",
       "      <td>0.957674</td>\n",
       "      <td>0.934562</td>\n",
       "      <td>1.000000</td>\n",
       "      <td>0.952813</td>\n",
       "      <td>0.950820</td>\n",
       "      <td>0.956459</td>\n",
       "      <td>0.967228</td>\n",
       "      <td>0.998285</td>\n",
       "    </tr>\n",
       "    <tr>\n",
       "      <th>RFC_sd</th>\n",
       "      <td>0.249172</td>\n",
       "      <td>0.196916</td>\n",
       "      <td>0.817793</td>\n",
       "      <td>0.912516</td>\n",
       "      <td>0.916257</td>\n",
       "      <td>0.817670</td>\n",
       "      <td>0.925052</td>\n",
       "      <td>0.907943</td>\n",
       "      <td>0.952813</td>\n",
       "      <td>1.000000</td>\n",
       "      <td>0.962518</td>\n",
       "      <td>0.948853</td>\n",
       "      <td>0.942135</td>\n",
       "      <td>0.952739</td>\n",
       "    </tr>\n",
       "    <tr>\n",
       "      <th>XGB_sd</th>\n",
       "      <td>0.247880</td>\n",
       "      <td>0.197348</td>\n",
       "      <td>0.808683</td>\n",
       "      <td>0.898605</td>\n",
       "      <td>0.930267</td>\n",
       "      <td>0.821906</td>\n",
       "      <td>0.928809</td>\n",
       "      <td>0.906774</td>\n",
       "      <td>0.950820</td>\n",
       "      <td>0.962518</td>\n",
       "      <td>1.000000</td>\n",
       "      <td>0.948519</td>\n",
       "      <td>0.943166</td>\n",
       "      <td>0.950903</td>\n",
       "    </tr>\n",
       "    <tr>\n",
       "      <th>GBC_sd</th>\n",
       "      <td>0.247925</td>\n",
       "      <td>0.199779</td>\n",
       "      <td>0.803868</td>\n",
       "      <td>0.878642</td>\n",
       "      <td>0.896692</td>\n",
       "      <td>0.826516</td>\n",
       "      <td>0.931833</td>\n",
       "      <td>0.917559</td>\n",
       "      <td>0.956459</td>\n",
       "      <td>0.948853</td>\n",
       "      <td>0.948519</td>\n",
       "      <td>1.000000</td>\n",
       "      <td>0.951119</td>\n",
       "      <td>0.956594</td>\n",
       "    </tr>\n",
       "    <tr>\n",
       "      <th>MLP_sd</th>\n",
       "      <td>0.250202</td>\n",
       "      <td>0.202501</td>\n",
       "      <td>0.786245</td>\n",
       "      <td>0.875025</td>\n",
       "      <td>0.892036</td>\n",
       "      <td>0.823985</td>\n",
       "      <td>0.956917</td>\n",
       "      <td>0.937460</td>\n",
       "      <td>0.967228</td>\n",
       "      <td>0.942135</td>\n",
       "      <td>0.943166</td>\n",
       "      <td>0.951119</td>\n",
       "      <td>1.000000</td>\n",
       "      <td>0.967868</td>\n",
       "    </tr>\n",
       "    <tr>\n",
       "      <th>SVC_sd</th>\n",
       "      <td>0.283565</td>\n",
       "      <td>0.206662</td>\n",
       "      <td>0.796271</td>\n",
       "      <td>0.879449</td>\n",
       "      <td>0.899631</td>\n",
       "      <td>0.825561</td>\n",
       "      <td>0.958294</td>\n",
       "      <td>0.935943</td>\n",
       "      <td>0.998285</td>\n",
       "      <td>0.952739</td>\n",
       "      <td>0.950903</td>\n",
       "      <td>0.956594</td>\n",
       "      <td>0.967868</td>\n",
       "      <td>1.000000</td>\n",
       "    </tr>\n",
       "  </tbody>\n",
       "</table>\n",
       "</div>"
      ],
      "text/plain": [
       "             HT_sd   HT_nosd  DTC_nosd  RFC_nosd  XGB_nosd  GBC_nosd  \\\n",
       "HT_sd     1.000000  0.380922  0.223846  0.219961  0.230166  0.205385   \n",
       "HT_nosd   0.380922  1.000000  0.168401  0.182236  0.189823  0.174776   \n",
       "DTC_nosd  0.223846  0.168401  1.000000  0.840180  0.833158  0.772407   \n",
       "RFC_nosd  0.219961  0.182236  0.840180  1.000000  0.925738  0.858297   \n",
       "XGB_nosd  0.230166  0.189823  0.833158  0.925738  1.000000  0.843979   \n",
       "GBC_nosd  0.205385  0.174776  0.772407  0.858297  0.843979  1.000000   \n",
       "MLP_nosd  0.251964  0.196362  0.801836  0.897131  0.915568  0.848544   \n",
       "SVC_nosd  0.234591  0.194510  0.786061  0.890813  0.892551  0.852477   \n",
       "DTC_sd    0.282199  0.206367  0.796798  0.879436  0.899669  0.825274   \n",
       "RFC_sd    0.249172  0.196916  0.817793  0.912516  0.916257  0.817670   \n",
       "XGB_sd    0.247880  0.197348  0.808683  0.898605  0.930267  0.821906   \n",
       "GBC_sd    0.247925  0.199779  0.803868  0.878642  0.896692  0.826516   \n",
       "MLP_sd    0.250202  0.202501  0.786245  0.875025  0.892036  0.823985   \n",
       "SVC_sd    0.283565  0.206662  0.796271  0.879449  0.899631  0.825561   \n",
       "\n",
       "          MLP_nosd  SVC_nosd    DTC_sd    RFC_sd    XGB_sd    GBC_sd  \\\n",
       "HT_sd     0.251964  0.234591  0.282199  0.249172  0.247880  0.247925   \n",
       "HT_nosd   0.196362  0.194510  0.206367  0.196916  0.197348  0.199779   \n",
       "DTC_nosd  0.801836  0.786061  0.796798  0.817793  0.808683  0.803868   \n",
       "RFC_nosd  0.897131  0.890813  0.879436  0.912516  0.898605  0.878642   \n",
       "XGB_nosd  0.915568  0.892551  0.899669  0.916257  0.930267  0.896692   \n",
       "GBC_nosd  0.848544  0.852477  0.825274  0.817670  0.821906  0.826516   \n",
       "MLP_nosd  1.000000  0.945947  0.957674  0.925052  0.928809  0.931833   \n",
       "SVC_nosd  0.945947  1.000000  0.934562  0.907943  0.906774  0.917559   \n",
       "DTC_sd    0.957674  0.934562  1.000000  0.952813  0.950820  0.956459   \n",
       "RFC_sd    0.925052  0.907943  0.952813  1.000000  0.962518  0.948853   \n",
       "XGB_sd    0.928809  0.906774  0.950820  0.962518  1.000000  0.948519   \n",
       "GBC_sd    0.931833  0.917559  0.956459  0.948853  0.948519  1.000000   \n",
       "MLP_sd    0.956917  0.937460  0.967228  0.942135  0.943166  0.951119   \n",
       "SVC_sd    0.958294  0.935943  0.998285  0.952739  0.950903  0.956594   \n",
       "\n",
       "            MLP_sd    SVC_sd  \n",
       "HT_sd     0.250202  0.283565  \n",
       "HT_nosd   0.202501  0.206662  \n",
       "DTC_nosd  0.786245  0.796271  \n",
       "RFC_nosd  0.875025  0.879449  \n",
       "XGB_nosd  0.892036  0.899631  \n",
       "GBC_nosd  0.823985  0.825561  \n",
       "MLP_nosd  0.956917  0.958294  \n",
       "SVC_nosd  0.937460  0.935943  \n",
       "DTC_sd    0.967228  0.998285  \n",
       "RFC_sd    0.942135  0.952739  \n",
       "XGB_sd    0.943166  0.950903  \n",
       "GBC_sd    0.951119  0.956594  \n",
       "MLP_sd    1.000000  0.967868  \n",
       "SVC_sd    0.967868  1.000000  "
      ]
     },
     "execution_count": 70,
     "metadata": {},
     "output_type": "execute_result"
    }
   ],
   "source": [
    "# at 350000 (original)\n",
    "scores"
   ]
  },
  {
   "cell_type": "code",
   "execution_count": null,
   "metadata": {},
   "outputs": [],
   "source": []
  }
 ],
 "metadata": {
  "kernelspec": {
   "display_name": "Python 3",
   "language": "python",
   "name": "python3"
  },
  "language_info": {
   "codemirror_mode": {
    "name": "ipython",
    "version": 3
   },
   "file_extension": ".py",
   "mimetype": "text/x-python",
   "name": "python",
   "nbconvert_exporter": "python",
   "pygments_lexer": "ipython3",
   "version": "3.6.5"
  },
  "toc": {
   "base_numbering": 1,
   "nav_menu": {},
   "number_sections": true,
   "sideBar": true,
   "skip_h1_title": false,
   "title_cell": "Table of Contents",
   "title_sidebar": "Contents",
   "toc_cell": false,
   "toc_position": {},
   "toc_section_display": true,
   "toc_window_display": false
  }
 },
 "nbformat": 4,
 "nbformat_minor": 2
}
