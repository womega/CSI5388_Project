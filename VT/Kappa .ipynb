{
 "cells": [
  {
   "cell_type": "code",
   "execution_count": 65,
   "metadata": {
    "ExecuteTime": {
     "end_time": "2020-12-22T13:50:02.332860Z",
     "start_time": "2020-12-22T13:50:02.306176Z"
    }
   },
   "outputs": [],
   "source": [
    "from sklearn.metrics import cohen_kappa_score, confusion_matrix, make_scorer, recall_score, f1_score, accuracy_score\n",
    "import numpy as np\n",
    "from imblearn.metrics import geometric_mean_score\n",
    "import pandas as pd\n",
    "from collections import Counter\n",
    "from tqdm import tqdm"
   ]
  },
  {
   "cell_type": "code",
   "execution_count": 66,
   "metadata": {
    "ExecuteTime": {
     "end_time": "2020-12-22T13:50:02.960695Z",
     "start_time": "2020-12-22T13:50:02.424605Z"
    }
   },
   "outputs": [],
   "source": [
    "predictions = pd.read_csv('unlabeled_predictions.csv')\n",
    "labels = pd.read_csv(\"vt_labels.csv\").Labels.values.tolist()\n",
    "#labels_1 = pd.read_csv(\"vt_labels_1.csv\").Labels.values.tolist()"
   ]
  },
  {
   "cell_type": "code",
   "execution_count": 67,
   "metadata": {
    "ExecuteTime": {
     "end_time": "2020-12-22T13:50:03.465654Z",
     "start_time": "2020-12-22T13:50:03.456648Z"
    }
   },
   "outputs": [],
   "source": [
    "def specificity(y_true, y_pred): \n",
    "    tn = confusion_matrix(y_true, y_pred)[0, 0]\n",
    "    fp = confusion_matrix(y_true, y_pred)[0, 1]\n",
    "    neg = tn + fp\n",
    "    return tn/neg\n"
   ]
  },
  {
   "cell_type": "code",
   "execution_count": 68,
   "metadata": {
    "ExecuteTime": {
     "end_time": "2020-12-22T13:50:04.483578Z",
     "start_time": "2020-12-22T13:50:04.457651Z"
    }
   },
   "outputs": [
    {
     "data": {
      "text/html": [
       "<div>\n",
       "<style scoped>\n",
       "    .dataframe tbody tr th:only-of-type {\n",
       "        vertical-align: middle;\n",
       "    }\n",
       "\n",
       "    .dataframe tbody tr th {\n",
       "        vertical-align: top;\n",
       "    }\n",
       "\n",
       "    .dataframe thead th {\n",
       "        text-align: right;\n",
       "    }\n",
       "</style>\n",
       "<table border=\"1\" class=\"dataframe\">\n",
       "  <thead>\n",
       "    <tr style=\"text-align: right;\">\n",
       "      <th></th>\n",
       "      <th>Domain</th>\n",
       "      <th>Labeled with subdomains</th>\n",
       "      <th>Labeled w/o subdomains</th>\n",
       "      <th>Labeled dtc</th>\n",
       "      <th>Labeled rfc</th>\n",
       "      <th>Labeled xgb</th>\n",
       "      <th>Labeled gbc</th>\n",
       "      <th>Labeled mlp</th>\n",
       "      <th>Labeled svc</th>\n",
       "      <th>Labeled dtc_sd</th>\n",
       "      <th>Labeled rfc_sd</th>\n",
       "      <th>Labeled xgb_sd</th>\n",
       "      <th>Labeled gbc_sd</th>\n",
       "      <th>Labeled mlp_sd</th>\n",
       "      <th>Labeled svc_sd</th>\n",
       "    </tr>\n",
       "  </thead>\n",
       "  <tbody>\n",
       "    <tr>\n",
       "      <th>0</th>\n",
       "      <td>-----6kcackgf6aecovid2bb2af.sds.miningbro.ru</td>\n",
       "      <td>0</td>\n",
       "      <td>0</td>\n",
       "      <td>0</td>\n",
       "      <td>0</td>\n",
       "      <td>0</td>\n",
       "      <td>0</td>\n",
       "      <td>0</td>\n",
       "      <td>0</td>\n",
       "      <td>0</td>\n",
       "      <td>0</td>\n",
       "      <td>0</td>\n",
       "      <td>0</td>\n",
       "      <td>0</td>\n",
       "      <td>0</td>\n",
       "    </tr>\n",
       "    <tr>\n",
       "      <th>1</th>\n",
       "      <td>--antdotocoronavirus-jyb.com.ipaddress.com</td>\n",
       "      <td>0</td>\n",
       "      <td>0</td>\n",
       "      <td>0</td>\n",
       "      <td>0</td>\n",
       "      <td>0</td>\n",
       "      <td>0</td>\n",
       "      <td>0</td>\n",
       "      <td>0</td>\n",
       "      <td>0</td>\n",
       "      <td>0</td>\n",
       "      <td>0</td>\n",
       "      <td>0</td>\n",
       "      <td>0</td>\n",
       "      <td>0</td>\n",
       "    </tr>\n",
       "    <tr>\n",
       "      <th>2</th>\n",
       "      <td>--coronavirus-quarantne-o2b.com</td>\n",
       "      <td>1</td>\n",
       "      <td>1</td>\n",
       "      <td>1</td>\n",
       "      <td>1</td>\n",
       "      <td>1</td>\n",
       "      <td>1</td>\n",
       "      <td>0</td>\n",
       "      <td>1</td>\n",
       "      <td>1</td>\n",
       "      <td>1</td>\n",
       "      <td>1</td>\n",
       "      <td>1</td>\n",
       "      <td>0</td>\n",
       "      <td>1</td>\n",
       "    </tr>\n",
       "    <tr>\n",
       "      <th>3</th>\n",
       "      <td>--coronavirusbelgi-prb.com</td>\n",
       "      <td>1</td>\n",
       "      <td>1</td>\n",
       "      <td>1</td>\n",
       "      <td>1</td>\n",
       "      <td>1</td>\n",
       "      <td>1</td>\n",
       "      <td>1</td>\n",
       "      <td>1</td>\n",
       "      <td>1</td>\n",
       "      <td>1</td>\n",
       "      <td>1</td>\n",
       "      <td>1</td>\n",
       "      <td>1</td>\n",
       "      <td>1</td>\n",
       "    </tr>\n",
       "    <tr>\n",
       "      <th>4</th>\n",
       "      <td>--coronavirusenespaa-30b.com</td>\n",
       "      <td>1</td>\n",
       "      <td>1</td>\n",
       "      <td>0</td>\n",
       "      <td>1</td>\n",
       "      <td>0</td>\n",
       "      <td>1</td>\n",
       "      <td>1</td>\n",
       "      <td>1</td>\n",
       "      <td>1</td>\n",
       "      <td>1</td>\n",
       "      <td>0</td>\n",
       "      <td>1</td>\n",
       "      <td>1</td>\n",
       "      <td>1</td>\n",
       "    </tr>\n",
       "  </tbody>\n",
       "</table>\n",
       "</div>"
      ],
      "text/plain": [
       "                                         Domain  Labeled with subdomains  \\\n",
       "0  -----6kcackgf6aecovid2bb2af.sds.miningbro.ru                        0   \n",
       "1    --antdotocoronavirus-jyb.com.ipaddress.com                        0   \n",
       "2               --coronavirus-quarantne-o2b.com                        1   \n",
       "3                    --coronavirusbelgi-prb.com                        1   \n",
       "4                  --coronavirusenespaa-30b.com                        1   \n",
       "\n",
       "   Labeled w/o subdomains  Labeled dtc  Labeled rfc  Labeled xgb  Labeled gbc  \\\n",
       "0                       0            0            0            0            0   \n",
       "1                       0            0            0            0            0   \n",
       "2                       1            1            1            1            1   \n",
       "3                       1            1            1            1            1   \n",
       "4                       1            0            1            0            1   \n",
       "\n",
       "   Labeled mlp  Labeled svc  Labeled dtc_sd  Labeled rfc_sd  Labeled xgb_sd  \\\n",
       "0            0            0               0               0               0   \n",
       "1            0            0               0               0               0   \n",
       "2            0            1               1               1               1   \n",
       "3            1            1               1               1               1   \n",
       "4            1            1               1               1               0   \n",
       "\n",
       "   Labeled gbc_sd  Labeled mlp_sd  Labeled svc_sd  \n",
       "0               0               0               0  \n",
       "1               0               0               0  \n",
       "2               1               0               1  \n",
       "3               1               1               1  \n",
       "4               1               1               1  "
      ]
     },
     "execution_count": 68,
     "metadata": {},
     "output_type": "execute_result"
    }
   ],
   "source": [
    "predictions.head()"
   ]
  },
  {
   "cell_type": "code",
   "execution_count": 69,
   "metadata": {
    "ExecuteTime": {
     "end_time": "2020-12-22T13:50:06.555778Z",
     "start_time": "2020-12-22T13:50:06.551787Z"
    }
   },
   "outputs": [
    {
     "data": {
      "text/plain": [
       "74553"
      ]
     },
     "execution_count": 69,
     "metadata": {},
     "output_type": "execute_result"
    }
   ],
   "source": [
    "len(labels)"
   ]
  },
  {
   "cell_type": "code",
   "execution_count": 6,
   "metadata": {
    "ExecuteTime": {
     "end_time": "2020-12-22T05:33:46.776111Z",
     "start_time": "2020-12-22T05:33:46.732230Z"
    }
   },
   "outputs": [],
   "source": [
    "ht_sd = predictions['Labeled with subdomains'].values.tolist()\n",
    "ht_nosd = predictions['Labeled w/o subdomains'].values.tolist()\n",
    "dtc = predictions['Labeled dtc'].values.tolist()\n",
    "rfc = predictions['Labeled rfc'].values.tolist()\n",
    "xgb = predictions['Labeled xgb'].values.tolist()\n",
    "gbc = predictions['Labeled gbc'].values.tolist()\n",
    "mlp = predictions['Labeled mlp'].values.tolist()\n",
    "svc = predictions['Labeled svc'].values.tolist()\n",
    "\n",
    "dtc_sd = predictions['Labeled dtc_sd'].values.tolist()\n",
    "rfc_sd = predictions['Labeled rfc_sd'].values.tolist()\n",
    "xgb_sd = predictions['Labeled xgb_sd'].values.tolist()\n",
    "gbc_sd = predictions['Labeled gbc_sd'].values.tolist()\n",
    "mlp_sd = predictions['Labeled mlp_sd'].values.tolist()\n",
    "svc_sd = predictions['Labeled svc_sd'].values.tolist()"
   ]
  },
  {
   "cell_type": "code",
   "execution_count": 79,
   "metadata": {
    "ExecuteTime": {
     "end_time": "2020-12-22T13:51:55.928825Z",
     "start_time": "2020-12-22T13:51:55.903893Z"
    }
   },
   "outputs": [],
   "source": [
    "predictions.drop('Domain', inplace=True, axis=1)"
   ]
  },
  {
   "cell_type": "code",
   "execution_count": 70,
   "metadata": {
    "ExecuteTime": {
     "end_time": "2020-12-22T13:50:17.348889Z",
     "start_time": "2020-12-22T13:50:17.335928Z"
    }
   },
   "outputs": [
    {
     "name": "stdout",
     "output_type": "stream",
     "text": [
      "Counter({0: 64930, 1: 9623})\n",
      "Counter({0: 61726, 1: 12827})\n"
     ]
    }
   ],
   "source": [
    "print(Counter(labels))\n",
    "print(Counter(ht_nosd[:74553]))"
   ]
  },
  {
   "cell_type": "code",
   "execution_count": 7,
   "metadata": {
    "ExecuteTime": {
     "end_time": "2020-12-22T05:33:49.242216Z",
     "start_time": "2020-12-22T05:33:49.224267Z"
    }
   },
   "outputs": [
    {
     "name": "stdout",
     "output_type": "stream",
     "text": [
      "Counter({0: 339398, 1: 25985})\n"
     ]
    }
   ],
   "source": [
    "print(Counter(ht_sd))"
   ]
  },
  {
   "cell_type": "code",
   "execution_count": 71,
   "metadata": {
    "ExecuteTime": {
     "end_time": "2020-12-22T13:50:28.774184Z",
     "start_time": "2020-12-22T13:50:28.550497Z"
    }
   },
   "outputs": [
    {
     "name": "stdout",
     "output_type": "stream",
     "text": [
      "0.9624056676420761\n",
      "0.5323703626727632\n"
     ]
    }
   ],
   "source": [
    "print(specificity(labels, ht_sd[:74553]))\n",
    "print(recall_score(labels, ht_sd[:74553]))"
   ]
  },
  {
   "cell_type": "code",
   "execution_count": 72,
   "metadata": {
    "ExecuteTime": {
     "end_time": "2020-12-22T13:50:34.639523Z",
     "start_time": "2020-12-22T13:50:34.445888Z"
    }
   },
   "outputs": [
    {
     "name": "stdout",
     "output_type": "stream",
     "text": [
      "0.9305559833667026\n",
      "0.8643874051751013\n"
     ]
    }
   ],
   "source": [
    "print(specificity(labels, ht_nosd[:74553]))\n",
    "print(recall_score(labels, ht_nosd[:74553]))"
   ]
  },
  {
   "cell_type": "code",
   "execution_count": 73,
   "metadata": {
    "ExecuteTime": {
     "end_time": "2020-12-22T13:50:42.350019Z",
     "start_time": "2020-12-22T13:50:42.148373Z"
    }
   },
   "outputs": [
    {
     "name": "stdout",
     "output_type": "stream",
     "text": [
      "0.959679655013091\n",
      "0.8033877169281929\n"
     ]
    }
   ],
   "source": [
    "print(specificity(labels, xgb[:74553]))\n",
    "print(recall_score(labels, xgb[:74553]))"
   ]
  },
  {
   "cell_type": "code",
   "execution_count": 74,
   "metadata": {
    "ExecuteTime": {
     "end_time": "2020-12-22T13:50:50.808267Z",
     "start_time": "2020-12-22T13:50:50.611872Z"
    }
   },
   "outputs": [
    {
     "name": "stdout",
     "output_type": "stream",
     "text": [
      "0.9595718466040352\n",
      "0.8094149433648551\n"
     ]
    }
   ],
   "source": [
    "print(specificity(labels, xgb_sd[:74553]))\n",
    "print(recall_score(labels, xgb_sd[:74553]))"
   ]
  },
  {
   "cell_type": "code",
   "execution_count": 75,
   "metadata": {
    "ExecuteTime": {
     "end_time": "2020-12-22T13:51:04.207421Z",
     "start_time": "2020-12-22T13:51:04.127754Z"
    }
   },
   "outputs": [
    {
     "data": {
      "text/plain": [
       "array([[62489,  2441],\n",
       "       [ 4500,  5123]], dtype=int64)"
      ]
     },
     "execution_count": 75,
     "metadata": {},
     "output_type": "execute_result"
    }
   ],
   "source": [
    "confusion_matrix(labels, ht_sd[:74553])"
   ]
  },
  {
   "cell_type": "code",
   "execution_count": 76,
   "metadata": {
    "ExecuteTime": {
     "end_time": "2020-12-22T13:51:08.446827Z",
     "start_time": "2020-12-22T13:51:08.375747Z"
    }
   },
   "outputs": [
    {
     "data": {
      "text/plain": [
       "array([[60421,  4509],\n",
       "       [ 1305,  8318]], dtype=int64)"
      ]
     },
     "execution_count": 76,
     "metadata": {},
     "output_type": "execute_result"
    }
   ],
   "source": [
    "confusion_matrix(labels, ht_nosd[:74553])"
   ]
  },
  {
   "cell_type": "code",
   "execution_count": 18,
   "metadata": {
    "ExecuteTime": {
     "end_time": "2020-12-22T05:37:29.167734Z",
     "start_time": "2020-12-22T05:37:29.118903Z"
    }
   },
   "outputs": [
    {
     "data": {
      "text/plain": [
       "array([[46372,  2158],\n",
       "       [ 1879,  4144]], dtype=int64)"
      ]
     },
     "execution_count": 18,
     "metadata": {},
     "output_type": "execute_result"
    }
   ],
   "source": [
    "confusion_matrix(labels, dtc[:74553])"
   ]
  },
  {
   "cell_type": "code",
   "execution_count": 19,
   "metadata": {
    "ExecuteTime": {
     "end_time": "2020-12-22T05:37:33.691921Z",
     "start_time": "2020-12-22T05:37:33.639905Z"
    }
   },
   "outputs": [
    {
     "data": {
      "text/plain": [
       "array([[46194,  2336],\n",
       "       [ 1359,  4664]], dtype=int64)"
      ]
     },
     "execution_count": 19,
     "metadata": {},
     "output_type": "execute_result"
    }
   ],
   "source": [
    "confusion_matrix(labels, rfc[:74553])"
   ]
  },
  {
   "cell_type": "code",
   "execution_count": 20,
   "metadata": {
    "ExecuteTime": {
     "end_time": "2020-12-22T05:37:37.521994Z",
     "start_time": "2020-12-22T05:37:37.463121Z"
    }
   },
   "outputs": [
    {
     "data": {
      "text/plain": [
       "array([[46327,  2203],\n",
       "       [ 1327,  4696]], dtype=int64)"
      ]
     },
     "execution_count": 20,
     "metadata": {},
     "output_type": "execute_result"
    }
   ],
   "source": [
    "confusion_matrix(labels, xgb[:54553])"
   ]
  },
  {
   "cell_type": "code",
   "execution_count": 21,
   "metadata": {
    "ExecuteTime": {
     "end_time": "2020-12-22T05:37:40.215058Z",
     "start_time": "2020-12-22T05:37:40.167152Z"
    }
   },
   "outputs": [
    {
     "data": {
      "text/plain": [
       "array([[45661,  2869],\n",
       "       [ 1101,  4922]], dtype=int64)"
      ]
     },
     "execution_count": 21,
     "metadata": {},
     "output_type": "execute_result"
    }
   ],
   "source": [
    "confusion_matrix(labels,gbc[:54553])"
   ]
  },
  {
   "cell_type": "code",
   "execution_count": 22,
   "metadata": {
    "ExecuteTime": {
     "end_time": "2020-12-22T05:37:44.106989Z",
     "start_time": "2020-12-22T05:37:44.057084Z"
    }
   },
   "outputs": [
    {
     "data": {
      "text/plain": [
       "array([[46104,  2426],\n",
       "       [ 1151,  4872]], dtype=int64)"
      ]
     },
     "execution_count": 22,
     "metadata": {},
     "output_type": "execute_result"
    }
   ],
   "source": [
    "confusion_matrix(labels, mlp[:54553])"
   ]
  },
  {
   "cell_type": "code",
   "execution_count": 23,
   "metadata": {
    "ExecuteTime": {
     "end_time": "2020-12-22T05:37:47.070850Z",
     "start_time": "2020-12-22T05:37:47.022948Z"
    }
   },
   "outputs": [
    {
     "data": {
      "text/plain": [
       "array([[45828,  2702],\n",
       "       [ 1252,  4771]], dtype=int64)"
      ]
     },
     "execution_count": 23,
     "metadata": {},
     "output_type": "execute_result"
    }
   ],
   "source": [
    "confusion_matrix(labels, svc[:54553])"
   ]
  },
  {
   "cell_type": "code",
   "execution_count": 24,
   "metadata": {
    "ExecuteTime": {
     "end_time": "2020-12-22T05:37:54.003408Z",
     "start_time": "2020-12-22T05:37:53.942572Z"
    }
   },
   "outputs": [
    {
     "data": {
      "text/plain": [
       "array([[46034,  2496],\n",
       "       [ 1022,  5001]], dtype=int64)"
      ]
     },
     "execution_count": 24,
     "metadata": {},
     "output_type": "execute_result"
    }
   ],
   "source": [
    "confusion_matrix(labels, dtc_sd[:54553])"
   ]
  },
  {
   "cell_type": "code",
   "execution_count": 25,
   "metadata": {
    "ExecuteTime": {
     "end_time": "2020-12-22T05:37:56.778814Z",
     "start_time": "2020-12-22T05:37:56.726954Z"
    }
   },
   "outputs": [
    {
     "data": {
      "text/plain": [
       "0.7034868496357325"
      ]
     },
     "execution_count": 25,
     "metadata": {},
     "output_type": "execute_result"
    }
   ],
   "source": [
    "cohen_kappa_score(labels, dtc_sd[:54553])"
   ]
  },
  {
   "cell_type": "code",
   "execution_count": 26,
   "metadata": {
    "ExecuteTime": {
     "end_time": "2020-12-22T05:38:00.980423Z",
     "start_time": "2020-12-22T05:38:00.926539Z"
    }
   },
   "outputs": [
    {
     "data": {
      "text/plain": [
       "array([[46326,  2204],\n",
       "       [ 1336,  4687]], dtype=int64)"
      ]
     },
     "execution_count": 26,
     "metadata": {},
     "output_type": "execute_result"
    }
   ],
   "source": [
    "confusion_matrix(labels, rfc_sd[:54553])"
   ]
  },
  {
   "cell_type": "code",
   "execution_count": 26,
   "metadata": {
    "ExecuteTime": {
     "end_time": "2020-12-18T03:55:37.402237Z",
     "start_time": "2020-12-18T03:55:37.364259Z"
    }
   },
   "outputs": [
    {
     "data": {
      "text/plain": [
       "array([[28274,   626],\n",
       "       [  220,  1433]], dtype=int64)"
      ]
     },
     "execution_count": 26,
     "metadata": {},
     "output_type": "execute_result"
    }
   ],
   "source": [
    "confusion_matrix(labels, xgb_sd[:30553])"
   ]
  },
  {
   "cell_type": "code",
   "execution_count": 27,
   "metadata": {
    "ExecuteTime": {
     "end_time": "2020-12-18T03:55:37.402237Z",
     "start_time": "2020-12-18T03:55:37.364259Z"
    }
   },
   "outputs": [
    {
     "data": {
      "text/plain": [
       "array([[28221,   679],\n",
       "       [  188,  1465]], dtype=int64)"
      ]
     },
     "execution_count": 27,
     "metadata": {},
     "output_type": "execute_result"
    }
   ],
   "source": [
    "confusion_matrix(labels, gbc_sd[:30553])"
   ]
  },
  {
   "cell_type": "code",
   "execution_count": 28,
   "metadata": {
    "ExecuteTime": {
     "end_time": "2020-12-18T03:55:37.402237Z",
     "start_time": "2020-12-18T03:55:37.364259Z"
    }
   },
   "outputs": [
    {
     "data": {
      "text/plain": [
       "array([[28225,   675],\n",
       "       [  178,  1475]], dtype=int64)"
      ]
     },
     "execution_count": 28,
     "metadata": {},
     "output_type": "execute_result"
    }
   ],
   "source": [
    "confusion_matrix(labels, mlp_sd[:30553])"
   ]
  },
  {
   "cell_type": "code",
   "execution_count": 29,
   "metadata": {
    "ExecuteTime": {
     "end_time": "2020-12-18T03:56:11.534903Z",
     "start_time": "2020-12-18T03:56:11.498908Z"
    }
   },
   "outputs": [
    {
     "data": {
      "text/plain": [
       "array([[28154,   746],\n",
       "       [   94,  1559]], dtype=int64)"
      ]
     },
     "execution_count": 29,
     "metadata": {},
     "output_type": "execute_result"
    }
   ],
   "source": [
    "confusion_matrix( labels, svc_sd[:30553])"
   ]
  },
  {
   "cell_type": "code",
   "execution_count": 30,
   "metadata": {
    "ExecuteTime": {
     "end_time": "2020-12-16T13:42:38.465672Z",
     "start_time": "2020-12-16T13:42:38.248693Z"
    }
   },
   "outputs": [],
   "source": [
    "def calc_kappa(y_1, df):\n",
    "    k_s = []\n",
    "    for i in df.columns:\n",
    "        k_s.append(cohen_kappa_score(y_1, df))\n",
    "    return k_s"
   ]
  },
  {
   "cell_type": "code",
   "execution_count": 32,
   "metadata": {
    "ExecuteTime": {
     "end_time": "2020-12-22T05:41:01.248987Z",
     "start_time": "2020-12-22T05:41:01.241971Z"
    }
   },
   "outputs": [
    {
     "data": {
      "text/plain": [
       "Counter({0: 48530, 1: 6023})"
      ]
     },
     "execution_count": 32,
     "metadata": {},
     "output_type": "execute_result"
    }
   ],
   "source": [
    "Counter(labels)"
   ]
  },
  {
   "cell_type": "code",
   "execution_count": 80,
   "metadata": {
    "ExecuteTime": {
     "end_time": "2020-12-22T13:52:00.479711Z",
     "start_time": "2020-12-22T13:51:59.571520Z"
    }
   },
   "outputs": [],
   "source": [
    "kk_0 = []\n",
    "for i in predictions.columns:\n",
    "    kk_0.append(recall_score(labels, predictions[i].values.tolist()[:74553]))\n",
    "    \n",
    "\n",
    "kk_0 = pd.Series(kk_0, name='Recall score against VT labels')\n",
    "\n",
    "i = 0\n",
    "for j in predictions.columns:\n",
    "    kk_0.rename(index={i: j}, inplace=True)\n",
    "    i += 1"
   ]
  },
  {
   "cell_type": "code",
   "execution_count": 81,
   "metadata": {
    "ExecuteTime": {
     "end_time": "2020-12-22T13:52:02.553471Z",
     "start_time": "2020-12-22T13:52:02.545494Z"
    }
   },
   "outputs": [
    {
     "data": {
      "text/html": [
       "<div>\n",
       "<style scoped>\n",
       "    .dataframe tbody tr th:only-of-type {\n",
       "        vertical-align: middle;\n",
       "    }\n",
       "\n",
       "    .dataframe tbody tr th {\n",
       "        vertical-align: top;\n",
       "    }\n",
       "\n",
       "    .dataframe thead th {\n",
       "        text-align: right;\n",
       "    }\n",
       "</style>\n",
       "<table border=\"1\" class=\"dataframe\">\n",
       "  <thead>\n",
       "    <tr style=\"text-align: right;\">\n",
       "      <th></th>\n",
       "      <th>Recall score against VT labels</th>\n",
       "    </tr>\n",
       "  </thead>\n",
       "  <tbody>\n",
       "    <tr>\n",
       "      <th>Labeled with subdomains</th>\n",
       "      <td>0.532370</td>\n",
       "    </tr>\n",
       "    <tr>\n",
       "      <th>Labeled w/o subdomains</th>\n",
       "      <td>0.864387</td>\n",
       "    </tr>\n",
       "    <tr>\n",
       "      <th>Labeled dtc</th>\n",
       "      <td>0.623922</td>\n",
       "    </tr>\n",
       "    <tr>\n",
       "      <th>Labeled rfc</th>\n",
       "      <td>0.773875</td>\n",
       "    </tr>\n",
       "    <tr>\n",
       "      <th>Labeled xgb</th>\n",
       "      <td>0.803388</td>\n",
       "    </tr>\n",
       "    <tr>\n",
       "      <th>Labeled gbc</th>\n",
       "      <td>0.825003</td>\n",
       "    </tr>\n",
       "    <tr>\n",
       "      <th>Labeled mlp</th>\n",
       "      <td>0.841214</td>\n",
       "    </tr>\n",
       "    <tr>\n",
       "      <th>Labeled svc</th>\n",
       "      <td>0.829367</td>\n",
       "    </tr>\n",
       "    <tr>\n",
       "      <th>Labeled dtc_sd</th>\n",
       "      <td>0.861997</td>\n",
       "    </tr>\n",
       "    <tr>\n",
       "      <th>Labeled rfc_sd</th>\n",
       "      <td>0.802452</td>\n",
       "    </tr>\n",
       "    <tr>\n",
       "      <th>Labeled xgb_sd</th>\n",
       "      <td>0.809415</td>\n",
       "    </tr>\n",
       "    <tr>\n",
       "      <th>Labeled gbc_sd</th>\n",
       "      <td>0.806297</td>\n",
       "    </tr>\n",
       "    <tr>\n",
       "      <th>Labeled mlp_sd</th>\n",
       "      <td>0.806505</td>\n",
       "    </tr>\n",
       "    <tr>\n",
       "      <th>Labeled svc_sd</th>\n",
       "      <td>0.862309</td>\n",
       "    </tr>\n",
       "  </tbody>\n",
       "</table>\n",
       "</div>"
      ],
      "text/plain": [
       "                         Recall score against VT labels\n",
       "Labeled with subdomains                        0.532370\n",
       "Labeled w/o subdomains                         0.864387\n",
       "Labeled dtc                                    0.623922\n",
       "Labeled rfc                                    0.773875\n",
       "Labeled xgb                                    0.803388\n",
       "Labeled gbc                                    0.825003\n",
       "Labeled mlp                                    0.841214\n",
       "Labeled svc                                    0.829367\n",
       "Labeled dtc_sd                                 0.861997\n",
       "Labeled rfc_sd                                 0.802452\n",
       "Labeled xgb_sd                                 0.809415\n",
       "Labeled gbc_sd                                 0.806297\n",
       "Labeled mlp_sd                                 0.806505\n",
       "Labeled svc_sd                                 0.862309"
      ]
     },
     "execution_count": 81,
     "metadata": {},
     "output_type": "execute_result"
    }
   ],
   "source": [
    "pd.concat([kk_0], axis=1)"
   ]
  },
  {
   "cell_type": "code",
   "execution_count": null,
   "metadata": {
    "ExecuteTime": {
     "end_time": "2020-12-22T05:42:42.682910Z",
     "start_time": "2020-12-22T05:42:42.664958Z"
    }
   },
   "outputs": [],
   "source": [
    "kk_1 = []\n",
    "for i in predictions.columns:\n",
    "    kk_1.append(cohen_kappa_score(ht_sd, predictions[i].values.tolist()[:30553]))\n",
    "\n",
    "kk_1 = pd.Series(kk_1, name='HT_sd')"
   ]
  },
  {
   "cell_type": "code",
   "execution_count": 18,
   "metadata": {
    "ExecuteTime": {
     "end_time": "2020-12-21T15:54:23.698651Z",
     "start_time": "2020-12-21T15:54:23.323655Z"
    }
   },
   "outputs": [],
   "source": [
    "kk_2 = []\n",
    "for i in predictions.columns:\n",
    "    kk_2.append(cohen_kappa_score(ht_nosd, predictions[i].values.tolist()[:30553]))\n",
    "\n",
    "kk_2 = pd.Series(kk_2, name='HT_nosd')"
   ]
  },
  {
   "cell_type": "code",
   "execution_count": 19,
   "metadata": {
    "ExecuteTime": {
     "end_time": "2020-12-21T15:54:24.848771Z",
     "start_time": "2020-12-21T15:54:24.443828Z"
    }
   },
   "outputs": [],
   "source": [
    "kk_3 = []\n",
    "for i in predictions.columns:\n",
    "    kk_3.append(cohen_kappa_score(dtc, predictions[i].values.tolist()[:30553]))\n",
    "    \n",
    "kk_3 = pd.Series(kk_3, name='DTC_nosd')"
   ]
  },
  {
   "cell_type": "code",
   "execution_count": 20,
   "metadata": {
    "ExecuteTime": {
     "end_time": "2020-12-21T15:54:25.241835Z",
     "start_time": "2020-12-21T15:54:24.849739Z"
    }
   },
   "outputs": [],
   "source": [
    "kk_4 = []\n",
    "for i in predictions.columns:\n",
    "    kk_4.append(cohen_kappa_score(rfc, predictions[i].values.tolist()[:30553]))\n",
    "    \n",
    "kk_4 = pd.Series(kk_4, name='RFC_nosd')"
   ]
  },
  {
   "cell_type": "code",
   "execution_count": 21,
   "metadata": {
    "ExecuteTime": {
     "end_time": "2020-12-21T15:54:25.631673Z",
     "start_time": "2020-12-21T15:54:25.242687Z"
    }
   },
   "outputs": [],
   "source": [
    "kk_5 = []\n",
    "for i in predictions.columns:\n",
    "    kk_5.append(cohen_kappa_score(xgb, predictions[i].values.tolist()[:30553]))\n",
    "kk_5 = pd.Series(kk_5, name='XGB_nosd')"
   ]
  },
  {
   "cell_type": "code",
   "execution_count": 22,
   "metadata": {
    "ExecuteTime": {
     "end_time": "2020-12-21T15:54:26.158335Z",
     "start_time": "2020-12-21T15:54:25.632642Z"
    }
   },
   "outputs": [],
   "source": [
    "kk_6 = []\n",
    "for i in predictions.columns:\n",
    "    kk_6.append(cohen_kappa_score(gbc, predictions[i].values.tolist()[:30553]))\n",
    "kk_6 = pd.Series(kk_6, name='GBC_nosd')"
   ]
  },
  {
   "cell_type": "code",
   "execution_count": 23,
   "metadata": {
    "ExecuteTime": {
     "end_time": "2020-12-21T15:54:26.555317Z",
     "start_time": "2020-12-21T15:54:26.159234Z"
    }
   },
   "outputs": [],
   "source": [
    "kk_7 = []\n",
    "for i in predictions.columns:\n",
    "    kk_7.append(cohen_kappa_score(mlp, predictions[i].values.tolist()[:30553]))\n",
    "kk_7 = pd.Series(kk_7, name='MLP_nosd')"
   ]
  },
  {
   "cell_type": "code",
   "execution_count": 24,
   "metadata": {
    "ExecuteTime": {
     "end_time": "2020-12-21T15:54:26.958096Z",
     "start_time": "2020-12-21T15:54:26.556171Z"
    }
   },
   "outputs": [],
   "source": [
    "kk_8 = []\n",
    "for i in predictions.columns:\n",
    "    kk_8.append(cohen_kappa_score(svc, predictions[i].values.tolist()[:30553]))\n",
    "kk_8 = pd.Series(kk_8, name='SVC_nosd')"
   ]
  },
  {
   "cell_type": "code",
   "execution_count": 25,
   "metadata": {
    "ExecuteTime": {
     "end_time": "2020-12-21T15:54:27.340105Z",
     "start_time": "2020-12-21T15:54:26.959095Z"
    }
   },
   "outputs": [],
   "source": [
    "kk_9 = []\n",
    "for i in predictions.columns:\n",
    "    kk_9.append(cohen_kappa_score(dtc_sd, predictions[i].values.tolist()[:30553]))\n",
    "kk_9 = pd.Series(kk_9, name='DTC_sd')"
   ]
  },
  {
   "cell_type": "code",
   "execution_count": 26,
   "metadata": {
    "ExecuteTime": {
     "end_time": "2020-12-21T15:54:27.732058Z",
     "start_time": "2020-12-21T15:54:27.341072Z"
    }
   },
   "outputs": [],
   "source": [
    "kk_10 = []\n",
    "for i in predictions.columns:\n",
    "    kk_10.append(cohen_kappa_score(rfc_sd, predictions[i].values.tolist()[:30553]))\n",
    "kk_10 = pd.Series(kk_10, name='RFC_sd')"
   ]
  },
  {
   "cell_type": "code",
   "execution_count": 27,
   "metadata": {
    "ExecuteTime": {
     "end_time": "2020-12-21T15:54:28.153895Z",
     "start_time": "2020-12-21T15:54:27.734051Z"
    }
   },
   "outputs": [],
   "source": [
    "kk_11 = []\n",
    "for i in predictions.columns:\n",
    "    kk_11.append(cohen_kappa_score(xgb_sd, predictions[i].values.tolist()[:30553]))\n",
    "kk_11 = pd.Series(kk_11, name='XGB_sd')"
   ]
  },
  {
   "cell_type": "code",
   "execution_count": 28,
   "metadata": {
    "ExecuteTime": {
     "end_time": "2020-12-21T15:54:28.544881Z",
     "start_time": "2020-12-21T15:54:28.154893Z"
    }
   },
   "outputs": [],
   "source": [
    "kk_12 = []\n",
    "for i in predictions.columns:\n",
    "    kk_12.append(cohen_kappa_score(gbc_sd, predictions[i].values.tolist()[:30553]))\n",
    "kk_12 = pd.Series(kk_12, name='GBC_sd')"
   ]
  },
  {
   "cell_type": "code",
   "execution_count": 29,
   "metadata": {
    "ExecuteTime": {
     "end_time": "2020-12-21T15:54:28.930848Z",
     "start_time": "2020-12-21T15:54:28.546844Z"
    }
   },
   "outputs": [],
   "source": [
    "kk_13 = []\n",
    "for i in predictions.columns:\n",
    "    kk_13.append(cohen_kappa_score(mlp_sd, predictions[i].values.tolist()[:30553]))\n",
    "kk_13 = pd.Series(kk_13, name='MLP_sd')"
   ]
  },
  {
   "cell_type": "code",
   "execution_count": 30,
   "metadata": {
    "ExecuteTime": {
     "end_time": "2020-12-21T15:54:29.316783Z",
     "start_time": "2020-12-21T15:54:28.931814Z"
    }
   },
   "outputs": [],
   "source": [
    "kk_14 = []\n",
    "for i in predictions.columns:\n",
    "    kk_14.append(cohen_kappa_score(svc_sd, predictions[i].values.tolist()[:30553]))\n",
    "kk_14 = pd.Series(kk_14, name='SVC_sd')"
   ]
  },
  {
   "cell_type": "code",
   "execution_count": 31,
   "metadata": {
    "ExecuteTime": {
     "end_time": "2020-12-21T15:54:29.323800Z",
     "start_time": "2020-12-21T15:54:29.317782Z"
    }
   },
   "outputs": [],
   "source": [
    "scores = pd.concat([kk_1, kk_2, kk_3, kk_4, kk_5, kk_6, kk_7, kk_8, kk_9, kk_10, kk_11, kk_12, kk_13, kk_14], axis=1)"
   ]
  },
  {
   "cell_type": "code",
   "execution_count": 32,
   "metadata": {
    "ExecuteTime": {
     "end_time": "2020-12-21T15:54:29.339724Z",
     "start_time": "2020-12-21T15:54:29.325760Z"
    }
   },
   "outputs": [],
   "source": [
    "i = 0\n",
    "for j in scores.columns:\n",
    "    scores.rename(index={i: j}, inplace=True)\n",
    "    i += 1"
   ]
  },
  {
   "cell_type": "code",
   "execution_count": 33,
   "metadata": {
    "ExecuteTime": {
     "end_time": "2020-12-21T15:54:50.524346Z",
     "start_time": "2020-12-21T15:54:50.509385Z"
    }
   },
   "outputs": [
    {
     "data": {
      "text/html": [
       "<div>\n",
       "<style scoped>\n",
       "    .dataframe tbody tr th:only-of-type {\n",
       "        vertical-align: middle;\n",
       "    }\n",
       "\n",
       "    .dataframe tbody tr th {\n",
       "        vertical-align: top;\n",
       "    }\n",
       "\n",
       "    .dataframe thead th {\n",
       "        text-align: right;\n",
       "    }\n",
       "</style>\n",
       "<table border=\"1\" class=\"dataframe\">\n",
       "  <thead>\n",
       "    <tr style=\"text-align: right;\">\n",
       "      <th></th>\n",
       "      <th>HT_sd</th>\n",
       "      <th>HT_nosd</th>\n",
       "      <th>DTC_nosd</th>\n",
       "      <th>RFC_nosd</th>\n",
       "      <th>XGB_nosd</th>\n",
       "      <th>GBC_nosd</th>\n",
       "      <th>MLP_nosd</th>\n",
       "      <th>SVC_nosd</th>\n",
       "      <th>DTC_sd</th>\n",
       "      <th>RFC_sd</th>\n",
       "      <th>XGB_sd</th>\n",
       "      <th>GBC_sd</th>\n",
       "      <th>MLP_sd</th>\n",
       "      <th>SVC_sd</th>\n",
       "    </tr>\n",
       "  </thead>\n",
       "  <tbody>\n",
       "    <tr>\n",
       "      <th>HT_sd</th>\n",
       "      <td>1.000000</td>\n",
       "      <td>0.733355</td>\n",
       "      <td>0.777624</td>\n",
       "      <td>0.845932</td>\n",
       "      <td>0.851883</td>\n",
       "      <td>0.836810</td>\n",
       "      <td>0.906817</td>\n",
       "      <td>0.859882</td>\n",
       "      <td>0.951362</td>\n",
       "      <td>0.897768</td>\n",
       "      <td>0.891480</td>\n",
       "      <td>0.909447</td>\n",
       "      <td>0.912916</td>\n",
       "      <td>0.953949</td>\n",
       "    </tr>\n",
       "    <tr>\n",
       "      <th>HT_nosd</th>\n",
       "      <td>0.733355</td>\n",
       "      <td>1.000000</td>\n",
       "      <td>0.695464</td>\n",
       "      <td>0.761841</td>\n",
       "      <td>0.753023</td>\n",
       "      <td>0.804358</td>\n",
       "      <td>0.774141</td>\n",
       "      <td>0.784409</td>\n",
       "      <td>0.770997</td>\n",
       "      <td>0.738959</td>\n",
       "      <td>0.742047</td>\n",
       "      <td>0.744479</td>\n",
       "      <td>0.759810</td>\n",
       "      <td>0.773056</td>\n",
       "    </tr>\n",
       "    <tr>\n",
       "      <th>DTC_nosd</th>\n",
       "      <td>0.777624</td>\n",
       "      <td>0.695464</td>\n",
       "      <td>1.000000</td>\n",
       "      <td>0.849142</td>\n",
       "      <td>0.848101</td>\n",
       "      <td>0.807258</td>\n",
       "      <td>0.820421</td>\n",
       "      <td>0.787973</td>\n",
       "      <td>0.819595</td>\n",
       "      <td>0.845113</td>\n",
       "      <td>0.833160</td>\n",
       "      <td>0.828802</td>\n",
       "      <td>0.810710</td>\n",
       "      <td>0.819461</td>\n",
       "    </tr>\n",
       "    <tr>\n",
       "      <th>RFC_nosd</th>\n",
       "      <td>0.845932</td>\n",
       "      <td>0.761841</td>\n",
       "      <td>0.849142</td>\n",
       "      <td>1.000000</td>\n",
       "      <td>0.923542</td>\n",
       "      <td>0.891981</td>\n",
       "      <td>0.900799</td>\n",
       "      <td>0.880820</td>\n",
       "      <td>0.891123</td>\n",
       "      <td>0.928202</td>\n",
       "      <td>0.911579</td>\n",
       "      <td>0.894432</td>\n",
       "      <td>0.889071</td>\n",
       "      <td>0.890466</td>\n",
       "    </tr>\n",
       "    <tr>\n",
       "      <th>XGB_nosd</th>\n",
       "      <td>0.851883</td>\n",
       "      <td>0.753023</td>\n",
       "      <td>0.848101</td>\n",
       "      <td>0.923542</td>\n",
       "      <td>1.000000</td>\n",
       "      <td>0.889695</td>\n",
       "      <td>0.903178</td>\n",
       "      <td>0.862273</td>\n",
       "      <td>0.897205</td>\n",
       "      <td>0.919874</td>\n",
       "      <td>0.934669</td>\n",
       "      <td>0.903853</td>\n",
       "      <td>0.895275</td>\n",
       "      <td>0.898013</td>\n",
       "    </tr>\n",
       "    <tr>\n",
       "      <th>GBC_nosd</th>\n",
       "      <td>0.836810</td>\n",
       "      <td>0.804358</td>\n",
       "      <td>0.807258</td>\n",
       "      <td>0.891981</td>\n",
       "      <td>0.889695</td>\n",
       "      <td>1.000000</td>\n",
       "      <td>0.891212</td>\n",
       "      <td>0.869533</td>\n",
       "      <td>0.880197</td>\n",
       "      <td>0.870561</td>\n",
       "      <td>0.879799</td>\n",
       "      <td>0.886916</td>\n",
       "      <td>0.877941</td>\n",
       "      <td>0.880965</td>\n",
       "    </tr>\n",
       "    <tr>\n",
       "      <th>MLP_nosd</th>\n",
       "      <td>0.906817</td>\n",
       "      <td>0.774141</td>\n",
       "      <td>0.820421</td>\n",
       "      <td>0.900799</td>\n",
       "      <td>0.903178</td>\n",
       "      <td>0.891212</td>\n",
       "      <td>1.000000</td>\n",
       "      <td>0.912124</td>\n",
       "      <td>0.951643</td>\n",
       "      <td>0.924997</td>\n",
       "      <td>0.924674</td>\n",
       "      <td>0.935677</td>\n",
       "      <td>0.969362</td>\n",
       "      <td>0.952391</td>\n",
       "    </tr>\n",
       "    <tr>\n",
       "      <th>SVC_nosd</th>\n",
       "      <td>0.859882</td>\n",
       "      <td>0.784409</td>\n",
       "      <td>0.787973</td>\n",
       "      <td>0.880820</td>\n",
       "      <td>0.862273</td>\n",
       "      <td>0.869533</td>\n",
       "      <td>0.912124</td>\n",
       "      <td>1.000000</td>\n",
       "      <td>0.901736</td>\n",
       "      <td>0.873408</td>\n",
       "      <td>0.875313</td>\n",
       "      <td>0.887197</td>\n",
       "      <td>0.906824</td>\n",
       "      <td>0.904329</td>\n",
       "    </tr>\n",
       "    <tr>\n",
       "      <th>DTC_sd</th>\n",
       "      <td>0.951362</td>\n",
       "      <td>0.770997</td>\n",
       "      <td>0.819595</td>\n",
       "      <td>0.891123</td>\n",
       "      <td>0.897205</td>\n",
       "      <td>0.880197</td>\n",
       "      <td>0.951643</td>\n",
       "      <td>0.901736</td>\n",
       "      <td>1.000000</td>\n",
       "      <td>0.944686</td>\n",
       "      <td>0.937542</td>\n",
       "      <td>0.955857</td>\n",
       "      <td>0.959787</td>\n",
       "      <td>0.996948</td>\n",
       "    </tr>\n",
       "    <tr>\n",
       "      <th>RFC_sd</th>\n",
       "      <td>0.897768</td>\n",
       "      <td>0.738959</td>\n",
       "      <td>0.845113</td>\n",
       "      <td>0.928202</td>\n",
       "      <td>0.919874</td>\n",
       "      <td>0.870561</td>\n",
       "      <td>0.924997</td>\n",
       "      <td>0.873408</td>\n",
       "      <td>0.944686</td>\n",
       "      <td>1.000000</td>\n",
       "      <td>0.954896</td>\n",
       "      <td>0.944292</td>\n",
       "      <td>0.935728</td>\n",
       "      <td>0.944476</td>\n",
       "    </tr>\n",
       "    <tr>\n",
       "      <th>XGB_sd</th>\n",
       "      <td>0.891480</td>\n",
       "      <td>0.742047</td>\n",
       "      <td>0.833160</td>\n",
       "      <td>0.911579</td>\n",
       "      <td>0.934669</td>\n",
       "      <td>0.879799</td>\n",
       "      <td>0.924674</td>\n",
       "      <td>0.875313</td>\n",
       "      <td>0.937542</td>\n",
       "      <td>0.954896</td>\n",
       "      <td>1.000000</td>\n",
       "      <td>0.941492</td>\n",
       "      <td>0.938508</td>\n",
       "      <td>0.937829</td>\n",
       "    </tr>\n",
       "    <tr>\n",
       "      <th>GBC_sd</th>\n",
       "      <td>0.909447</td>\n",
       "      <td>0.744479</td>\n",
       "      <td>0.828802</td>\n",
       "      <td>0.894432</td>\n",
       "      <td>0.903853</td>\n",
       "      <td>0.886916</td>\n",
       "      <td>0.935677</td>\n",
       "      <td>0.887197</td>\n",
       "      <td>0.955857</td>\n",
       "      <td>0.944292</td>\n",
       "      <td>0.941492</td>\n",
       "      <td>1.000000</td>\n",
       "      <td>0.946396</td>\n",
       "      <td>0.955642</td>\n",
       "    </tr>\n",
       "    <tr>\n",
       "      <th>MLP_sd</th>\n",
       "      <td>0.912916</td>\n",
       "      <td>0.759810</td>\n",
       "      <td>0.810710</td>\n",
       "      <td>0.889071</td>\n",
       "      <td>0.895275</td>\n",
       "      <td>0.877941</td>\n",
       "      <td>0.969362</td>\n",
       "      <td>0.906824</td>\n",
       "      <td>0.959787</td>\n",
       "      <td>0.935728</td>\n",
       "      <td>0.938508</td>\n",
       "      <td>0.946396</td>\n",
       "      <td>1.000000</td>\n",
       "      <td>0.960054</td>\n",
       "    </tr>\n",
       "    <tr>\n",
       "      <th>SVC_sd</th>\n",
       "      <td>0.953949</td>\n",
       "      <td>0.773056</td>\n",
       "      <td>0.819461</td>\n",
       "      <td>0.890466</td>\n",
       "      <td>0.898013</td>\n",
       "      <td>0.880965</td>\n",
       "      <td>0.952391</td>\n",
       "      <td>0.904329</td>\n",
       "      <td>0.996948</td>\n",
       "      <td>0.944476</td>\n",
       "      <td>0.937829</td>\n",
       "      <td>0.955642</td>\n",
       "      <td>0.960054</td>\n",
       "      <td>1.000000</td>\n",
       "    </tr>\n",
       "  </tbody>\n",
       "</table>\n",
       "</div>"
      ],
      "text/plain": [
       "             HT_sd   HT_nosd  DTC_nosd  RFC_nosd  XGB_nosd  GBC_nosd  \\\n",
       "HT_sd     1.000000  0.733355  0.777624  0.845932  0.851883  0.836810   \n",
       "HT_nosd   0.733355  1.000000  0.695464  0.761841  0.753023  0.804358   \n",
       "DTC_nosd  0.777624  0.695464  1.000000  0.849142  0.848101  0.807258   \n",
       "RFC_nosd  0.845932  0.761841  0.849142  1.000000  0.923542  0.891981   \n",
       "XGB_nosd  0.851883  0.753023  0.848101  0.923542  1.000000  0.889695   \n",
       "GBC_nosd  0.836810  0.804358  0.807258  0.891981  0.889695  1.000000   \n",
       "MLP_nosd  0.906817  0.774141  0.820421  0.900799  0.903178  0.891212   \n",
       "SVC_nosd  0.859882  0.784409  0.787973  0.880820  0.862273  0.869533   \n",
       "DTC_sd    0.951362  0.770997  0.819595  0.891123  0.897205  0.880197   \n",
       "RFC_sd    0.897768  0.738959  0.845113  0.928202  0.919874  0.870561   \n",
       "XGB_sd    0.891480  0.742047  0.833160  0.911579  0.934669  0.879799   \n",
       "GBC_sd    0.909447  0.744479  0.828802  0.894432  0.903853  0.886916   \n",
       "MLP_sd    0.912916  0.759810  0.810710  0.889071  0.895275  0.877941   \n",
       "SVC_sd    0.953949  0.773056  0.819461  0.890466  0.898013  0.880965   \n",
       "\n",
       "          MLP_nosd  SVC_nosd    DTC_sd    RFC_sd    XGB_sd    GBC_sd  \\\n",
       "HT_sd     0.906817  0.859882  0.951362  0.897768  0.891480  0.909447   \n",
       "HT_nosd   0.774141  0.784409  0.770997  0.738959  0.742047  0.744479   \n",
       "DTC_nosd  0.820421  0.787973  0.819595  0.845113  0.833160  0.828802   \n",
       "RFC_nosd  0.900799  0.880820  0.891123  0.928202  0.911579  0.894432   \n",
       "XGB_nosd  0.903178  0.862273  0.897205  0.919874  0.934669  0.903853   \n",
       "GBC_nosd  0.891212  0.869533  0.880197  0.870561  0.879799  0.886916   \n",
       "MLP_nosd  1.000000  0.912124  0.951643  0.924997  0.924674  0.935677   \n",
       "SVC_nosd  0.912124  1.000000  0.901736  0.873408  0.875313  0.887197   \n",
       "DTC_sd    0.951643  0.901736  1.000000  0.944686  0.937542  0.955857   \n",
       "RFC_sd    0.924997  0.873408  0.944686  1.000000  0.954896  0.944292   \n",
       "XGB_sd    0.924674  0.875313  0.937542  0.954896  1.000000  0.941492   \n",
       "GBC_sd    0.935677  0.887197  0.955857  0.944292  0.941492  1.000000   \n",
       "MLP_sd    0.969362  0.906824  0.959787  0.935728  0.938508  0.946396   \n",
       "SVC_sd    0.952391  0.904329  0.996948  0.944476  0.937829  0.955642   \n",
       "\n",
       "            MLP_sd    SVC_sd  \n",
       "HT_sd     0.912916  0.953949  \n",
       "HT_nosd   0.759810  0.773056  \n",
       "DTC_nosd  0.810710  0.819461  \n",
       "RFC_nosd  0.889071  0.890466  \n",
       "XGB_nosd  0.895275  0.898013  \n",
       "GBC_nosd  0.877941  0.880965  \n",
       "MLP_nosd  0.969362  0.952391  \n",
       "SVC_nosd  0.906824  0.904329  \n",
       "DTC_sd    0.959787  0.996948  \n",
       "RFC_sd    0.935728  0.944476  \n",
       "XGB_sd    0.938508  0.937829  \n",
       "GBC_sd    0.946396  0.955642  \n",
       "MLP_sd    1.000000  0.960054  \n",
       "SVC_sd    0.960054  1.000000  "
      ]
     },
     "execution_count": 33,
     "metadata": {},
     "output_type": "execute_result"
    }
   ],
   "source": [
    "# at 30553\n",
    "scores"
   ]
  },
  {
   "cell_type": "code",
   "execution_count": 23,
   "metadata": {
    "ExecuteTime": {
     "end_time": "2020-12-16T13:38:36.463804Z",
     "start_time": "2020-12-16T13:38:36.245947Z"
    },
    "scrolled": false
   },
   "outputs": [
    {
     "data": {
      "text/html": [
       "<div>\n",
       "<style scoped>\n",
       "    .dataframe tbody tr th:only-of-type {\n",
       "        vertical-align: middle;\n",
       "    }\n",
       "\n",
       "    .dataframe tbody tr th {\n",
       "        vertical-align: top;\n",
       "    }\n",
       "\n",
       "    .dataframe thead th {\n",
       "        text-align: right;\n",
       "    }\n",
       "</style>\n",
       "<table border=\"1\" class=\"dataframe\">\n",
       "  <thead>\n",
       "    <tr style=\"text-align: right;\">\n",
       "      <th></th>\n",
       "      <th>HT_sd</th>\n",
       "      <th>HT_nosd</th>\n",
       "      <th>DTC_nosd</th>\n",
       "      <th>RFC_nosd</th>\n",
       "      <th>XGB_nosd</th>\n",
       "      <th>GBC_nosd</th>\n",
       "      <th>MLP_nosd</th>\n",
       "      <th>SVC_nosd</th>\n",
       "      <th>DTC_sd</th>\n",
       "      <th>RFC_sd</th>\n",
       "      <th>XGB_sd</th>\n",
       "      <th>GBC_sd</th>\n",
       "      <th>MLP_sd</th>\n",
       "      <th>SVC_sd</th>\n",
       "    </tr>\n",
       "  </thead>\n",
       "  <tbody>\n",
       "    <tr>\n",
       "      <th>HT_sd</th>\n",
       "      <td>1.000000</td>\n",
       "      <td>0.472702</td>\n",
       "      <td>0.536007</td>\n",
       "      <td>0.635022</td>\n",
       "      <td>0.641643</td>\n",
       "      <td>0.622850</td>\n",
       "      <td>0.759843</td>\n",
       "      <td>0.602941</td>\n",
       "      <td>0.833846</td>\n",
       "      <td>0.720133</td>\n",
       "      <td>0.717321</td>\n",
       "      <td>0.742215</td>\n",
       "      <td>0.777479</td>\n",
       "      <td>0.833846</td>\n",
       "    </tr>\n",
       "    <tr>\n",
       "      <th>HT_nosd</th>\n",
       "      <td>0.472702</td>\n",
       "      <td>1.000000</td>\n",
       "      <td>0.488778</td>\n",
       "      <td>0.538546</td>\n",
       "      <td>0.489606</td>\n",
       "      <td>0.579053</td>\n",
       "      <td>0.529465</td>\n",
       "      <td>0.631339</td>\n",
       "      <td>0.543579</td>\n",
       "      <td>0.457043</td>\n",
       "      <td>0.468487</td>\n",
       "      <td>0.474360</td>\n",
       "      <td>0.515412</td>\n",
       "      <td>0.543579</td>\n",
       "    </tr>\n",
       "    <tr>\n",
       "      <th>DTC_nosd</th>\n",
       "      <td>0.536007</td>\n",
       "      <td>0.488778</td>\n",
       "      <td>1.000000</td>\n",
       "      <td>0.676990</td>\n",
       "      <td>0.694215</td>\n",
       "      <td>0.661483</td>\n",
       "      <td>0.612966</td>\n",
       "      <td>0.547179</td>\n",
       "      <td>0.646421</td>\n",
       "      <td>0.692239</td>\n",
       "      <td>0.694215</td>\n",
       "      <td>0.676805</td>\n",
       "      <td>0.607393</td>\n",
       "      <td>0.646421</td>\n",
       "    </tr>\n",
       "    <tr>\n",
       "      <th>RFC_nosd</th>\n",
       "      <td>0.635022</td>\n",
       "      <td>0.538546</td>\n",
       "      <td>0.676990</td>\n",
       "      <td>1.000000</td>\n",
       "      <td>0.841810</td>\n",
       "      <td>0.874899</td>\n",
       "      <td>0.761807</td>\n",
       "      <td>0.725382</td>\n",
       "      <td>0.763219</td>\n",
       "      <td>0.828391</td>\n",
       "      <td>0.808507</td>\n",
       "      <td>0.783177</td>\n",
       "      <td>0.752192</td>\n",
       "      <td>0.763219</td>\n",
       "    </tr>\n",
       "    <tr>\n",
       "      <th>XGB_nosd</th>\n",
       "      <td>0.641643</td>\n",
       "      <td>0.489606</td>\n",
       "      <td>0.694215</td>\n",
       "      <td>0.841810</td>\n",
       "      <td>1.000000</td>\n",
       "      <td>0.817004</td>\n",
       "      <td>0.787290</td>\n",
       "      <td>0.647358</td>\n",
       "      <td>0.782216</td>\n",
       "      <td>0.838146</td>\n",
       "      <td>0.859107</td>\n",
       "      <td>0.800113</td>\n",
       "      <td>0.771227</td>\n",
       "      <td>0.782216</td>\n",
       "    </tr>\n",
       "    <tr>\n",
       "      <th>GBC_nosd</th>\n",
       "      <td>0.622850</td>\n",
       "      <td>0.579053</td>\n",
       "      <td>0.661483</td>\n",
       "      <td>0.874899</td>\n",
       "      <td>0.817004</td>\n",
       "      <td>1.000000</td>\n",
       "      <td>0.744904</td>\n",
       "      <td>0.728654</td>\n",
       "      <td>0.747071</td>\n",
       "      <td>0.749378</td>\n",
       "      <td>0.756915</td>\n",
       "      <td>0.754506</td>\n",
       "      <td>0.730170</td>\n",
       "      <td>0.747071</td>\n",
       "    </tr>\n",
       "    <tr>\n",
       "      <th>MLP_nosd</th>\n",
       "      <td>0.759843</td>\n",
       "      <td>0.529465</td>\n",
       "      <td>0.612966</td>\n",
       "      <td>0.761807</td>\n",
       "      <td>0.787290</td>\n",
       "      <td>0.744904</td>\n",
       "      <td>1.000000</td>\n",
       "      <td>0.738204</td>\n",
       "      <td>0.919553</td>\n",
       "      <td>0.841608</td>\n",
       "      <td>0.838340</td>\n",
       "      <td>0.883735</td>\n",
       "      <td>0.960071</td>\n",
       "      <td>0.919553</td>\n",
       "    </tr>\n",
       "    <tr>\n",
       "      <th>SVC_nosd</th>\n",
       "      <td>0.602941</td>\n",
       "      <td>0.631339</td>\n",
       "      <td>0.547179</td>\n",
       "      <td>0.725382</td>\n",
       "      <td>0.647358</td>\n",
       "      <td>0.728654</td>\n",
       "      <td>0.738204</td>\n",
       "      <td>1.000000</td>\n",
       "      <td>0.711062</td>\n",
       "      <td>0.636694</td>\n",
       "      <td>0.633619</td>\n",
       "      <td>0.660827</td>\n",
       "      <td>0.725705</td>\n",
       "      <td>0.711062</td>\n",
       "    </tr>\n",
       "    <tr>\n",
       "      <th>DTC_sd</th>\n",
       "      <td>0.833846</td>\n",
       "      <td>0.543579</td>\n",
       "      <td>0.646421</td>\n",
       "      <td>0.763219</td>\n",
       "      <td>0.782216</td>\n",
       "      <td>0.747071</td>\n",
       "      <td>0.919553</td>\n",
       "      <td>0.711062</td>\n",
       "      <td>1.000000</td>\n",
       "      <td>0.876638</td>\n",
       "      <td>0.873632</td>\n",
       "      <td>0.900143</td>\n",
       "      <td>0.941758</td>\n",
       "      <td>1.000000</td>\n",
       "    </tr>\n",
       "    <tr>\n",
       "      <th>RFC_sd</th>\n",
       "      <td>0.720133</td>\n",
       "      <td>0.457043</td>\n",
       "      <td>0.692239</td>\n",
       "      <td>0.828391</td>\n",
       "      <td>0.838146</td>\n",
       "      <td>0.749378</td>\n",
       "      <td>0.841608</td>\n",
       "      <td>0.636694</td>\n",
       "      <td>0.876638</td>\n",
       "      <td>1.000000</td>\n",
       "      <td>0.929761</td>\n",
       "      <td>0.910755</td>\n",
       "      <td>0.860261</td>\n",
       "      <td>0.876638</td>\n",
       "    </tr>\n",
       "    <tr>\n",
       "      <th>XGB_sd</th>\n",
       "      <td>0.717321</td>\n",
       "      <td>0.468487</td>\n",
       "      <td>0.694215</td>\n",
       "      <td>0.808507</td>\n",
       "      <td>0.859107</td>\n",
       "      <td>0.756915</td>\n",
       "      <td>0.838340</td>\n",
       "      <td>0.633619</td>\n",
       "      <td>0.873632</td>\n",
       "      <td>0.929761</td>\n",
       "      <td>1.000000</td>\n",
       "      <td>0.901548</td>\n",
       "      <td>0.857017</td>\n",
       "      <td>0.873632</td>\n",
       "    </tr>\n",
       "    <tr>\n",
       "      <th>GBC_sd</th>\n",
       "      <td>0.742215</td>\n",
       "      <td>0.474360</td>\n",
       "      <td>0.676805</td>\n",
       "      <td>0.783177</td>\n",
       "      <td>0.800113</td>\n",
       "      <td>0.754506</td>\n",
       "      <td>0.883735</td>\n",
       "      <td>0.660827</td>\n",
       "      <td>0.900143</td>\n",
       "      <td>0.910755</td>\n",
       "      <td>0.901548</td>\n",
       "      <td>1.000000</td>\n",
       "      <td>0.902330</td>\n",
       "      <td>0.900143</td>\n",
       "    </tr>\n",
       "    <tr>\n",
       "      <th>MLP_sd</th>\n",
       "      <td>0.777479</td>\n",
       "      <td>0.515412</td>\n",
       "      <td>0.607393</td>\n",
       "      <td>0.752192</td>\n",
       "      <td>0.771227</td>\n",
       "      <td>0.730170</td>\n",
       "      <td>0.960071</td>\n",
       "      <td>0.725705</td>\n",
       "      <td>0.941758</td>\n",
       "      <td>0.860261</td>\n",
       "      <td>0.857017</td>\n",
       "      <td>0.902330</td>\n",
       "      <td>1.000000</td>\n",
       "      <td>0.941758</td>\n",
       "    </tr>\n",
       "    <tr>\n",
       "      <th>SVC_sd</th>\n",
       "      <td>0.833846</td>\n",
       "      <td>0.543579</td>\n",
       "      <td>0.646421</td>\n",
       "      <td>0.763219</td>\n",
       "      <td>0.782216</td>\n",
       "      <td>0.747071</td>\n",
       "      <td>0.919553</td>\n",
       "      <td>0.711062</td>\n",
       "      <td>1.000000</td>\n",
       "      <td>0.876638</td>\n",
       "      <td>0.873632</td>\n",
       "      <td>0.900143</td>\n",
       "      <td>0.941758</td>\n",
       "      <td>1.000000</td>\n",
       "    </tr>\n",
       "  </tbody>\n",
       "</table>\n",
       "</div>"
      ],
      "text/plain": [
       "             HT_sd   HT_nosd  DTC_nosd  RFC_nosd  XGB_nosd  GBC_nosd  \\\n",
       "HT_sd     1.000000  0.472702  0.536007  0.635022  0.641643  0.622850   \n",
       "HT_nosd   0.472702  1.000000  0.488778  0.538546  0.489606  0.579053   \n",
       "DTC_nosd  0.536007  0.488778  1.000000  0.676990  0.694215  0.661483   \n",
       "RFC_nosd  0.635022  0.538546  0.676990  1.000000  0.841810  0.874899   \n",
       "XGB_nosd  0.641643  0.489606  0.694215  0.841810  1.000000  0.817004   \n",
       "GBC_nosd  0.622850  0.579053  0.661483  0.874899  0.817004  1.000000   \n",
       "MLP_nosd  0.759843  0.529465  0.612966  0.761807  0.787290  0.744904   \n",
       "SVC_nosd  0.602941  0.631339  0.547179  0.725382  0.647358  0.728654   \n",
       "DTC_sd    0.833846  0.543579  0.646421  0.763219  0.782216  0.747071   \n",
       "RFC_sd    0.720133  0.457043  0.692239  0.828391  0.838146  0.749378   \n",
       "XGB_sd    0.717321  0.468487  0.694215  0.808507  0.859107  0.756915   \n",
       "GBC_sd    0.742215  0.474360  0.676805  0.783177  0.800113  0.754506   \n",
       "MLP_sd    0.777479  0.515412  0.607393  0.752192  0.771227  0.730170   \n",
       "SVC_sd    0.833846  0.543579  0.646421  0.763219  0.782216  0.747071   \n",
       "\n",
       "          MLP_nosd  SVC_nosd    DTC_sd    RFC_sd    XGB_sd    GBC_sd  \\\n",
       "HT_sd     0.759843  0.602941  0.833846  0.720133  0.717321  0.742215   \n",
       "HT_nosd   0.529465  0.631339  0.543579  0.457043  0.468487  0.474360   \n",
       "DTC_nosd  0.612966  0.547179  0.646421  0.692239  0.694215  0.676805   \n",
       "RFC_nosd  0.761807  0.725382  0.763219  0.828391  0.808507  0.783177   \n",
       "XGB_nosd  0.787290  0.647358  0.782216  0.838146  0.859107  0.800113   \n",
       "GBC_nosd  0.744904  0.728654  0.747071  0.749378  0.756915  0.754506   \n",
       "MLP_nosd  1.000000  0.738204  0.919553  0.841608  0.838340  0.883735   \n",
       "SVC_nosd  0.738204  1.000000  0.711062  0.636694  0.633619  0.660827   \n",
       "DTC_sd    0.919553  0.711062  1.000000  0.876638  0.873632  0.900143   \n",
       "RFC_sd    0.841608  0.636694  0.876638  1.000000  0.929761  0.910755   \n",
       "XGB_sd    0.838340  0.633619  0.873632  0.929761  1.000000  0.901548   \n",
       "GBC_sd    0.883735  0.660827  0.900143  0.910755  0.901548  1.000000   \n",
       "MLP_sd    0.960071  0.725705  0.941758  0.860261  0.857017  0.902330   \n",
       "SVC_sd    0.919553  0.711062  1.000000  0.876638  0.873632  0.900143   \n",
       "\n",
       "            MLP_sd    SVC_sd  \n",
       "HT_sd     0.777479  0.833846  \n",
       "HT_nosd   0.515412  0.543579  \n",
       "DTC_nosd  0.607393  0.646421  \n",
       "RFC_nosd  0.752192  0.763219  \n",
       "XGB_nosd  0.771227  0.782216  \n",
       "GBC_nosd  0.730170  0.747071  \n",
       "MLP_nosd  0.960071  0.919553  \n",
       "SVC_nosd  0.725705  0.711062  \n",
       "DTC_sd    0.941758  1.000000  \n",
       "RFC_sd    0.860261  0.876638  \n",
       "XGB_sd    0.857017  0.873632  \n",
       "GBC_sd    0.902330  0.900143  \n",
       "MLP_sd    1.000000  0.941758  \n",
       "SVC_sd    0.941758  1.000000  "
      ]
     },
     "execution_count": 23,
     "metadata": {},
     "output_type": "execute_result"
    }
   ],
   "source": [
    "# at 10000\n",
    "scores"
   ]
  },
  {
   "cell_type": "code",
   "execution_count": 70,
   "metadata": {
    "ExecuteTime": {
     "end_time": "2020-12-16T13:44:37.112172Z",
     "start_time": "2020-12-16T13:44:37.083176Z"
    }
   },
   "outputs": [
    {
     "data": {
      "text/html": [
       "<div>\n",
       "<style scoped>\n",
       "    .dataframe tbody tr th:only-of-type {\n",
       "        vertical-align: middle;\n",
       "    }\n",
       "\n",
       "    .dataframe tbody tr th {\n",
       "        vertical-align: top;\n",
       "    }\n",
       "\n",
       "    .dataframe thead th {\n",
       "        text-align: right;\n",
       "    }\n",
       "</style>\n",
       "<table border=\"1\" class=\"dataframe\">\n",
       "  <thead>\n",
       "    <tr style=\"text-align: right;\">\n",
       "      <th></th>\n",
       "      <th>HT_sd</th>\n",
       "      <th>HT_nosd</th>\n",
       "      <th>DTC_nosd</th>\n",
       "      <th>RFC_nosd</th>\n",
       "      <th>XGB_nosd</th>\n",
       "      <th>GBC_nosd</th>\n",
       "      <th>MLP_nosd</th>\n",
       "      <th>SVC_nosd</th>\n",
       "      <th>DTC_sd</th>\n",
       "      <th>RFC_sd</th>\n",
       "      <th>XGB_sd</th>\n",
       "      <th>GBC_sd</th>\n",
       "      <th>MLP_sd</th>\n",
       "      <th>SVC_sd</th>\n",
       "    </tr>\n",
       "  </thead>\n",
       "  <tbody>\n",
       "    <tr>\n",
       "      <th>HT_sd</th>\n",
       "      <td>1.000000</td>\n",
       "      <td>0.380922</td>\n",
       "      <td>0.223846</td>\n",
       "      <td>0.219961</td>\n",
       "      <td>0.230166</td>\n",
       "      <td>0.205385</td>\n",
       "      <td>0.251964</td>\n",
       "      <td>0.234591</td>\n",
       "      <td>0.282199</td>\n",
       "      <td>0.249172</td>\n",
       "      <td>0.247880</td>\n",
       "      <td>0.247925</td>\n",
       "      <td>0.250202</td>\n",
       "      <td>0.283565</td>\n",
       "    </tr>\n",
       "    <tr>\n",
       "      <th>HT_nosd</th>\n",
       "      <td>0.380922</td>\n",
       "      <td>1.000000</td>\n",
       "      <td>0.168401</td>\n",
       "      <td>0.182236</td>\n",
       "      <td>0.189823</td>\n",
       "      <td>0.174776</td>\n",
       "      <td>0.196362</td>\n",
       "      <td>0.194510</td>\n",
       "      <td>0.206367</td>\n",
       "      <td>0.196916</td>\n",
       "      <td>0.197348</td>\n",
       "      <td>0.199779</td>\n",
       "      <td>0.202501</td>\n",
       "      <td>0.206662</td>\n",
       "    </tr>\n",
       "    <tr>\n",
       "      <th>DTC_nosd</th>\n",
       "      <td>0.223846</td>\n",
       "      <td>0.168401</td>\n",
       "      <td>1.000000</td>\n",
       "      <td>0.840180</td>\n",
       "      <td>0.833158</td>\n",
       "      <td>0.772407</td>\n",
       "      <td>0.801836</td>\n",
       "      <td>0.786061</td>\n",
       "      <td>0.796798</td>\n",
       "      <td>0.817793</td>\n",
       "      <td>0.808683</td>\n",
       "      <td>0.803868</td>\n",
       "      <td>0.786245</td>\n",
       "      <td>0.796271</td>\n",
       "    </tr>\n",
       "    <tr>\n",
       "      <th>RFC_nosd</th>\n",
       "      <td>0.219961</td>\n",
       "      <td>0.182236</td>\n",
       "      <td>0.840180</td>\n",
       "      <td>1.000000</td>\n",
       "      <td>0.925738</td>\n",
       "      <td>0.858297</td>\n",
       "      <td>0.897131</td>\n",
       "      <td>0.890813</td>\n",
       "      <td>0.879436</td>\n",
       "      <td>0.912516</td>\n",
       "      <td>0.898605</td>\n",
       "      <td>0.878642</td>\n",
       "      <td>0.875025</td>\n",
       "      <td>0.879449</td>\n",
       "    </tr>\n",
       "    <tr>\n",
       "      <th>XGB_nosd</th>\n",
       "      <td>0.230166</td>\n",
       "      <td>0.189823</td>\n",
       "      <td>0.833158</td>\n",
       "      <td>0.925738</td>\n",
       "      <td>1.000000</td>\n",
       "      <td>0.843979</td>\n",
       "      <td>0.915568</td>\n",
       "      <td>0.892551</td>\n",
       "      <td>0.899669</td>\n",
       "      <td>0.916257</td>\n",
       "      <td>0.930267</td>\n",
       "      <td>0.896692</td>\n",
       "      <td>0.892036</td>\n",
       "      <td>0.899631</td>\n",
       "    </tr>\n",
       "    <tr>\n",
       "      <th>GBC_nosd</th>\n",
       "      <td>0.205385</td>\n",
       "      <td>0.174776</td>\n",
       "      <td>0.772407</td>\n",
       "      <td>0.858297</td>\n",
       "      <td>0.843979</td>\n",
       "      <td>1.000000</td>\n",
       "      <td>0.848544</td>\n",
       "      <td>0.852477</td>\n",
       "      <td>0.825274</td>\n",
       "      <td>0.817670</td>\n",
       "      <td>0.821906</td>\n",
       "      <td>0.826516</td>\n",
       "      <td>0.823985</td>\n",
       "      <td>0.825561</td>\n",
       "    </tr>\n",
       "    <tr>\n",
       "      <th>MLP_nosd</th>\n",
       "      <td>0.251964</td>\n",
       "      <td>0.196362</td>\n",
       "      <td>0.801836</td>\n",
       "      <td>0.897131</td>\n",
       "      <td>0.915568</td>\n",
       "      <td>0.848544</td>\n",
       "      <td>1.000000</td>\n",
       "      <td>0.945947</td>\n",
       "      <td>0.957674</td>\n",
       "      <td>0.925052</td>\n",
       "      <td>0.928809</td>\n",
       "      <td>0.931833</td>\n",
       "      <td>0.956917</td>\n",
       "      <td>0.958294</td>\n",
       "    </tr>\n",
       "    <tr>\n",
       "      <th>SVC_nosd</th>\n",
       "      <td>0.234591</td>\n",
       "      <td>0.194510</td>\n",
       "      <td>0.786061</td>\n",
       "      <td>0.890813</td>\n",
       "      <td>0.892551</td>\n",
       "      <td>0.852477</td>\n",
       "      <td>0.945947</td>\n",
       "      <td>1.000000</td>\n",
       "      <td>0.934562</td>\n",
       "      <td>0.907943</td>\n",
       "      <td>0.906774</td>\n",
       "      <td>0.917559</td>\n",
       "      <td>0.937460</td>\n",
       "      <td>0.935943</td>\n",
       "    </tr>\n",
       "    <tr>\n",
       "      <th>DTC_sd</th>\n",
       "      <td>0.282199</td>\n",
       "      <td>0.206367</td>\n",
       "      <td>0.796798</td>\n",
       "      <td>0.879436</td>\n",
       "      <td>0.899669</td>\n",
       "      <td>0.825274</td>\n",
       "      <td>0.957674</td>\n",
       "      <td>0.934562</td>\n",
       "      <td>1.000000</td>\n",
       "      <td>0.952813</td>\n",
       "      <td>0.950820</td>\n",
       "      <td>0.956459</td>\n",
       "      <td>0.967228</td>\n",
       "      <td>0.998285</td>\n",
       "    </tr>\n",
       "    <tr>\n",
       "      <th>RFC_sd</th>\n",
       "      <td>0.249172</td>\n",
       "      <td>0.196916</td>\n",
       "      <td>0.817793</td>\n",
       "      <td>0.912516</td>\n",
       "      <td>0.916257</td>\n",
       "      <td>0.817670</td>\n",
       "      <td>0.925052</td>\n",
       "      <td>0.907943</td>\n",
       "      <td>0.952813</td>\n",
       "      <td>1.000000</td>\n",
       "      <td>0.962518</td>\n",
       "      <td>0.948853</td>\n",
       "      <td>0.942135</td>\n",
       "      <td>0.952739</td>\n",
       "    </tr>\n",
       "    <tr>\n",
       "      <th>XGB_sd</th>\n",
       "      <td>0.247880</td>\n",
       "      <td>0.197348</td>\n",
       "      <td>0.808683</td>\n",
       "      <td>0.898605</td>\n",
       "      <td>0.930267</td>\n",
       "      <td>0.821906</td>\n",
       "      <td>0.928809</td>\n",
       "      <td>0.906774</td>\n",
       "      <td>0.950820</td>\n",
       "      <td>0.962518</td>\n",
       "      <td>1.000000</td>\n",
       "      <td>0.948519</td>\n",
       "      <td>0.943166</td>\n",
       "      <td>0.950903</td>\n",
       "    </tr>\n",
       "    <tr>\n",
       "      <th>GBC_sd</th>\n",
       "      <td>0.247925</td>\n",
       "      <td>0.199779</td>\n",
       "      <td>0.803868</td>\n",
       "      <td>0.878642</td>\n",
       "      <td>0.896692</td>\n",
       "      <td>0.826516</td>\n",
       "      <td>0.931833</td>\n",
       "      <td>0.917559</td>\n",
       "      <td>0.956459</td>\n",
       "      <td>0.948853</td>\n",
       "      <td>0.948519</td>\n",
       "      <td>1.000000</td>\n",
       "      <td>0.951119</td>\n",
       "      <td>0.956594</td>\n",
       "    </tr>\n",
       "    <tr>\n",
       "      <th>MLP_sd</th>\n",
       "      <td>0.250202</td>\n",
       "      <td>0.202501</td>\n",
       "      <td>0.786245</td>\n",
       "      <td>0.875025</td>\n",
       "      <td>0.892036</td>\n",
       "      <td>0.823985</td>\n",
       "      <td>0.956917</td>\n",
       "      <td>0.937460</td>\n",
       "      <td>0.967228</td>\n",
       "      <td>0.942135</td>\n",
       "      <td>0.943166</td>\n",
       "      <td>0.951119</td>\n",
       "      <td>1.000000</td>\n",
       "      <td>0.967868</td>\n",
       "    </tr>\n",
       "    <tr>\n",
       "      <th>SVC_sd</th>\n",
       "      <td>0.283565</td>\n",
       "      <td>0.206662</td>\n",
       "      <td>0.796271</td>\n",
       "      <td>0.879449</td>\n",
       "      <td>0.899631</td>\n",
       "      <td>0.825561</td>\n",
       "      <td>0.958294</td>\n",
       "      <td>0.935943</td>\n",
       "      <td>0.998285</td>\n",
       "      <td>0.952739</td>\n",
       "      <td>0.950903</td>\n",
       "      <td>0.956594</td>\n",
       "      <td>0.967868</td>\n",
       "      <td>1.000000</td>\n",
       "    </tr>\n",
       "  </tbody>\n",
       "</table>\n",
       "</div>"
      ],
      "text/plain": [
       "             HT_sd   HT_nosd  DTC_nosd  RFC_nosd  XGB_nosd  GBC_nosd  \\\n",
       "HT_sd     1.000000  0.380922  0.223846  0.219961  0.230166  0.205385   \n",
       "HT_nosd   0.380922  1.000000  0.168401  0.182236  0.189823  0.174776   \n",
       "DTC_nosd  0.223846  0.168401  1.000000  0.840180  0.833158  0.772407   \n",
       "RFC_nosd  0.219961  0.182236  0.840180  1.000000  0.925738  0.858297   \n",
       "XGB_nosd  0.230166  0.189823  0.833158  0.925738  1.000000  0.843979   \n",
       "GBC_nosd  0.205385  0.174776  0.772407  0.858297  0.843979  1.000000   \n",
       "MLP_nosd  0.251964  0.196362  0.801836  0.897131  0.915568  0.848544   \n",
       "SVC_nosd  0.234591  0.194510  0.786061  0.890813  0.892551  0.852477   \n",
       "DTC_sd    0.282199  0.206367  0.796798  0.879436  0.899669  0.825274   \n",
       "RFC_sd    0.249172  0.196916  0.817793  0.912516  0.916257  0.817670   \n",
       "XGB_sd    0.247880  0.197348  0.808683  0.898605  0.930267  0.821906   \n",
       "GBC_sd    0.247925  0.199779  0.803868  0.878642  0.896692  0.826516   \n",
       "MLP_sd    0.250202  0.202501  0.786245  0.875025  0.892036  0.823985   \n",
       "SVC_sd    0.283565  0.206662  0.796271  0.879449  0.899631  0.825561   \n",
       "\n",
       "          MLP_nosd  SVC_nosd    DTC_sd    RFC_sd    XGB_sd    GBC_sd  \\\n",
       "HT_sd     0.251964  0.234591  0.282199  0.249172  0.247880  0.247925   \n",
       "HT_nosd   0.196362  0.194510  0.206367  0.196916  0.197348  0.199779   \n",
       "DTC_nosd  0.801836  0.786061  0.796798  0.817793  0.808683  0.803868   \n",
       "RFC_nosd  0.897131  0.890813  0.879436  0.912516  0.898605  0.878642   \n",
       "XGB_nosd  0.915568  0.892551  0.899669  0.916257  0.930267  0.896692   \n",
       "GBC_nosd  0.848544  0.852477  0.825274  0.817670  0.821906  0.826516   \n",
       "MLP_nosd  1.000000  0.945947  0.957674  0.925052  0.928809  0.931833   \n",
       "SVC_nosd  0.945947  1.000000  0.934562  0.907943  0.906774  0.917559   \n",
       "DTC_sd    0.957674  0.934562  1.000000  0.952813  0.950820  0.956459   \n",
       "RFC_sd    0.925052  0.907943  0.952813  1.000000  0.962518  0.948853   \n",
       "XGB_sd    0.928809  0.906774  0.950820  0.962518  1.000000  0.948519   \n",
       "GBC_sd    0.931833  0.917559  0.956459  0.948853  0.948519  1.000000   \n",
       "MLP_sd    0.956917  0.937460  0.967228  0.942135  0.943166  0.951119   \n",
       "SVC_sd    0.958294  0.935943  0.998285  0.952739  0.950903  0.956594   \n",
       "\n",
       "            MLP_sd    SVC_sd  \n",
       "HT_sd     0.250202  0.283565  \n",
       "HT_nosd   0.202501  0.206662  \n",
       "DTC_nosd  0.786245  0.796271  \n",
       "RFC_nosd  0.875025  0.879449  \n",
       "XGB_nosd  0.892036  0.899631  \n",
       "GBC_nosd  0.823985  0.825561  \n",
       "MLP_nosd  0.956917  0.958294  \n",
       "SVC_nosd  0.937460  0.935943  \n",
       "DTC_sd    0.967228  0.998285  \n",
       "RFC_sd    0.942135  0.952739  \n",
       "XGB_sd    0.943166  0.950903  \n",
       "GBC_sd    0.951119  0.956594  \n",
       "MLP_sd    1.000000  0.967868  \n",
       "SVC_sd    0.967868  1.000000  "
      ]
     },
     "execution_count": 70,
     "metadata": {},
     "output_type": "execute_result"
    }
   ],
   "source": [
    "# at 350000 (original)\n",
    "scores"
   ]
  },
  {
   "cell_type": "code",
   "execution_count": null,
   "metadata": {},
   "outputs": [],
   "source": []
  }
 ],
 "metadata": {
  "kernelspec": {
   "display_name": "Python 3",
   "language": "python",
   "name": "python3"
  },
  "language_info": {
   "codemirror_mode": {
    "name": "ipython",
    "version": 3
   },
   "file_extension": ".py",
   "mimetype": "text/x-python",
   "name": "python",
   "nbconvert_exporter": "python",
   "pygments_lexer": "ipython3",
   "version": "3.6.5"
  },
  "latex_envs": {
   "LaTeX_envs_menu_present": true,
   "autoclose": false,
   "autocomplete": true,
   "bibliofile": "biblio.bib",
   "cite_by": "apalike",
   "current_citInitial": 1,
   "eqLabelWithNumbers": true,
   "eqNumInitial": 1,
   "hotkeys": {
    "equation": "Ctrl-E",
    "itemize": "Ctrl-I"
   },
   "labels_anchors": false,
   "latex_user_defs": false,
   "report_style_numbering": false,
   "user_envs_cfg": false
  },
  "toc": {
   "base_numbering": 1,
   "nav_menu": {},
   "number_sections": true,
   "sideBar": true,
   "skip_h1_title": false,
   "title_cell": "Table of Contents",
   "title_sidebar": "Contents",
   "toc_cell": false,
   "toc_position": {},
   "toc_section_display": true,
   "toc_window_display": false
  }
 },
 "nbformat": 4,
 "nbformat_minor": 2
}
