{
  "nbformat": 4,
  "nbformat_minor": 0,
  "metadata": {
    "kernelspec": {
      "display_name": "Python 3",
      "language": "python",
      "name": "python3"
    },
    "language_info": {
      "codemirror_mode": {
        "name": "ipython",
        "version": 3
      },
      "file_extension": ".py",
      "mimetype": "text/x-python",
      "name": "python",
      "nbconvert_exporter": "python",
      "pygments_lexer": "ipython3",
      "version": "3.6.5"
    },
    "latex_envs": {
      "LaTeX_envs_menu_present": true,
      "autoclose": false,
      "autocomplete": true,
      "bibliofile": "biblio.bib",
      "cite_by": "apalike",
      "current_citInitial": 1,
      "eqLabelWithNumbers": true,
      "eqNumInitial": 1,
      "hotkeys": {
        "equation": "Ctrl-E",
        "itemize": "Ctrl-I"
      },
      "labels_anchors": false,
      "latex_user_defs": false,
      "report_style_numbering": false,
      "user_envs_cfg": false
    },
    "toc": {
      "base_numbering": 1,
      "nav_menu": {},
      "number_sections": true,
      "sideBar": true,
      "skip_h1_title": false,
      "title_cell": "Table of Contents",
      "title_sidebar": "Contents",
      "toc_cell": false,
      "toc_position": {},
      "toc_section_display": true,
      "toc_window_display": false
    },
    "colab": {
      "name": "SSL.ipynb",
      "provenance": [],
      "include_colab_link": true
    },
    "accelerator": "TPU"
  },
  "cells": [
    {
      "cell_type": "markdown",
      "metadata": {
        "id": "view-in-github",
        "colab_type": "text"
      },
      "source": [
        "<a href=\"https://colab.research.google.com/github/womega/CSI5388_Project/blob/master/Training%20and%20tuning/SSL.ipynb\" target=\"_parent\"><img src=\"https://colab.research.google.com/assets/colab-badge.svg\" alt=\"Open In Colab\"/></a>"
      ]
    },
    {
      "cell_type": "code",
      "metadata": {
        "id": "kNUjk-byr5r5",
        "outputId": "a049355e-3a2e-4fce-f5ba-309675005979",
        "colab": {
          "base_uri": "https://localhost:8080/"
        }
      },
      "source": [
        "!pip install semisupervised"
      ],
      "execution_count": 2,
      "outputs": [
        {
          "output_type": "stream",
          "text": [
            "Collecting semisupervised\n",
            "  Downloading https://files.pythonhosted.org/packages/92/26/9ab35a4afc107ea0312948d07a5cf662d79e320f3ecfe0cf755112807534/semisupervised-0.0.24.tar.gz\n",
            "Requirement already satisfied: numpy in /usr/local/lib/python3.6/dist-packages (from semisupervised) (1.19.4)\n",
            "Requirement already satisfied: pandas in /usr/local/lib/python3.6/dist-packages (from semisupervised) (1.1.5)\n",
            "Requirement already satisfied: sklearn in /usr/local/lib/python3.6/dist-packages (from semisupervised) (0.0)\n",
            "Requirement already satisfied: keras in /usr/local/lib/python3.6/dist-packages (from semisupervised) (2.4.3)\n",
            "Requirement already satisfied: pytz>=2017.2 in /usr/local/lib/python3.6/dist-packages (from pandas->semisupervised) (2018.9)\n",
            "Requirement already satisfied: python-dateutil>=2.7.3 in /usr/local/lib/python3.6/dist-packages (from pandas->semisupervised) (2.8.1)\n",
            "Requirement already satisfied: scikit-learn in /usr/local/lib/python3.6/dist-packages (from sklearn->semisupervised) (0.22.2.post1)\n",
            "Requirement already satisfied: scipy>=0.14 in /usr/local/lib/python3.6/dist-packages (from keras->semisupervised) (1.4.1)\n",
            "Requirement already satisfied: h5py in /usr/local/lib/python3.6/dist-packages (from keras->semisupervised) (2.10.0)\n",
            "Requirement already satisfied: pyyaml in /usr/local/lib/python3.6/dist-packages (from keras->semisupervised) (3.13)\n",
            "Requirement already satisfied: six>=1.5 in /usr/local/lib/python3.6/dist-packages (from python-dateutil>=2.7.3->pandas->semisupervised) (1.15.0)\n",
            "Requirement already satisfied: joblib>=0.11 in /usr/local/lib/python3.6/dist-packages (from scikit-learn->sklearn->semisupervised) (1.0.0)\n",
            "Building wheels for collected packages: semisupervised\n",
            "  Building wheel for semisupervised (setup.py) ... \u001b[?25l\u001b[?25hdone\n",
            "  Created wheel for semisupervised: filename=semisupervised-0.0.24-cp36-none-any.whl size=21281 sha256=b4d3e78465837489036c0b9e32e8666ae68db6a028d5b52a3f23679defd53f8e\n",
            "  Stored in directory: /root/.cache/pip/wheels/1c/70/76/5e5d8c7567be47e9eb730815db926a9cbcabf85122fc90c9b6\n",
            "Successfully built semisupervised\n",
            "Installing collected packages: semisupervised\n",
            "Successfully installed semisupervised-0.0.24\n"
          ],
          "name": "stdout"
        }
      ]
    },
    {
      "cell_type": "code",
      "metadata": {
        "ExecuteTime": {
          "end_time": "2020-12-21T20:25:34.526993Z",
          "start_time": "2020-12-21T20:25:34.435064Z"
        },
        "id": "A4ZmfTO-rtdb"
      },
      "source": [
        "from __future__ import absolute_import\n",
        "from sklearn.metrics import confusion_matrix, accuracy_score, recall_score, f1_score\n",
        "import numpy as np\n",
        "from imblearn.metrics import geometric_mean_score\n",
        "import pandas as pd\n",
        "from collections import Counter\n",
        "from tqdm import tqdm\n",
        "from sklearn import datasets\n",
        "from sklearn.model_selection import train_test_split\n",
        "from semisupervised.TSVM import S3VM\n",
        "import seaborn as sns\n",
        "import matplotlib.pyplot as plt\n",
        "from sklearn.preprocessing import LabelEncoder, StandardScaler\n",
        "from imblearn.under_sampling import NearMiss\n",
        "%matplotlib inline"
      ],
      "execution_count": 3,
      "outputs": []
    },
    {
      "cell_type": "code",
      "metadata": {
        "ExecuteTime": {
          "end_time": "2020-12-21T20:12:16.051989Z",
          "start_time": "2020-12-21T20:12:15.408752Z"
        },
        "id": "YXwPwRO6rtdd"
      },
      "source": [
        "data_sd = pd.read_csv('https://raw.githubusercontent.com/womega/CSI5388_Project/master/Training%20and%20tuning/final_dataset.csv')\n",
        "unlabeled_sd = pd.read_csv('https://raw.githubusercontent.com/womega/CSI5388_Project/master/Training%20and%20tuning/final_unlabeled.csv')\n",
        "unlabeled_sd['Label']=-1"
      ],
      "execution_count": 4,
      "outputs": []
    },
    {
      "cell_type": "code",
      "metadata": {
        "ExecuteTime": {
          "end_time": "2020-12-21T20:12:16.131774Z",
          "start_time": "2020-12-21T20:12:16.053985Z"
        },
        "id": "nGw5ETGCrtdd"
      },
      "source": [
        "data_nosd = data_sd.drop(['Subdomain levels'], axis=1)\n",
        "unlabeled_nosd = unlabeled_sd.drop(['Subdomain levels'], axis=1)"
      ],
      "execution_count": 5,
      "outputs": []
    },
    {
      "cell_type": "code",
      "metadata": {
        "ExecuteTime": {
          "end_time": "2020-12-21T20:26:56.988052Z",
          "start_time": "2020-12-21T20:26:55.913953Z"
        },
        "id": "eM54SCRbrtde"
      },
      "source": [
        "def specificity(y_true, y_pred): \n",
        "    tn = confusion_matrix(y_true, y_pred)[0, 0]\n",
        "    fp = confusion_matrix(y_true, y_pred)[0, 1]\n",
        "    neg = tn + fp\n",
        "    return tn/neg\n",
        "\n",
        "def normalize(x):\n",
        "    return (x - np.min(x))/(np.max(x) - np.min(x))\n",
        "\n",
        "def get_data(labeled, unlabeled):\n",
        "    \n",
        "    X = labeled.drop(['Domain', 'Label'], axis=1).to_numpy()\n",
        "    y = labeled['Label'].to_numpy()\n",
        "    \n",
        "\n",
        "    X_nearmiss, y_nearmiss = NearMiss(sampling_strategy=0.25).fit_sample(X, y)\n",
        "    \n",
        "    X_nearmiss = normalize(X_nearmiss)\n",
        "    \n",
        "    X_train, X_test, y_train, y_test = train_test_split(X_nearmiss, y_nearmiss, test_size = 0.8, random_state = 42)\n",
        "    \n",
        "    unl_lvl = unlabeled[:5000]\n",
        "    \n",
        "    X_unl = unl_lvl.drop(['Domain', 'Label'], axis=1).to_numpy()\n",
        "    y_unl = unl_lvl['Label'].to_numpy()\n",
        "    \n",
        "    X_unl = normalize(X_unl)\n",
        "    \n",
        "    \n",
        "    return X_train, y_train, X_unl, y_unl, X_test, y_test\n",
        "\n",
        "label_X_train_sd, label_y_train_sd, unlabel_X_train_sd, unlabel_y_sd, X_test_sd, y_test_sd = get_data(data_sd, unlabeled_sd)\n",
        "label_X_train_nosd, label_y_train_nosd, unlabel_X_train_nosd, unlabel_y_nosd, X_test_nosd, y_test_nosd = get_data(data_nosd, unlabeled_nosd)"
      ],
      "execution_count": 6,
      "outputs": []
    },
    {
      "cell_type": "code",
      "metadata": {
        "ExecuteTime": {
          "start_time": "2020-12-21T20:26:58.351Z"
        },
        "id": "oNQnbwQFrtde",
        "outputId": "5fea2986-55ac-4738-9110-02622b594972",
        "colab": {
          "base_uri": "https://localhost:8080/"
        }
      },
      "source": [
        "model = S3VM()\n",
        "model.fit(np.vstack((label_X_train_sd, unlabel_X_train_sd)), np.append(label_y_train_sd, unlabel_y_sd))\n",
        "\n",
        "# predict\n",
        "predict = model.predict(X_test_sd)"
      ],
      "execution_count": 7,
      "outputs": [
        {
          "output_type": "stream",
          "text": [
            "/usr/local/lib/python3.6/dist-packages/numpy/matrixlib/defmatrix.py:69: PendingDeprecationWarning: the matrix subclass is not the recommended way to represent matrices or deal with linear algebra (see https://docs.scipy.org/doc/numpy/user/numpy-for-matlab-users.html). Please adjust your code to use regular ndarray.\n",
            "  return matrix(data, dtype=dtype, copy=False)\n",
            "/usr/local/lib/python3.6/dist-packages/numpy/matrixlib/defmatrix.py:1109: PendingDeprecationWarning: the matrix subclass is not the recommended way to represent matrices or deal with linear algebra (see https://docs.scipy.org/doc/numpy/user/numpy-for-matlab-users.html). Please adjust your code to use regular ndarray.\n",
            "  return matrix(concatenate(arr_rows, axis=0))\n",
            "/usr/local/lib/python3.6/dist-packages/numpy/matrixlib/defmatrix.py:69: PendingDeprecationWarning: the matrix subclass is not the recommended way to represent matrices or deal with linear algebra (see https://docs.scipy.org/doc/numpy/user/numpy-for-matlab-users.html). Please adjust your code to use regular ndarray.\n",
            "  return matrix(data, dtype=dtype, copy=False)\n"
          ],
          "name": "stderr"
        }
      ]
    },
    {
      "cell_type": "code",
      "metadata": {
        "ExecuteTime": {
          "end_time": "2020-12-21T20:26:41.221898Z",
          "start_time": "2020-12-21T20:26:41.216913Z"
        },
        "id": "9FgM1aohrtdf",
        "outputId": "e69ad95d-f7bd-4e08-8a84-165db61cbb72"
      },
      "source": [
        "len(label_X_train_sd)"
      ],
      "execution_count": null,
      "outputs": [
        {
          "output_type": "execute_result",
          "data": {
            "text/plain": [
              "19904"
            ]
          },
          "metadata": {
            "tags": []
          },
          "execution_count": 26
        }
      ]
    },
    {
      "cell_type": "code",
      "metadata": {
        "ExecuteTime": {
          "end_time": "2020-12-21T20:25:40.885078Z",
          "start_time": "2020-12-21T20:25:40.403705Z"
        },
        "id": "9gUtMijdrtdf",
        "outputId": "fb042784-d664-49b6-83ee-78b12d06f5fe",
        "colab": {
          "base_uri": "https://localhost:8080/"
        }
      },
      "source": [
        "# metric\n",
        "print(\"accuracy\", accuracy_score(y_test_sd, predict))\n",
        "print('Specificity', specificity(y_test_sd, predict))\n",
        "print('Recall', recall_score(y_test_sd, predict))\n",
        "print(confusion_matrix(y_test_sd, predict))"
      ],
      "execution_count": 13,
      "outputs": [
        {
          "output_type": "stream",
          "text": [
            "accuracy 0.8849857645285547\n",
            "Specificity 0.45365344467640917\n",
            "Recall 0.9931915785063371\n",
            "[[ 2173  2617]\n",
            " [  130 18964]]\n"
          ],
          "name": "stdout"
        }
      ]
    },
    {
      "cell_type": "code",
      "metadata": {
        "id": "IhAX7OkvtI9k",
        "outputId": "ad25bade-9150-4e0f-c653-b6a33906db22",
        "colab": {
          "base_uri": "https://localhost:8080/"
        }
      },
      "source": [
        "Counter(y_test_sd)"
      ],
      "execution_count": 14,
      "outputs": [
        {
          "output_type": "execute_result",
          "data": {
            "text/plain": [
              "Counter({0: 4790, 1: 19094})"
            ]
          },
          "metadata": {
            "tags": []
          },
          "execution_count": 14
        }
      ]
    }
  ]
}