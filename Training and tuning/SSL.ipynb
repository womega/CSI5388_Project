{
 "cells": [
  {
   "cell_type": "code",
   "execution_count": 20,
   "metadata": {
    "ExecuteTime": {
     "end_time": "2020-12-21T20:25:34.526993Z",
     "start_time": "2020-12-21T20:25:34.435064Z"
    }
   },
   "outputs": [],
   "source": [
    "from __future__ import absolute_import\n",
    "from sklearn.metrics import confusion_matrix, accuracy_score, recall_score, f1_score\n",
    "import numpy as np\n",
    "from imblearn.metrics import geometric_mean_score\n",
    "import pandas as pd\n",
    "from collections import Counter\n",
    "from tqdm import tqdm\n",
    "from sklearn import datasets\n",
    "from sklearn.model_selection import train_test_split\n",
    "from semisupervised.TSVM import S3VM\n",
    "import seaborn as sns\n",
    "import matplotlib.pyplot as plt\n",
    "from sklearn.preprocessing import LabelEncoder, StandardScaler\n",
    "from imblearn.under_sampling import NearMiss\n",
    "%matplotlib inline"
   ]
  },
  {
   "cell_type": "code",
   "execution_count": 6,
   "metadata": {
    "ExecuteTime": {
     "end_time": "2020-12-21T20:12:16.051989Z",
     "start_time": "2020-12-21T20:12:15.408752Z"
    }
   },
   "outputs": [],
   "source": [
    "data_sd = pd.read_csv('final_dataset.csv')\n",
    "unlabeled_sd = pd.read_csv('final_unlabeled.csv')\n",
    "unlabeled_sd['Label']=-1"
   ]
  },
  {
   "cell_type": "code",
   "execution_count": 7,
   "metadata": {
    "ExecuteTime": {
     "end_time": "2020-12-21T20:12:16.131774Z",
     "start_time": "2020-12-21T20:12:16.053985Z"
    }
   },
   "outputs": [],
   "source": [
    "data_nosd = data_sd.drop(['Subdomain levels'], axis=1)\n",
    "unlabeled_nosd = unlabeled_sd.drop(['Subdomain levels'], axis=1)"
   ]
  },
  {
   "cell_type": "code",
   "execution_count": 27,
   "metadata": {
    "ExecuteTime": {
     "end_time": "2020-12-21T20:26:56.988052Z",
     "start_time": "2020-12-21T20:26:55.913953Z"
    }
   },
   "outputs": [],
   "source": [
    "def specificity(y_true, y_pred): \n",
    "    tn = confusion_matrix(y_true, y_pred)[0, 0]\n",
    "    fp = confusion_matrix(y_true, y_pred)[0, 1]\n",
    "    neg = tn + fp\n",
    "    return tn/neg\n",
    "\n",
    "def normalize(x):\n",
    "    return (x - np.min(x))/(np.max(x) - np.min(x))\n",
    "\n",
    "def get_data(labeled, unlabeled):\n",
    "    \n",
    "    X = labeled.drop(['Domain', 'Label'], axis=1).to_numpy()\n",
    "    y = labeled['Label'].to_numpy()\n",
    "    \n",
    "\n",
    "    X_nearmiss, y_nearmiss = NearMiss(sampling_strategy=0.25).fit_sample(X, y)\n",
    "    \n",
    "    X_nearmiss = normalize(X_nearmiss)\n",
    "    \n",
    "    X_train, X_test, y_train, y_test = train_test_split(X_nearmiss, y_nearmiss, test_size = 0.3333, random_state = 42)\n",
    "    \n",
    "    unl_lvl = unlabeled[:19904]\n",
    "    \n",
    "    X_unl = unl_lvl.drop(['Domain', 'Label'], axis=1).to_numpy()\n",
    "    y_unl = unl_lvl['Label'].to_numpy()\n",
    "    \n",
    "    X_unl = normalize(X_unl)\n",
    "    \n",
    "    \n",
    "    return X_train, y_train, X_unl, y_unl, X_test, y_test\n",
    "\n",
    "label_X_train_sd, label_y_train_sd, unlabel_X_train_sd, unlabel_y_sd, X_test_sd, y_test_sd = get_data(data_sd, unlabeled_sd)\n",
    "label_X_train_nosd, label_y_train_nosd, unlabel_X_train_nosd, unlabel_y_nosd, X_test_nosd, y_test_nosd = get_data(data_nosd, unlabeled_nosd)"
   ]
  },
  {
   "cell_type": "code",
   "execution_count": null,
   "metadata": {
    "ExecuteTime": {
     "start_time": "2020-12-21T20:26:58.351Z"
    }
   },
   "outputs": [
    {
     "name": "stderr",
     "output_type": "stream",
     "text": [
      "d:\\Anaconda3\\lib\\site-packages\\numpy\\matrixlib\\defmatrix.py:69: PendingDeprecationWarning: the matrix subclass is not the recommended way to represent matrices or deal with linear algebra (see https://docs.scipy.org/doc/numpy/user/numpy-for-matlab-users.html). Please adjust your code to use regular ndarray.\n",
      "  return matrix(data, dtype=dtype, copy=False)\n"
     ]
    }
   ],
   "source": [
    "model = S3VM()\n",
    "model.fit(np.vstack((label_X_train_sd, unlabel_X_train_sd)), np.append(label_y_train_sd, unlabel_y_sd))\n",
    "\n",
    "# predict\n",
    "predict = model.predict(X_test_sd)"
   ]
  },
  {
   "cell_type": "code",
   "execution_count": 26,
   "metadata": {
    "ExecuteTime": {
     "end_time": "2020-12-21T20:26:41.221898Z",
     "start_time": "2020-12-21T20:26:41.216913Z"
    }
   },
   "outputs": [
    {
     "data": {
      "text/plain": [
       "19904"
      ]
     },
     "execution_count": 26,
     "metadata": {},
     "output_type": "execute_result"
    }
   ],
   "source": [
    "len(label_X_train_sd)"
   ]
  },
  {
   "cell_type": "code",
   "execution_count": 21,
   "metadata": {
    "ExecuteTime": {
     "end_time": "2020-12-21T20:25:40.885078Z",
     "start_time": "2020-12-21T20:25:40.403705Z"
    }
   },
   "outputs": [
    {
     "name": "stdout",
     "output_type": "stream",
     "text": [
      "accuracy 0.8860416038589086\n",
      "Specificity 0.4575673633845379\n"
     ]
    }
   ],
   "source": [
    "# metric\n",
    "print(\"accuracy\", accuracy_score(y_test_sd, predict))\n",
    "print('Specificity', specificity(y_test_sd, predict))"
   ]
  }
 ],
 "metadata": {
  "kernelspec": {
   "display_name": "Python 3",
   "language": "python",
   "name": "python3"
  },
  "language_info": {
   "codemirror_mode": {
    "name": "ipython",
    "version": 3
   },
   "file_extension": ".py",
   "mimetype": "text/x-python",
   "name": "python",
   "nbconvert_exporter": "python",
   "pygments_lexer": "ipython3",
   "version": "3.6.5"
  },
  "latex_envs": {
   "LaTeX_envs_menu_present": true,
   "autoclose": false,
   "autocomplete": true,
   "bibliofile": "biblio.bib",
   "cite_by": "apalike",
   "current_citInitial": 1,
   "eqLabelWithNumbers": true,
   "eqNumInitial": 1,
   "hotkeys": {
    "equation": "Ctrl-E",
    "itemize": "Ctrl-I"
   },
   "labels_anchors": false,
   "latex_user_defs": false,
   "report_style_numbering": false,
   "user_envs_cfg": false
  },
  "toc": {
   "base_numbering": 1,
   "nav_menu": {},
   "number_sections": true,
   "sideBar": true,
   "skip_h1_title": false,
   "title_cell": "Table of Contents",
   "title_sidebar": "Contents",
   "toc_cell": false,
   "toc_position": {},
   "toc_section_display": true,
   "toc_window_display": false
  }
 },
 "nbformat": 4,
 "nbformat_minor": 2
}
