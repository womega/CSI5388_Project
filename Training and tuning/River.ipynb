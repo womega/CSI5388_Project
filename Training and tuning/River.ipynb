{
 "cells": [
  {
   "cell_type": "code",
   "execution_count": 7,
   "metadata": {
    "ExecuteTime": {
     "end_time": "2020-12-08T08:04:33.622667Z",
     "start_time": "2020-12-08T08:04:33.607677Z"
    }
   },
   "outputs": [],
   "source": [
    "import pandas as pd\n",
    "import numpy as np\n",
    "from collections import Counter\n",
    "from tqdm import tqdm\n",
    "import seaborn as sns\n",
    "import matplotlib.pyplot as plt\n",
    "from sklearn.preprocessing import LabelEncoder, StandardScaler\n",
    "from sklearn.model_selection import train_test_split\n",
    "from pprint import pprint\n",
    "%matplotlib inline"
   ]
  },
  {
   "cell_type": "code",
   "execution_count": null,
   "metadata": {
    "ExecuteTime": {
     "end_time": "2020-12-08T08:03:36.428593Z",
     "start_time": "2020-12-08T08:03:36.304582Z"
    },
    "scrolled": true
   },
   "outputs": [],
   "source": [
    "from river import compose\n",
    "from river import linear_model\n",
    "from river import metrics\n",
    "from river import preprocessing"
   ]
  },
  {
   "cell_type": "code",
   "execution_count": 3,
   "metadata": {
    "ExecuteTime": {
     "end_time": "2020-12-08T08:03:52.654906Z",
     "start_time": "2020-12-08T08:03:47.874124Z"
    }
   },
   "outputs": [],
   "source": [
    "labeled = pd.read_csv('final_dataset.csv', index_col=False)\n",
    "unlabeled = pd.read_csv('final_unlabeled.csv', index_col=False)"
   ]
  },
  {
   "cell_type": "code",
   "execution_count": 4,
   "metadata": {
    "ExecuteTime": {
     "end_time": "2020-12-08T08:03:53.188723Z",
     "start_time": "2020-12-08T08:03:52.656908Z"
    }
   },
   "outputs": [],
   "source": [
    "X = labeled.drop(['Domain', 'Label'], axis=1).to_dict('index')\n",
    "Y = labeled['Label'].to_list()"
   ]
  },
  {
   "cell_type": "code",
   "execution_count": 5,
   "metadata": {
    "ExecuteTime": {
     "end_time": "2020-12-08T08:03:53.204684Z",
     "start_time": "2020-12-08T08:03:53.190675Z"
    }
   },
   "outputs": [],
   "source": [
    "def make_tuples(X, Y):\n",
    "    dataset = []\n",
    "    for i in range(len(X)):\n",
    "        a = (X[i], bool(Y[i]))\n",
    "        dataset.append(a)\n",
    "    return dataset"
   ]
  },
  {
   "cell_type": "code",
   "execution_count": 6,
   "metadata": {
    "ExecuteTime": {
     "end_time": "2020-12-08T08:04:04.142860Z",
     "start_time": "2020-12-08T08:04:04.047877Z"
    }
   },
   "outputs": [],
   "source": [
    "labeled_dataset = make_tuples(X,Y)"
   ]
  },
  {
   "cell_type": "code",
   "execution_count": 10,
   "metadata": {
    "ExecuteTime": {
     "end_time": "2020-12-08T08:07:15.492103Z",
     "start_time": "2020-12-08T08:07:15.483108Z"
    }
   },
   "outputs": [
    {
     "name": "stdout",
     "output_type": "stream",
     "text": [
      "{'Entropy_nosdsu': 2.1556390622295662,\n",
      " 'Entropy_nosu': 3.606936732175321,\n",
      " 'Entropy_sdsu': 3.625807235905091,\n",
      " 'Freenom_TLD': 0,\n",
      " 'Hyphen': 0,\n",
      " 'Longest_word_ratio': 0.21875,\n",
      " 'Num_chars': 30,\n",
      " 'Num_words': 8,\n",
      " 'Other_numbers': 0,\n",
      " 'Subdomain levels': 2,\n",
      " 'Tranco_Rank': 0,\n",
      " 'Typos': 0}\n",
      "False\n"
     ]
    }
   ],
   "source": [
    "for x,y in labeled_dataset:\n",
    "    pprint(x)\n",
    "    pprint(y)\n",
    "    break"
   ]
  },
  {
   "cell_type": "code",
   "execution_count": null,
   "metadata": {},
   "outputs": [],
   "source": [
    "model = compose.Pipeline(preprocessing.StandardScaler(),\n",
    "                         linear_model.LogisticRegression()\n",
    "                        )"
   ]
  },
  {
   "cell_type": "code",
   "execution_count": null,
   "metadata": {},
   "outputs": [],
   "source": [
    "metrics = [metrics.Accuracy(),\n",
    "           metrics.Accuracy(),\n",
    "           metrics.Accuracy(),\n",
    "           metrics.Accuracy()]"
   ]
  },
  {
   "cell_type": "code",
   "execution_count": null,
   "metadata": {},
   "outputs": [],
   "source": [
    "for x, y in dataset:\n",
    "    y_pred = model.predict_one(x)      # make a prediction\n",
    "    for i in metrics:\n",
    "    metric = metric.update(y, y_pred)  # update the metric\n",
    "    model = model.learn_one(x, y)      # make the model learn\n",
    "\n",
    "metric"
   ]
  }
 ],
 "metadata": {
  "kernelspec": {
   "display_name": "Python 3",
   "language": "python",
   "name": "python3"
  },
  "toc": {
   "base_numbering": 1,
   "nav_menu": {},
   "number_sections": true,
   "sideBar": true,
   "skip_h1_title": false,
   "title_cell": "Table of Contents",
   "title_sidebar": "Contents",
   "toc_cell": false,
   "toc_position": {},
   "toc_section_display": true,
   "toc_window_display": false
  }
 },
 "nbformat": 4,
 "nbformat_minor": 2
}
