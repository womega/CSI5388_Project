{
 "cells": [
  {
   "cell_type": "code",
   "execution_count": 2,
   "metadata": {},
   "outputs": [],
   "source": [
    "import json"
   ]
  },
  {
   "cell_type": "code",
   "execution_count": 2,
   "metadata": {},
   "outputs": [
    {
     "name": "stderr",
     "output_type": "stream",
     "text": [
      "  % Total    % Received % Xferd  Average Speed   Time    Time     Time  Current\n",
      "                                 Dload  Upload   Total   Spent    Left  Speed\n",
      "\n",
      "  0     0    0     0    0     0      0      0 --:--:-- --:--:-- --:--:--     0\n",
      "  0     0    0     0    0     0      0      0 --:--:-- --:--:-- --:--:--     0\n",
      "  0     0    0     0    0     0      0      0 --:--:--  0:00:02 --:--:--     0\n",
      "  0     0    0     0    0     0      0      0 --:--:--  0:00:03 --:--:--     0\n",
      "  0     0    0     0    0     0      0      0 --:--:--  0:00:04 --:--:--     0\n",
      "  0     0    0     0    0     0      0      0 --:--:--  0:00:05 --:--:--     0\n",
      "  0     0    0     0    0     0      0      0 --:--:--  0:00:06 --:--:--     0\n",
      "  0     0    0     0    0     0      0      0 --:--:--  0:00:07 --:--:--     0\n",
      "  0     0    0     0    0     0      0      0 --:--:--  0:00:08 --:--:--     0\n",
      "  0     0    0     0    0     0      0      0 --:--:--  0:00:09 --:--:--     0\n",
      "  0 43.2M    0  8192    0     0    782      0 16:06:58  0:00:10 16:06:48  1663\n",
      "  0 43.2M    0  8192    0     0    747      0 16:52:16  0:00:10 16:52:06  1860\n",
      "  0 43.2M    0  8192    0     0    684      0 18:25:31  0:00:11 18:25:20  1861\n",
      "  0 43.2M    0  8192    0     0    631      0 19:58:22  0:00:12 19:58:10  1863\n",
      "  0 43.2M    0  8192    0     0    586      0 21:30:23  0:00:13 21:30:10  1866\n",
      "  0 43.2M    0  8192    0     0    546      0 23:04:56  0:00:14 23:04:42     0\n",
      "  0 43.2M    0  8192    0     0    512      0 24:36:54  0:00:15 24:36:39     0\n",
      "  0 43.2M    0   98k    0     0   6036      0  2:05:16  0:00:16  2:05:00 19512\n",
      "  2 43.2M    2 1198k    0     0  69298      0  0:10:54  0:00:17  0:10:37  250k\n",
      " 13 43.2M   13 5794k    0     0   309k      0  0:02:23  0:00:18  0:02:05 1220k\n",
      " 23 43.2M   23 10.3M    0     0   537k      0  0:01:22  0:00:19  0:01:03 2241k\n",
      " 39 43.2M   39 17.1M    0     0   846k      0  0:00:52  0:00:20  0:00:32 3714k\n",
      " 52 43.2M   52 22.6M    0     0  1066k      0  0:00:41  0:00:21  0:00:20 4612k\n",
      " 63 43.2M   63 27.4M    0     0  1236k      0  0:00:35  0:00:22  0:00:13 5375k\n",
      " 71 43.2M   71 30.9M    0     0  1330k      0  0:00:33  0:00:23  0:00:10 5065k\n",
      " 74 43.2M   74 32.3M    0     0  1317k      0  0:00:33  0:00:25  0:00:08 4143k\n",
      " 81 43.2M   81 35.3M    0     0  1402k      0  0:00:31  0:00:25  0:00:06 3670k\n",
      " 87 43.2M   87 37.8M    0     0  1442k      0  0:00:30  0:00:26  0:00:04 3039k\n",
      " 92 43.2M   92 39.9M    0     0  1476k      0  0:00:30  0:00:27  0:00:03 2567k\n",
      " 99 43.2M   99 43.1M    0     0  1538k      0  0:00:28  0:00:28 --:--:-- 2549k\n",
      "100 43.2M  100 43.2M    0     0  1542k      0  0:00:28  0:00:28 --:--:-- 3122k\n"
     ]
    }
   ],
   "source": [
    "#!curl \"https://zonecruncher.com/qname-monitor/results?token=crimeware000zetalytics640sharing&ruleID=&size=100000\" > unl1.json"
   ]
  },
  {
   "cell_type": "code",
   "execution_count": 1,
   "metadata": {},
   "outputs": [],
   "source": [
    "from tldextract import extract\n",
    "import numpy as np\n",
    "def check_tld(array):\n",
    "    new_list = []\n",
    "    count = 0\n",
    "    for i in array:\n",
    "        if i == '':\n",
    "            continue\n",
    "        tsd, td, tsu = extract(i) #subdomain, domain, suffix\n",
    "        if tsd:\n",
    "            count +=1\n",
    "            if td:\n",
    "                dom = tsd + '.' + td + '.' + tsu\n",
    "            else:\n",
    "                dom = tsd + '.' + tsu\n",
    "        elif td:\n",
    "            dom = td + '.' + tsu\n",
    "        else:\n",
    "            dom = tsu\n",
    "        new_list.append(dom)\n",
    "    print(len(new_list))\n",
    "    print(len(np.unique(new_list)))\n",
    "    #print(count)\n",
    "    return(np.unique(new_list))"
   ]
  },
  {
   "cell_type": "code",
   "execution_count": 3,
   "metadata": {},
   "outputs": [
    {
     "name": "stdout",
     "output_type": "stream",
     "text": [
      "200000\n"
     ]
    }
   ],
   "source": [
    "unl_1 = []\n",
    "with open(\"unl1.json\", encoding=\"utf-8\") as f:\n",
    "    data1 = json.load(f)\n",
    "for i in data1['results']:\n",
    "    unl_1.append(i['qname'])\n",
    "    unl_1.append(i['domain'])\n",
    "print(len(unl_1))"
   ]
  },
  {
   "cell_type": "code",
   "execution_count": 4,
   "metadata": {},
   "outputs": [],
   "source": [
    "def drop_duplicates(lst):\n",
    "  return list(dict.fromkeys(lst))"
   ]
  },
  {
   "cell_type": "code",
   "execution_count": 6,
   "metadata": {},
   "outputs": [],
   "source": [
    "import numpy as np\n",
    "from tqdm import tqdm"
   ]
  },
  {
   "cell_type": "code",
   "execution_count": 5,
   "metadata": {},
   "outputs": [
    {
     "name": "stdout",
     "output_type": "stream",
     "text": [
      "200000\n",
      "40171\n"
     ]
    }
   ],
   "source": [
    "unl_1 = check_tld(unl_1)\n",
    "#print(len(check_tld(unl_1)))"
   ]
  },
  {
   "cell_type": "code",
   "execution_count": 6,
   "metadata": {},
   "outputs": [
    {
     "name": "stdout",
     "output_type": "stream",
     "text": [
      "200000\n"
     ]
    }
   ],
   "source": [
    "unl_2 = []\n",
    "with open('res2.txt', encoding=\"utf-8\") as f:\n",
    "    data2 = json.load(f)\n",
    "    \n",
    "for i in data2['results']:\n",
    "    unl_2.append(i['qname'])\n",
    "    unl_2.append(i['domain'])\n",
    "print(len(unl_2))"
   ]
  },
  {
   "cell_type": "code",
   "execution_count": 7,
   "metadata": {},
   "outputs": [
    {
     "name": "stdout",
     "output_type": "stream",
     "text": [
      "200000\n",
      "56864\n"
     ]
    }
   ],
   "source": [
    "unl_2 = check_tld(unl_2)\n",
    "#print(len(unl_2))"
   ]
  },
  {
   "cell_type": "code",
   "execution_count": 8,
   "metadata": {},
   "outputs": [],
   "source": [
    "import pandas as pd"
   ]
  },
  {
   "cell_type": "code",
   "execution_count": 9,
   "metadata": {},
   "outputs": [],
   "source": [
    "unl_ys = pd.read_csv('unlabeled_data.csv')"
   ]
  },
  {
   "cell_type": "code",
   "execution_count": 10,
   "metadata": {},
   "outputs": [],
   "source": [
    "unl_3 = unl_ys['Unified_url'].values.tolist()"
   ]
  },
  {
   "cell_type": "code",
   "execution_count": 11,
   "metadata": {},
   "outputs": [
    {
     "data": {
      "text/plain": [
       "229489"
      ]
     },
     "execution_count": 11,
     "metadata": {},
     "output_type": "execute_result"
    }
   ],
   "source": [
    "len(unl_3)"
   ]
  },
  {
   "cell_type": "code",
   "execution_count": 12,
   "metadata": {},
   "outputs": [
    {
     "name": "stdout",
     "output_type": "stream",
     "text": [
      "200000\n"
     ]
    }
   ],
   "source": [
    "unl_4 = []\n",
    "with open('res3.txt', encoding=\"utf-8\") as f:\n",
    "    data3 = json.load(f)\n",
    "    \n",
    "for i in data3['results']:\n",
    "    unl_4.append(i['qname'])\n",
    "    unl_4.append(i['domain'])\n",
    "print(len(unl_4))"
   ]
  },
  {
   "cell_type": "code",
   "execution_count": 13,
   "metadata": {},
   "outputs": [
    {
     "name": "stdout",
     "output_type": "stream",
     "text": [
      "200000\n",
      "60810\n"
     ]
    }
   ],
   "source": [
    "unl_4 = check_tld(unl_4)\n",
    "#print(len(unl_4))"
   ]
  },
  {
   "cell_type": "code",
   "execution_count": 15,
   "metadata": {},
   "outputs": [
    {
     "name": "stdout",
     "output_type": "stream",
     "text": [
      "387334\n",
      "365383\n"
     ]
    }
   ],
   "source": [
    "all_unl = []\n",
    "for i in unl_1:\n",
    "    all_unl.append(i)\n",
    "for i in unl_2:\n",
    "    all_unl.append(i)\n",
    "for i in unl_3:\n",
    "    all_unl.append(i)\n",
    "for i in unl_4:\n",
    "    all_unl.append(i)\n",
    "\n",
    "all_unl = check_tld(all_unl)"
   ]
  },
  {
   "cell_type": "code",
   "execution_count": 19,
   "metadata": {},
   "outputs": [],
   "source": [
    "dict = {'Domain': all_unl}"
   ]
  },
  {
   "cell_type": "code",
   "execution_count": 20,
   "metadata": {},
   "outputs": [],
   "source": [
    "pd.DataFrame(dict).to_csv(\"final_unlabeled.csv\", index=False, header=True)"
   ]
  },
  {
   "cell_type": "code",
   "execution_count": 24,
   "metadata": {},
   "outputs": [
    {
     "data": {
      "text/plain": [
       "array(['-----6kcackgf6aecovid2bb2af.sds.miningbro.ru',\n",
       "       '--antdotocoronavirus-jyb.com.ipaddress.com',\n",
       "       '--coronavirus-quarantne-o2b.com', '--coronavirusbelgi-prb.com',\n",
       "       '--coronavirusenespaa-30b.com', '--coronavirustrkiye-e3b.com',\n",
       "       '--coronvirus-kbb.com', '--covid-19-test-zrich-kbc.ch',\n",
       "       '--covid-19enimgenes-ipb.com', '--covid-19opplring-5ob.com',\n",
       "       '--covid-19opplring-5ob.net', '--covid19-mdicament-jtb.com',\n",
       "       '--covid19-mdicaments-jwb.com',\n",
       "       '--covid19deelmoon-9m30aa1rzs169mysbw24ewyx663hfa.com',\n",
       "       '--covid19mdicaments-itb.com', '--covidnios-r6a.com',\n",
       "       '--kaspersky\\\\032anti-virus\\\\03230\\\\032\\\\032win-gqw4a8jqf.yandex.ru',\n",
       "       '--link-de-descarga-spore-en-espaol-sin-virus-y8d.remove.home-4-you.ru',\n",
       "       '--prevencincoronavirus-i8b.com', '-0.info.ivirus.ru'],\n",
       "      dtype='<U253')"
      ]
     },
     "execution_count": 24,
     "metadata": {},
     "output_type": "execute_result"
    }
   ],
   "source": [
    "dict['Domain'][0:20]"
   ]
  }
 ],
 "metadata": {
  "kernelspec": {
   "display_name": "Python 3",
   "language": "python",
   "name": "python3"
  },
  "language_info": {
   "codemirror_mode": {
    "name": "ipython",
    "version": 3
   },
   "file_extension": ".py",
   "mimetype": "text/x-python",
   "name": "python",
   "nbconvert_exporter": "python",
   "pygments_lexer": "ipython3",
   "version": "3.6.5"
  }
 },
 "nbformat": 4,
 "nbformat_minor": 2
}
