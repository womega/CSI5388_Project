{
 "cells": [
  {
   "cell_type": "code",
   "execution_count": 1,
   "metadata": {},
   "outputs": [],
   "source": [
    "import pandas as pd\n",
    "import numpy as np\n"
   ]
  },
  {
   "cell_type": "code",
   "execution_count": 2,
   "metadata": {},
   "outputs": [],
   "source": [
    "from tldextract import extract\n",
    "import numpy as np\n",
    "def check_tld(array):\n",
    "    new_list = []\n",
    "    for i in array:\n",
    "        tsd, td, tsu = extract(i) #subdomain, domain, suffix\n",
    "        if tsd:\n",
    "            if td:\n",
    "                dom = tsd + '.' + td + '.' + tsu\n",
    "            else:\n",
    "                dom = tsd + '.' + tsu\n",
    "        elif td:\n",
    "            dom = td + '.' + tsu\n",
    "        else:\n",
    "            dom = tsu\n",
    "        new_list.append(dom)\n",
    "    print(len(new_list))\n",
    "    print(len(np.unique(new_list)))\n",
    "    return(np.unique(new_list))"
   ]
  },
  {
   "cell_type": "code",
   "execution_count": 3,
   "metadata": {},
   "outputs": [
    {
     "name": "stdout",
     "output_type": "stream",
     "text": [
      "Total length 167\n"
     ]
    }
   ],
   "source": [
    "f1 = open(\"baidu_corona.txt\")\n",
    "line = f1.readline()\n",
    "whitelist_1 = []\n",
    "num = 0\n",
    "while line:                    \n",
    "    line = f1.readline() \n",
    "    whitelist_1.append(line)\n",
    "    num+=1\n",
    "#print(\"The length of baidu_corona doc is\",len(whitelist_1))\n",
    "f1.close()\n",
    "\n",
    "f1 = open(\"baidu_covid.txt\")\n",
    "line = f1.readline()\n",
    "num = 0\n",
    "while line:                    \n",
    "    line = f1.readline() \n",
    "    whitelist_1.append(line)\n",
    "    num+=1\n",
    "print(\"Total length\",len(whitelist_1))\n",
    "f1.close()"
   ]
  },
  {
   "cell_type": "code",
   "execution_count": 4,
   "metadata": {},
   "outputs": [
    {
     "name": "stdout",
     "output_type": "stream",
     "text": [
      "The length of bing_search doc is 364\n"
     ]
    }
   ],
   "source": [
    "f2 = open(\"bing_search.txt\")\n",
    "line = f2.readline()\n",
    "whitelist_2 = []\n",
    "num = 0\n",
    "while line:                    \n",
    "    line = f2.readline() \n",
    "    whitelist_2.append(line)\n",
    "    num+=1\n",
    "print(\"The length of bing_search doc is\",len(whitelist_2))\n",
    "f2.close()"
   ]
  },
  {
   "cell_type": "code",
   "execution_count": 5,
   "metadata": {},
   "outputs": [
    {
     "name": "stdout",
     "output_type": "stream",
     "text": [
      "The length of google_results doc is 642\n"
     ]
    }
   ],
   "source": [
    "f3 = open(\"google_results.txt\")\n",
    "line = f3.readline()\n",
    "whitelist_3 = []\n",
    "num = 0\n",
    "while line:                    \n",
    "    line = f3.readline() \n",
    "    whitelist_3.append(line)\n",
    "    num+=1\n",
    "print(\"The length of google_results doc is\",len(whitelist_3))\n",
    "f3.close()"
   ]
  },
  {
   "cell_type": "code",
   "execution_count": 6,
   "metadata": {},
   "outputs": [
    {
     "name": "stdout",
     "output_type": "stream",
     "text": [
      "The length of googleapi_results doc is 551\n"
     ]
    }
   ],
   "source": [
    "f4 = open(\"googleapi_results.txt\")\n",
    "line = f4.readline()\n",
    "whitelist_4 = []\n",
    "num = 0\n",
    "while line:                    \n",
    "    line = f4.readline() \n",
    "    whitelist_4.append(line)\n",
    "    num+=1\n",
    "print(\"The length of googleapi_results doc is\",len(whitelist_4))\n",
    "f4.close()"
   ]
  },
  {
   "cell_type": "code",
   "execution_count": 7,
   "metadata": {},
   "outputs": [
    {
     "name": "stdout",
     "output_type": "stream",
     "text": [
      "Total length is 419\n"
     ]
    }
   ],
   "source": [
    "f5 = open(\"googleapi1_results.txt\")\n",
    "line = f5.readline()\n",
    "whitelist_5 = []\n",
    "num = 0\n",
    "while line:                    \n",
    "    line = f5.readline() \n",
    "    whitelist_5.append(line)\n",
    "    num+=1\n",
    "f5.close()\n",
    "\n",
    "f5 = open(\"googleapi2_results.txt\")\n",
    "line = f5.readline()\n",
    "num = 0\n",
    "while line:                    \n",
    "    line = f5.readline() \n",
    "    whitelist_5.append(line)\n",
    "    num+=1\n",
    "print(\"Total length is\",len(whitelist_5))\n",
    "f5.close()"
   ]
  },
  {
   "cell_type": "code",
   "execution_count": 8,
   "metadata": {},
   "outputs": [
    {
     "name": "stdout",
     "output_type": "stream",
     "text": [
      "The length of googleap3_results doc is 354\n"
     ]
    }
   ],
   "source": [
    "f6 = open(\"googleapi3_results.txt\")\n",
    "line = f6.readline()\n",
    "whitelist_6 = []\n",
    "num = 0\n",
    "while line:                    \n",
    "    line = f6.readline() \n",
    "    whitelist_6.append(line)\n",
    "    num+=1\n",
    "print(\"The length of googleap3_results doc is\",len(whitelist_6))\n",
    "f6.close()"
   ]
  },
  {
   "cell_type": "code",
   "execution_count": 9,
   "metadata": {},
   "outputs": [
    {
     "name": "stdout",
     "output_type": "stream",
     "text": [
      "The length of googleap1_results doc is 580\n"
     ]
    }
   ],
   "source": [
    "f8 = open(\"yandexAPI.txt\")\n",
    "line = f8.readline()\n",
    "whitelist_8 = []\n",
    "num = 0\n",
    "while line:                    \n",
    "    line = f8.readline() \n",
    "    whitelist_8.append(line)\n",
    "    num+=1\n",
    "print(\"The length of googleap1_results doc is\", len(whitelist_8))\n",
    "f8.close()"
   ]
  },
  {
   "cell_type": "code",
   "execution_count": 10,
   "metadata": {},
   "outputs": [],
   "source": [
    "whitelist = whitelist_1 + whitelist_2 + whitelist_3 + whitelist_4 + whitelist_5 + whitelist_6 +  whitelist_8"
   ]
  },
  {
   "cell_type": "code",
   "execution_count": 11,
   "metadata": {},
   "outputs": [
    {
     "name": "stdout",
     "output_type": "stream",
     "text": [
      "3077\n",
      "2407\n"
     ]
    }
   ],
   "source": [
    "unique_white = check_tld(whitelist)"
   ]
  },
  {
   "cell_type": "code",
   "execution_count": null,
   "metadata": {},
   "outputs": [],
   "source": []
  },
  {
   "cell_type": "code",
   "execution_count": 12,
   "metadata": {},
   "outputs": [],
   "source": [
    "with open('search_results.txt', 'w') as f:\n",
    "    for item in unique_white:\n",
    "        f.write(\"%s\\n\" % item)"
   ]
  },
  {
   "cell_type": "code",
   "execution_count": null,
   "metadata": {},
   "outputs": [],
   "source": []
  }
 ],
 "metadata": {
  "kernelspec": {
   "display_name": "Python 3",
   "language": "python",
   "name": "python3"
  },
  "language_info": {
   "codemirror_mode": {
    "name": "ipython",
    "version": 3
   },
   "file_extension": ".py",
   "mimetype": "text/x-python",
   "name": "python",
   "nbconvert_exporter": "python",
   "pygments_lexer": "ipython3",
   "version": "3.6.5"
  }
 },
 "nbformat": 4,
 "nbformat_minor": 2
}
