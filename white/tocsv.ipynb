{
 "cells": [
  {
   "cell_type": "code",
   "execution_count": 1,
   "metadata": {},
   "outputs": [],
   "source": [
    "import pandas as pd\n",
    "import numpy as np"
   ]
  },
  {
   "cell_type": "code",
   "execution_count": 2,
   "metadata": {},
   "outputs": [
    {
     "name": "stdout",
     "output_type": "stream",
     "text": [
      "The length of all_clean doc is 5972\n"
     ]
    }
   ],
   "source": [
    "f1 = open(\"all_clean_with_keyword.txt\")\n",
    "line = f1.readline()\n",
    "whitelist_1 = []\n",
    "while line:                    \n",
    "    line = f1.readline() \n",
    "    whitelist_1.append(line)\n",
    "print(\"The length of all_clean doc is\",len(whitelist_1))\n",
    "f1.close()"
   ]
  },
  {
   "cell_type": "code",
   "execution_count": 3,
   "metadata": {},
   "outputs": [
    {
     "name": "stdout",
     "output_type": "stream",
     "text": [
      "The length of all_clean_without_subdom doc is 4703\n"
     ]
    }
   ],
   "source": [
    "f1 = open(\"all_clean_without_subdom.txt\")\n",
    "line = f1.readline()\n",
    "whitelist_2 = []\n",
    "while line:                    \n",
    "    line = f1.readline() \n",
    "    whitelist_2.append(line)\n",
    "print(\"The length of all_clean_without_subdom doc is\",len(whitelist_2))\n",
    "f1.close()"
   ]
  },
  {
   "cell_type": "code",
   "execution_count": 3,
   "metadata": {},
   "outputs": [],
   "source": [
    "from tldextract import extract\n",
    "import numpy as np\n",
    "def check_tld(array):\n",
    "    new_list = []\n",
    "    count = 0\n",
    "    for i in array:\n",
    "        if i == '':\n",
    "            continue\n",
    "        tsd, td, tsu = extract(i) #subdomain, domain, suffix\n",
    "        if tsd:\n",
    "            count +=1\n",
    "            if td:\n",
    "                dom = tsd + '.' + td + '.' + tsu\n",
    "            else:\n",
    "                dom = tsd + '.' + tsu\n",
    "        elif td:\n",
    "            dom = td + '.' + tsu\n",
    "        else:\n",
    "            dom = tsu\n",
    "        new_list.append(dom)\n",
    "    print(len(new_list))\n",
    "    print(len(np.unique(new_list)))\n",
    "    #print(count)\n",
    "    return(np.unique(new_list))"
   ]
  },
  {
   "cell_type": "code",
   "execution_count": 4,
   "metadata": {},
   "outputs": [
    {
     "name": "stdout",
     "output_type": "stream",
     "text": [
      "5971\n",
      "5971\n"
     ]
    },
    {
     "data": {
      "text/plain": [
       "array(['210.213.146.169032dev.covid.host.adzu.edu.ph',\n",
       "       '213.146.169032www.covid-19.host.adzu.edu.ph',\n",
       "       '2368fs-intake-covid19screen.app.cloud.gov', ...,\n",
       "       'zodiaccovid19.gov.ge', 'zodiaccovid19.gov.jo',\n",
       "       'zodiaccovid19.gov.mn'], dtype='<U85')"
      ]
     },
     "execution_count": 4,
     "metadata": {},
     "output_type": "execute_result"
    }
   ],
   "source": [
    "check_tld(whitelist_1)"
   ]
  },
  {
   "cell_type": "code",
   "execution_count": 5,
   "metadata": {},
   "outputs": [
    {
     "name": "stdout",
     "output_type": "stream",
     "text": [
      "5971\n",
      "5971\n"
     ]
    }
   ],
   "source": [
    "all_clean = {'Domain': check_tld(whitelist_1)}\n",
    "#no_subdom = {'Domain': check_tld(whitelist_2)}"
   ]
  },
  {
   "cell_type": "code",
   "execution_count": 6,
   "metadata": {},
   "outputs": [],
   "source": [
    "pd.DataFrame(all_clean).to_csv('final_whitelist_with_keyword.csv', header=True, index=False)\n",
    "#pd.DataFrame(no_subdom).to_csv('final_whitelist_no_subdom.csv', header=True, index=False)"
   ]
  },
  {
   "cell_type": "code",
   "execution_count": null,
   "metadata": {},
   "outputs": [],
   "source": []
  }
 ],
 "metadata": {
  "kernelspec": {
   "display_name": "Python 3",
   "language": "python",
   "name": "python3"
  },
  "language_info": {
   "codemirror_mode": {
    "name": "ipython",
    "version": 3
   },
   "file_extension": ".py",
   "mimetype": "text/x-python",
   "name": "python",
   "nbconvert_exporter": "python",
   "pygments_lexer": "ipython3",
   "version": "3.6.5"
  }
 },
 "nbformat": 4,
 "nbformat_minor": 2
}
