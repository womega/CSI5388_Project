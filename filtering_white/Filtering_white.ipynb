{
 "cells": [
  {
   "cell_type": "code",
   "execution_count": 1,
   "metadata": {},
   "outputs": [],
   "source": [
    "import pandas as pd\n",
    "import numpy as np\n",
    "from tqdm import tqdm"
   ]
  },
  {
   "cell_type": "code",
   "execution_count": 24,
   "metadata": {},
   "outputs": [],
   "source": [
    "from tldextract import extract\n",
    "import numpy as np\n",
    "def check_tld(array):\n",
    "    new_list = []\n",
    "    count = 0\n",
    "    for i in array:\n",
    "        tsd, td, tsu = extract(i) #subdomain, domain, suffix\n",
    "        if tsd:\n",
    "            #print(extract(i))\n",
    "            #count +=1\n",
    "            if td:\n",
    "                dom = tsd + '.' + td + '.' + tsu\n",
    "            else:\n",
    "                dom = tsd + '.' + tsu\n",
    "        elif td:\n",
    "            dom = td + '.' + tsu\n",
    "        else:\n",
    "            dom = tsu\n",
    "        new_list.append(dom)\n",
    "    print(len(new_list))\n",
    "    print(len(np.unique(new_list)))\n",
    "    #print(count)\n",
    "    return(np.unique(new_list))"
   ]
  },
  {
   "cell_type": "markdown",
   "metadata": {},
   "source": [
    "**Confirmed Malicious**"
   ]
  },
  {
   "cell_type": "code",
   "execution_count": 3,
   "metadata": {},
   "outputs": [],
   "source": [
    "domainTools = pd.read_csv('dt-covid-19-threat-list.csv', sep='\\t', header=None)\n",
    "finalMalicious = pd.read_csv('final_malicious.csv')\n",
    "phishLab = pd.read_csv('PhishLabCovid.csv')"
   ]
  },
  {
   "cell_type": "markdown",
   "metadata": {},
   "source": [
    "**WhoIS DS**"
   ]
  },
  {
   "cell_type": "code",
   "execution_count": 4,
   "metadata": {},
   "outputs": [],
   "source": [
    "whois1 = pd.read_csv('full-database.csv')\n",
    "whois2 = pd.read_csv('full-database(2).csv')\n",
    "whois3 = pd.read_csv('full-database(3).csv')"
   ]
  },
  {
   "cell_type": "markdown",
   "metadata": {},
   "source": [
    "**Checking**"
   ]
  },
  {
   "cell_type": "code",
   "execution_count": 5,
   "metadata": {},
   "outputs": [],
   "source": [
    "dt = domainTools[0].values.tolist()"
   ]
  },
  {
   "cell_type": "code",
   "execution_count": 6,
   "metadata": {},
   "outputs": [],
   "source": [
    "pl = phishLab['URL'].values.tolist()"
   ]
  },
  {
   "cell_type": "code",
   "execution_count": 7,
   "metadata": {},
   "outputs": [],
   "source": [
    "from tqdm import tqdm\n",
    "pl_urls = []\n",
    "for i in pl:\n",
    "    j = i.replace('[.]','.')\n",
    "    #print('http://'+ j)\n",
    "    #j = 'http://'+ j\n",
    "    pl_urls.append(j)"
   ]
  },
  {
   "cell_type": "code",
   "execution_count": 8,
   "metadata": {},
   "outputs": [],
   "source": [
    "fm = finalMalicious['URL'].values.tolist()"
   ]
  },
  {
   "cell_type": "code",
   "execution_count": 25,
   "metadata": {
    "collapsed": true
   },
   "outputs": [
    {
     "name": "stdout",
     "output_type": "stream",
     "text": [
      "ExtractResult(subdomain='covid2021', domain='pp', suffix='ua')\n",
      "ExtractResult(subdomain='stop-coronavirus', domain='spb', suffix='ru')\n",
      "ExtractResult(subdomain='gamcovidvac', domain='ru', suffix='com')\n",
      "ExtractResult(subdomain='covid1920', domain='pp', suffix='ua')\n",
      "ExtractResult(subdomain='covid19test', domain='spb', suffix='ru')\n",
      "ExtractResult(subdomain='viruscovid19', domain='eu', suffix='org')\n",
      "ExtractResult(subdomain='covid19dz', domain='eu', suffix='org')\n",
      "ExtractResult(subdomain='covid19products', domain='in', suffix='net')\n",
      "ExtractResult(subdomain='19-covid', domain='ru', suffix='com')\n",
      "ExtractResult(subdomain='coronaviirus', domain='pp', suffix='ua')\n",
      "ExtractResult(subdomain='coronovirus', domain='msk', suffix='ru')\n",
      "ExtractResult(subdomain='lifecovid', domain='pp', suffix='ua')\n",
      "ExtractResult(subdomain='2019covi-net', domain='pp', suffix='ua')\n",
      "ExtractResult(subdomain='coronavirusnews', domain='in', suffix='net')\n",
      "ExtractResult(subdomain='2019covi-stop', domain='pp', suffix='ua')\n",
      "ExtractResult(subdomain='2019covi', domain='pp', suffix='ua')\n",
      "ExtractResult(subdomain='stop-covid2019', domain='pp', suffix='ua')\n",
      "ExtractResult(subdomain='covid2019-stop', domain='pp', suffix='ua')\n",
      "ExtractResult(subdomain='stopcovid', domain='pp', suffix='ua')\n",
      "ExtractResult(subdomain='covidd2019', domain='pp', suffix='ua')\n",
      "ExtractResult(subdomain='stop-covid', domain='pp', suffix='ua')\n",
      "ExtractResult(subdomain='covid-stop', domain='pp', suffix='ua')\n",
      "ExtractResult(subdomain='covid-19news', domain='pp', suffix='ua')\n",
      "ExtractResult(subdomain='covid19news', domain='pp', suffix='ua')\n",
      "ExtractResult(subdomain='coronavirus-covid-19', domain='pp', suffix='ua')\n",
      "ExtractResult(subdomain='corona-virus', domain='ru', suffix='com')\n",
      "ExtractResult(subdomain='covid19ss', domain='co', suffix='ua')\n",
      "ExtractResult(subdomain='covid19-test', domain='pp', suffix='ua')\n",
      "ExtractResult(subdomain='koronavirus', domain='spb', suffix='ru')\n",
      "ExtractResult(subdomain='corona-virus', domain='com', suffix='ru')\n",
      "ExtractResult(subdomain='corona-virus', domain='de', suffix='com')\n",
      "ExtractResult(subdomain='anticoronavirus', domain='ru', suffix='com')\n",
      "ExtractResult(subdomain='coronavirus-online', domain='pp', suffix='ua')\n",
      "ExtractResult(subdomain='corona-virus', domain='com', suffix='de')\n",
      "ExtractResult(subdomain='corona-virus', domain='org', suffix='ru')\n",
      "ExtractResult(subdomain='covid', domain='com', suffix='ru')\n",
      "ExtractResult(subdomain='stopcoronavirus', domain='us', suffix='org')\n",
      "ExtractResult(subdomain='covidalert', domain='us', suffix='org')\n",
      "ExtractResult(subdomain='coronavirus', domain='de', suffix='com')\n",
      "ExtractResult(subdomain='coronavirus', domain='in', suffix='net')\n",
      "ExtractResult(subdomain='coronavirus', domain='co', suffix='com')\n",
      "ExtractResult(subdomain='coronavirusvaccine', domain='us', suffix='com')\n",
      "ExtractResult(subdomain='coronaviruscure', domain='us', suffix='com')\n",
      "ExtractResult(subdomain='coronavirus', domain='us', suffix='com')\n",
      "ExtractResult(subdomain='coronavirus', domain='com', suffix='ru')\n",
      "ExtractResult(subdomain='koronavirus', domain='com', suffix='ru')\n",
      "ExtractResult(subdomain='coronavirus', domain='eu', suffix='com')\n",
      "ExtractResult(subdomain='coronavirus', domain='pp', suffix='ua')\n",
      "ExtractResult(subdomain='covid19vaccine', domain='com', suffix='ru')\n",
      "ExtractResult(subdomain='postcovid19', domain='us', suffix='com')\n",
      "ExtractResult(subdomain='coronahelp', domain='in', suffix='net')\n",
      "ExtractResult(subdomain='pnevmocovid', domain='pp', suffix='ua')\n",
      "ExtractResult(subdomain='coronavirus', domain='biz', suffix='ua')\n",
      "ExtractResult(subdomain='covid', domain='pp', suffix='ua')\n",
      "ExtractResult(subdomain='covid19', domain='us', suffix='com')\n",
      "ExtractResult(subdomain='coronavirus', domain='msk', suffix='ru')\n",
      "ExtractResult(subdomain='covid-19', domain='us', suffix='com')\n",
      "ExtractResult(subdomain='coronavirus', domain='ru', suffix='com')\n",
      "ExtractResult(subdomain='koronavirus', domain='ru', suffix='com')\n",
      "ExtractResult(subdomain='covidpandemic', domain='eu', suffix='org')\n",
      "ExtractResult(subdomain='coronanews', domain='pp', suffix='ua')\n",
      "ExtractResult(subdomain='alertcovid19', domain='in', suffix='net')\n",
      "ExtractResult(subdomain='stopcovid19', domain='pp', suffix='ua')\n",
      "ExtractResult(subdomain='coronavirus-covid-19', domain='ru', suffix='com')\n",
      "ExtractResult(subdomain='coronavirus', domain='spb', suffix='ru')\n",
      "ExtractResult(subdomain='corona-virus', domain='pp', suffix='ua')\n",
      "ExtractResult(subdomain='koronavirus', domain='org', suffix='ru')\n",
      "ExtractResult(subdomain='covid-19', domain='ru', suffix='com')\n",
      "ExtractResult(subdomain='testcovid', domain='ru', suffix='com')\n",
      "ExtractResult(subdomain='coronavirus-novosti', domain='ru', suffix='com')\n",
      "ExtractResult(subdomain='covid', domain='za', suffix='com')\n",
      "ExtractResult(subdomain='covid19-hoiacms', domain='pp', suffix='ua')\n",
      "ExtractResult(subdomain='coronavirus', domain='grozny', suffix='ru')\n",
      "ExtractResult(subdomain='coronavirus', domain='org', suffix='ru')\n",
      "ExtractResult(subdomain='coronavirus', domain='uk', suffix='com')\n",
      "ExtractResult(subdomain='gam-covid-vac', domain='ru', suffix='com')\n",
      "ExtractResult(subdomain='state-covid19', domain='in', suffix='net')\n",
      "ExtractResult(subdomain='precovid19', domain='us', suffix='com')\n",
      "ExtractResult(subdomain='test-covid19', domain='pp', suffix='ua')\n",
      "ExtractResult(subdomain='coronastop', domain='in', suffix='net')\n",
      "ExtractResult(subdomain='test-na-koronavirus', domain='msk', suffix='ru')\n",
      "ExtractResult(subdomain='coronavirus', domain='co', suffix='ua')\n",
      "ExtractResult(subdomain='coronavirus', domain='net', suffix='ru')\n",
      "ExtractResult(subdomain='test-coronavirus', domain='msk', suffix='ru')\n",
      "ExtractResult(subdomain='naviofficial-covid19', domain='ru', suffix='com')\n",
      "ExtractResult(subdomain='anticoronavirus', domain='com', suffix='ru')\n",
      "ExtractResult(subdomain='covid19live', domain='pp', suffix='ua')\n",
      "ExtractResult(subdomain='covid-19', domain='uk', suffix='com')\n",
      "ExtractResult(subdomain='covid-19', domain='us', suffix='org')\n",
      "ExtractResult(subdomain='covid', domain='eu', suffix='org')\n",
      "ExtractResult(subdomain='koronavirus2020', domain='ru', suffix='com')\n",
      "ExtractResult(subdomain='covid-zone', domain='pp', suffix='ua')\n",
      "ExtractResult(subdomain='social-covid', domain='in', suffix='net')\n",
      "ExtractResult(subdomain='test-covid', domain='in', suffix='net')\n",
      "ExtractResult(subdomain='covid-19', domain='uk', suffix='net')\n",
      "ExtractResult(subdomain='coronax', domain='pp', suffix='ua')\n",
      "ExtractResult(subdomain='coronavirus-news', domain='msk', suffix='ru')\n",
      "ExtractResult(subdomain='koronawirus-polska', domain='co', suffix='pl')\n",
      "ExtractResult(subdomain='project-covid', domain='ru', suffix='com')\n",
      "ExtractResult(subdomain='covid', domain='co', suffix='com')\n",
      "ExtractResult(subdomain='covidnews', domain='in', suffix='net')\n",
      "ExtractResult(subdomain='covid19', domain='co', suffix='no')\n",
      "ExtractResult(subdomain='educationcovid19', domain='eu', suffix='org')\n",
      "ExtractResult(subdomain='stopcovid', domain='ru', suffix='com')\n",
      "ExtractResult(subdomain='avocat-covid19', domain='eu', suffix='com')\n",
      "ExtractResult(subdomain='quarantine', domain='pp', suffix='ua')\n",
      "ExtractResult(subdomain='covid-19', domain='com', suffix='ru')\n",
      "ExtractResult(subdomain='koronavirus', domain='msk', suffix='ru')\n",
      "ExtractResult(subdomain='covid', domain='us', suffix='org')\n",
      "ExtractResult(subdomain='coronavirustests', domain='uk', suffix='com')\n",
      "ExtractResult(subdomain='coronawarriors', domain='in', suffix='net')\n",
      "ExtractResult(subdomain='hack-corona', domain='pp', suffix='ua')\n",
      "ExtractResult(subdomain='coronavirus-news', domain='com', suffix='ru')\n",
      "ExtractResult(subdomain='covid-test', domain='ru', suffix='com')\n",
      "ExtractResult(subdomain='covid19', domain='ru', suffix='com')\n",
      "ExtractResult(subdomain='account-amazon-update-for-covid19', domain='giize', suffix='com')\n",
      "ExtractResult(subdomain='account-amazon-update-to-covid2020', domain='giize', suffix='com')\n",
      "ExtractResult(subdomain='account-service-apple-update-covid2020', domain='giize', suffix='com')\n",
      "ExtractResult(subdomain='acerbic-gleam', domain='000webhostapp', suffix='com')\n",
      "ExtractResult(subdomain='alertonlinecovid019', domain='ddns', suffix='net')\n",
      "ExtractResult(subdomain='amazon-update-date-covid2020', domain='giize', suffix='com')\n",
      "ExtractResult(subdomain='amazoncovid-19', domain='000webhostapp', suffix='com')\n",
      "ExtractResult(subdomain='app-amazon-update-date-covid2020', domain='theworkpc', suffix='com')\n",
      "ExtractResult(subdomain='app-confirmationaccount-covid19', domain='giize', suffix='com')\n",
      "ExtractResult(subdomain='app-corona-confirmation', domain='giize', suffix='com')\n",
      "ExtractResult(subdomain='appconfirmationcovid19', domain='giize', suffix='com')\n",
      "ExtractResult(subdomain='appconfirmationupdatenotificationcovid2020', domain='giize', suffix='com')\n",
      "ExtractResult(subdomain='applestorenetflixpaymentsupdatecovid2020', domain='theworkpc', suffix='com')\n",
      "ExtractResult(subdomain='bedienung-amazon-aktualisiere-date-covid19', domain='theworkpc', suffix='com')\n",
      "ExtractResult(subdomain='blognicovideodb', domain='appspot', suffix='com')\n",
      "ExtractResult(subdomain='breakdancerbundleandcupid', domain='000webhostapp', suffix='com')\n",
      "ExtractResult(subdomain='breakdancerbundleandcupidscardff', domain='000webhostapp', suffix='com')\n",
      "ExtractResult(subdomain='breakdancerbundleandcupidscarff', domain='000webhostapp', suffix='com')\n",
      "ExtractResult(subdomain='breakdancerbundleffofiicial', domain='000webhostapp', suffix='com')\n",
      "ExtractResult(subdomain='breakdancerbundlefreefureofficial', domain='000webhostapp', suffix='com')\n",
      "ExtractResult(subdomain='chaseteamcovid19relieffunds', domain='000webhostapp', suffix='com')\n",
      "ExtractResult(subdomain='coronafoundation', domain='000webhostapp', suffix='com')\n",
      "ExtractResult(subdomain='coronal-pool', domain='000webhostapp', suffix='com')\n",
      "ExtractResult(subdomain='coronavirusreport', domain='000webhostapp', suffix='com')\n",
      "ExtractResult(subdomain='coronaviruss', domain='webcindario', suffix='com')\n",
      "ExtractResult(subdomain='coronavirusvote', domain='000webhostapp', suffix='com')\n",
      "ExtractResult(subdomain='covid-19an', domain='000webhostapp', suffix='com')\n",
      "ExtractResult(subdomain='covid-19ch', domain='000webhostapp', suffix='com')\n",
      "ExtractResult(subdomain='covid-19dn', domain='000webhostapp', suffix='com')\n",
      "ExtractResult(subdomain='covid-19hr', domain='000webhostapp', suffix='com')\n",
      "ExtractResult(subdomain='covid-19jh', domain='000webhostapp', suffix='com')\n",
      "ExtractResult(subdomain='covid-19jk', domain='000webhostapp', suffix='com')\n",
      "ExtractResult(subdomain='covid19-stimulus', domain='000webhostapp', suffix='com')\n",
      "ExtractResult(subdomain='covid19-united', domain='000webhostapp', suffix='com')\n",
      "ExtractResult(subdomain='covid19relifedatapackage', domain='000webhostapp', suffix='com')\n",
      "ExtractResult(subdomain='covid19united', domain='000webhostapp', suffix='com')\n",
      "ExtractResult(subdomain='covidbkep19', domain='000webhostapp', suffix='com')\n",
      "ExtractResult(subdomain='covidsurveygma', domain='000webhostapp', suffix='com')\n",
      "ExtractResult(subdomain='dashboard-signedin-scr-covid19-vrf', domain='duckdns', suffix='org')\n",
      "ExtractResult(subdomain='database-acc-server-dashboard-onlinusr', domain='duckdns', suffix='org')\n",
      "ExtractResult(subdomain='dshbrd-signin-coviddata19-info-user', domain='duckdns', suffix='org')\n",
      "ExtractResult(subdomain='encuestatesisviruscovid-19', domain='000webhostapp', suffix='com')\n",
      "ExtractResult(subdomain='facecovid', domain='000webhostapp', suffix='com')\n",
      "ExtractResult(subdomain='facerboollk', domain='000webhostapp', suffix='com')\n",
      "ExtractResult(subdomain='fb-riau-mahasiswa-st2p-positif-covid19', domain='000webhostapp', suffix='com')\n",
      "ExtractResult(subdomain='fbcovid-19-page', domain='000webhostapp', suffix='com')\n",
      "ExtractResult(subdomain='ffcupidscarbreakdancerbundle99', domain='000webhostapp', suffix='com')\n",
      "ExtractResult(subdomain='fffcupidsbreakdancerbundle', domain='000webhostapp', suffix='com')\n",
      "ExtractResult(subdomain='fffreecupidscarandbreakdancerb', domain='000webhostapp', suffix='com')\n",
      "ExtractResult(subdomain='freebreakdancerbundleandcupidscar', domain='000webhostapp', suffix='com')\n",
      "ExtractResult(subdomain='freebreakdancerbundlefreefire', domain='000webhostapp', suffix='com')\n",
      "ExtractResult(subdomain='freecupidscarandbreakdancerbundle', domain='000webhostapp', suffix='com')\n",
      "ExtractResult(subdomain='habbocorona1', domain='000webhostapp', suffix='com')\n",
      "ExtractResult(subdomain='hilfez-kontos-account-amazon-covid19', domain='giize', suffix='com')\n",
      "ExtractResult(subdomain='klaim-pulsa-token-covid19-psbb', domain='000webhostapp', suffix='com')\n",
      "ExtractResult(subdomain='komunitascovidbkep19', domain='000webhostapp', suffix='com')\n",
      "ExtractResult(subdomain='master-regalo-covid19-jms-user-jms', domain='000webhostapp', suffix='com')\n",
      "ExtractResult(subdomain='moveamxcovid', domain='webcindario', suffix='com')\n",
      "ExtractResult(subdomain='mydancerblog', domain='000webhostapp', suffix='com')\n",
      "ExtractResult(subdomain='mydancerblogs', domain='000webhostapp', suffix='com')\n",
      "ExtractResult(subdomain='pagecovid-19', domain='000webhostapp', suffix='com')\n",
      "ExtractResult(subdomain='pulsa-gratisan-dalam-rangka-covid19', domain='000webhostapp', suffix='com')\n",
      "ExtractResult(subdomain='pulsagratisviruscorona', domain='000webhostapp', suffix='com')\n",
      "ExtractResult(subdomain='rec0veracc0unt', domain='000webhostapp', suffix='com')\n",
      "ExtractResult(subdomain='secure001-covid19alertonline2', domain='giize', suffix='com')\n",
      "ExtractResult(subdomain='secure001-covid19alertonline3', domain='ooguy', suffix='com')\n",
      "ExtractResult(subdomain='secure007-covid19updatesq', domain='kozow', suffix='com')\n",
      "ExtractResult(subdomain='securityirc-dashboard-covid19-sign-in', domain='duckdns', suffix='org')\n",
      "ExtractResult(subdomain='service-account-amazon-date-covid19', domain='giize', suffix='com')\n",
      "ExtractResult(subdomain='service-account2vl-covid19', domain='giize', suffix='com')\n",
      "ExtractResult(subdomain='service-amazon-update-date-covid2020', domain='giize', suffix='com')\n",
      "ExtractResult(subdomain='service-amazon-update-for-covid2020', domain='giize', suffix='com')\n",
      "ExtractResult(subdomain='service-apple-update-date-covid2020', domain='giize', suffix='com')\n",
      "ExtractResult(subdomain='service-authloginapwebaqmazonverifycom', domain='theworkpc', suffix='com')\n",
      "ExtractResult(subdomain='service-online-covid-pypal', domain='giize', suffix='com')\n",
      "ExtractResult(subdomain='sign-in-secure-dashboard-onlicne-portad', domain='duckdns', suffix='org')\n",
      "ExtractResult(subdomain='signin-dashboard-webapi-verifing-protal', domain='duckdns', suffix='org')\n",
      "ExtractResult(subdomain='statant-ocean', domain='000webhostapp', suffix='com')\n",
      "ExtractResult(subdomain='stopviruscovidcampaign', domain='000webhostapp', suffix='com')\n",
      "ExtractResult(subdomain='tarjeta-vi-regalo-promo-covid19-user-jms', domain='000webhostapp', suffix='com')\n",
      "ExtractResult(subdomain='ubredaio', domain='cloudns', suffix='asia')\n",
      "ExtractResult(subdomain='uniconet', domain='cloudns', suffix='asia')\n",
      "ExtractResult(subdomain='update-account-covid19', domain='giize', suffix='com')\n",
      "ExtractResult(subdomain='visitatorial-lightn', domain='000webhostapp', suffix='com')\n",
      "ExtractResult(subdomain='vrf-dshbord-covid19', domain='camdvr', suffix='org')\n",
      "ExtractResult(subdomain='wearing-refrigerato', domain='000webhostapp', suffix='com')\n",
      "ExtractResult(subdomain='www-webappauthloginserviceamqzon', domain='gleeze', suffix='com')\n",
      "ExtractResult(subdomain='www-webauthserviceaqmazonverify', domain='ooguy', suffix='com')\n",
      "ExtractResult(subdomain='covid2021', domain='pp', suffix='ua')\n",
      "ExtractResult(subdomain='covid19vaccine', domain='com', suffix='ru')\n",
      "ExtractResult(subdomain='covid1920', domain='pp', suffix='ua')\n",
      "ExtractResult(subdomain='viruscovid19', domain='eu', suffix='org')\n",
      "ExtractResult(subdomain='coronanews', domain='pp', suffix='ua')\n",
      "ExtractResult(subdomain='covid19dz', domain='eu', suffix='org')\n",
      "ExtractResult(subdomain='covid19products', domain='in', suffix='net')\n",
      "ExtractResult(subdomain='19-covid', domain='ru', suffix='com')\n",
      "ExtractResult(subdomain='coronaviirus', domain='pp', suffix='ua')\n",
      "ExtractResult(subdomain='coronavirus', domain='co', suffix='nl')\n",
      "ExtractResult(subdomain='coronovirus', domain='msk', suffix='ru')\n",
      "ExtractResult(subdomain='lifecovid', domain='pp', suffix='ua')\n",
      "ExtractResult(subdomain='coronavirusnews', domain='in', suffix='net')\n",
      "ExtractResult(subdomain='covidd2019', domain='pp', suffix='ua')\n",
      "ExtractResult(subdomain='stop-covid2019', domain='pp', suffix='ua')\n",
      "ExtractResult(subdomain='pnevmocovid', domain='pp', suffix='ua')\n",
      "ExtractResult(subdomain='stopcovid', domain='pp', suffix='ua')\n",
      "ExtractResult(subdomain='coronavirus-news', domain='com', suffix='ru')\n",
      "ExtractResult(subdomain='covid2019-stop', domain='pp', suffix='ua')\n",
      "ExtractResult(subdomain='stopcovid19', domain='pp', suffix='ua')\n",
      "ExtractResult(subdomain='covid19-hoiacms', domain='pp', suffix='ua')\n",
      "ExtractResult(subdomain='stop-covid', domain='pp', suffix='ua')\n",
      "ExtractResult(subdomain='covid-stop', domain='pp', suffix='ua')\n",
      "ExtractResult(subdomain='covid-19news', domain='pp', suffix='ua')\n",
      "ExtractResult(subdomain='covid19news', domain='pp', suffix='ua')\n",
      "ExtractResult(subdomain='coronavirus-covid-19', domain='pp', suffix='ua')\n",
      "ExtractResult(subdomain='corona-virus', domain='ru', suffix='com')\n",
      "ExtractResult(subdomain='coronavirus', domain='biz', suffix='ua')\n",
      "ExtractResult(subdomain='covid19-test', domain='pp', suffix='ua')\n",
      "ExtractResult(subdomain='covid-test', domain='ru', suffix='com')\n",
      "ExtractResult(subdomain='corona-virus', domain='com', suffix='ru')\n",
      "ExtractResult(subdomain='koronavirus', domain='spb', suffix='ru')\n",
      "ExtractResult(subdomain='coronavirus-covid-19', domain='ru', suffix='com')\n",
      "ExtractResult(subdomain='anticoronavirus', domain='ru', suffix='com')\n",
      "ExtractResult(subdomain='corona-virus', domain='de', suffix='com')\n",
      "ExtractResult(subdomain='coronavirus-online', domain='pp', suffix='ua')\n",
      "ExtractResult(subdomain='corona-virus', domain='com', suffix='de')\n",
      "ExtractResult(subdomain='corona-virus', domain='org', suffix='ru')\n",
      "ExtractResult(subdomain='covid', domain='com', suffix='ru')\n",
      "ExtractResult(subdomain='stopcoronavirus', domain='us', suffix='org')\n",
      "ExtractResult(subdomain='coronavirus', domain='de', suffix='com')\n",
      "ExtractResult(subdomain='coronavirus', domain='in', suffix='net')\n",
      "ExtractResult(subdomain='coronavirus', domain='co', suffix='com')\n",
      "ExtractResult(subdomain='coronaviruscure', domain='us', suffix='com')\n"
     ]
    },
    {
     "name": "stdout",
     "output_type": "stream",
     "text": [
      "ExtractResult(subdomain='coronavirusvaccine', domain='us', suffix='com')\n",
      "ExtractResult(subdomain='coronavirus', domain='us', suffix='com')\n",
      "ExtractResult(subdomain='coronavirus', domain='com', suffix='ru')\n",
      "ExtractResult(subdomain='koronavirus', domain='com', suffix='ru')\n",
      "ExtractResult(subdomain='coronavirus', domain='eu', suffix='com')\n",
      "ExtractResult(subdomain='corona-virus', domain='pp', suffix='ua')\n",
      "ExtractResult(subdomain='coronavirus', domain='pp', suffix='ua')\n",
      "ExtractResult(subdomain='covid', domain='eu', suffix='org')\n",
      "ExtractResult(subdomain='stop-coronavirus', domain='spb', suffix='ru')\n",
      "ExtractResult(subdomain='gamcovidvac', domain='ru', suffix='com')\n",
      "ExtractResult(subdomain='covid19test', domain='spb', suffix='ru')\n",
      "ExtractResult(subdomain='postcovid19', domain='us', suffix='com')\n",
      "ExtractResult(subdomain='test-na-koronavirus', domain='msk', suffix='ru')\n",
      "ExtractResult(subdomain='covid19live', domain='pp', suffix='ua')\n",
      "ExtractResult(subdomain='covid19ss', domain='co', suffix='ua')\n",
      "ExtractResult(subdomain='covidalert', domain='us', suffix='org')\n",
      "ExtractResult(subdomain='coronavirus', domain='spb', suffix='ru')\n",
      "ExtractResult(subdomain='koronavirus', domain='ru', suffix='com')\n",
      "ExtractResult(subdomain='testcovid', domain='ru', suffix='com')\n",
      "ExtractResult(subdomain='gam-covid-vac', domain='ru', suffix='com')\n",
      "ExtractResult(subdomain='coronahelp', domain='in', suffix='net')\n",
      "ExtractResult(subdomain='test-coronavirus', domain='msk', suffix='ru')\n",
      "ExtractResult(subdomain='alertcovid19', domain='in', suffix='net')\n",
      "ExtractResult(subdomain='koronavirus', domain='org', suffix='ru')\n",
      "ExtractResult(subdomain='covid', domain='pp', suffix='ua')\n",
      "ExtractResult(subdomain='coronavirus', domain='grozny', suffix='ru')\n",
      "ExtractResult(subdomain='coronavirus', domain='org', suffix='ru')\n",
      "ExtractResult(subdomain='covid19', domain='us', suffix='com')\n",
      "ExtractResult(subdomain='coronavirus', domain='uk', suffix='com')\n",
      "ExtractResult(subdomain='covid-19', domain='us', suffix='com')\n",
      "ExtractResult(subdomain='coronavirus', domain='com', suffix='de')\n",
      "ExtractResult(subdomain='plaquenil', domain='us', suffix='org')\n",
      "ExtractResult(subdomain='coronavirus-world', domain='pp', suffix='ua')\n",
      "ExtractResult(subdomain='coronavirus', domain='ru', suffix='com')\n",
      "ExtractResult(subdomain='coronavirus-novosti', domain='ru', suffix='com')\n",
      "ExtractResult(subdomain='precovid19', domain='us', suffix='com')\n",
      "ExtractResult(subdomain='state-covid19', domain='in', suffix='net')\n",
      "ExtractResult(subdomain='coronavirus-news', domain='msk', suffix='ru')\n",
      "ExtractResult(subdomain='koronavirus', domain='msk', suffix='ru')\n",
      "ExtractResult(subdomain='koronavirus2020', domain='ru', suffix='com')\n",
      "ExtractResult(subdomain='testcoronavirus', domain='spb', suffix='ru')\n",
      "ExtractResult(subdomain='anticoronavirus', domain='com', suffix='ru')\n",
      "ExtractResult(subdomain='coronavirus', domain='net', suffix='ru')\n",
      "ExtractResult(subdomain='coronastop', domain='in', suffix='net')\n",
      "ExtractResult(subdomain='cov2', domain='eu', suffix='com')\n",
      "ExtractResult(subdomain='2019covi-net', domain='pp', suffix='ua')\n",
      "ExtractResult(subdomain='covid-19', domain='uk', suffix='com')\n",
      "ExtractResult(subdomain='covid-19', domain='us', suffix='org')\n",
      "ExtractResult(subdomain='andreakristi', domain='000webhostapp', suffix='com')\n",
      "ExtractResult(subdomain='ffcupidscarbreakdancerbundle99', domain='000webhostapp', suffix='com')\n",
      "ExtractResult(subdomain='faq-coronavirus-financial-help', domain='lsign', suffix='site')\n",
      "ExtractResult(subdomain='covid19-vat', domain='rf', suffix='gd')\n",
      "ExtractResult(subdomain='www', domain='brightparcel', suffix='com')\n",
      "ExtractResult(subdomain='app-amazon-update-date-covid2020', domain='theworkpc', suffix='com')\n",
      "ExtractResult(subdomain='vrf-dshbord-covid19', domain='camdvr', suffix='org')\n",
      "ExtractResult(subdomain='coronagame4', domain='co', suffix='vu')\n",
      "ExtractResult(subdomain='coronal-pool', domain='000webhostapp', suffix='com')\n",
      "ExtractResult(subdomain='service-authloginapwebaqmazonverifycom', domain='theworkpc', suffix='com')\n",
      "ExtractResult(subdomain='pulsa-gratisan-dalam-rangka-covid19', domain='000webhostapp', suffix='com')\n",
      "ExtractResult(subdomain='account-amazon-update-to-covid2020', domain='giize', suffix='com')\n",
      "ExtractResult(subdomain='fffcupidsbreakdancerbundle', domain='000webhostapp', suffix='com')\n",
      "ExtractResult(subdomain='shop-sars-covid19', domain='rf', suffix='gd')\n",
      "ExtractResult(subdomain='www', domain='ita-covid19', suffix='com')\n",
      "ExtractResult(subdomain='encuestatesisviruscovid-19', domain='000webhostapp', suffix='com')\n",
      "ExtractResult(subdomain='virusscoronas', domain='000webhostapp', suffix='com')\n",
      "ExtractResult(subdomain='www', domain='covid-19challengecoin', suffix='com')\n",
      "ExtractResult(subdomain='amazon.co.jp', domain='initiativescompany-news-covid19-20200316token4787f6f3e205926666', suffix='buzz')\n",
      "ExtractResult(subdomain='uberpromocovid19', domain='000webhostapp', suffix='com')\n",
      "ExtractResult(subdomain='nepalcoronavirus2', domain='000webhostapp', suffix='com')\n",
      "ExtractResult(subdomain='service-amazon-update-for-covid2020', domain='giize', suffix='com')\n",
      "ExtractResult(subdomain='us-coronavirus-cases-state-by-state', domain='afyfr', suffix='com')\n",
      "ExtractResult(subdomain='covid19peticija', domain='000webhostapp', suffix='com')\n",
      "ExtractResult(subdomain='fb-riau-mahasiswa-st2p-positif-covid19', domain='000webhostapp', suffix='com')\n",
      "ExtractResult(subdomain='homologacao', domain='xocovid19', suffix='com.br')\n",
      "ExtractResult(subdomain='shop--covid-19', domain='rf', suffix='gd')\n",
      "ExtractResult(subdomain='shops-covid-19', domain='rf', suffix='gd')\n",
      "ExtractResult(subdomain='storage', domain='googleapis', suffix='com')\n",
      "ExtractResult(subdomain='covid-19dn', domain='000webhostapp', suffix='com')\n",
      "ExtractResult(subdomain='register-toparticipateviruscoronafree300coin', domain='mrbonus', suffix='com')\n",
      "ExtractResult(subdomain='service-apple-update-date-covid2020', domain='giize', suffix='com')\n",
      "ExtractResult(subdomain='service-account-amazon-date-covid19', domain='giize', suffix='com')\n",
      "ExtractResult(subdomain='breakdancerbundleandcupid', domain='000webhostapp', suffix='com')\n",
      "ExtractResult(subdomain='hilfez-kontos-account-amazon-covid19', domain='giize', suffix='com')\n",
      "ExtractResult(subdomain='coronate-sounds', domain='000webhostapp', suffix='com')\n",
      "ExtractResult(subdomain='www', domain='itaucovid19', suffix='com')\n",
      "ExtractResult(subdomain='www', domain='cherrydancefitness', suffix='co.uk')\n",
      "ExtractResult(subdomain='wearing-refrigerato', domain='000webhostapp', suffix='com')\n",
      "ExtractResult(subdomain='irs-gov.uc.r', domain='appspot', suffix='com')\n",
      "ExtractResult(subdomain='www', domain='wailmegensa', suffix='com')\n",
      "ExtractResult(subdomain='service-online-covid-pypal', domain='giize', suffix='com')\n",
      "ExtractResult(subdomain='komunitascovidbkep19', domain='000webhostapp', suffix='com')\n",
      "ExtractResult(subdomain='breakdancerbundleffofiicial', domain='000webhostapp', suffix='com')\n",
      "ExtractResult(subdomain='bodicia', domain='com', suffix='ru')\n",
      "ExtractResult(subdomain='www', domain='cbsrealitychase', suffix='com')\n",
      "ExtractResult(subdomain='fbcovid-19-page', domain='000webhostapp', suffix='com')\n",
      "ExtractResult(subdomain='www', domain='iacovides', suffix='com')\n",
      "ExtractResult(subdomain='peduli-corona', domain='wikaba', suffix='com')\n",
      "ExtractResult(subdomain='www.dailycorona', domain='bitbyteplay', suffix='com')\n",
      "ExtractResult(subdomain='helptoavoidcoronaa', domain='000webhostapp', suffix='com')\n",
      "ExtractResult(subdomain='coronagame3', domain='co', suffix='vu')\n",
      "ExtractResult(subdomain='visitatorial-lightn', domain='000webhostapp', suffix='com')\n",
      "ExtractResult(subdomain='www', domain='gov-ca-covid19', suffix='org')\n",
      "ExtractResult(subdomain='sign-in-secure-dashboard-onlicne-portad', domain='duckdns', suffix='org')\n",
      "ExtractResult(subdomain='dailycorona', domain='bitbyteplay', suffix='com')\n",
      "ExtractResult(subdomain='pulsagratiscorona', domain='000webhostapp', suffix='com')\n",
      "ExtractResult(subdomain='alertonlinecovid019', domain='ddns', suffix='net')\n",
      "ExtractResult(subdomain='covid', domain='seguranca-bb', suffix='info')\n",
      "ExtractResult(subdomain='covid--19-shop', domain='rf', suffix='gd')\n",
      "ExtractResult(subdomain='www', domain='covidvirus', suffix='guru')\n",
      "ExtractResult(subdomain='stopviruscovidcampaign', domain='000webhostapp', suffix='com')\n",
      "ExtractResult(subdomain='vvho-dropb0xcloud', domain='selfip', suffix='com')\n",
      "ExtractResult(subdomain='www', domain='wfb-wa-identity-confirmation-now', suffix='agency')\n",
      "ExtractResult(subdomain='coronavirusvote', domain='000webhostapp', suffix='com')\n",
      "ExtractResult(subdomain='www', domain='irshelpcovid19', suffix='com')\n",
      "ExtractResult(subdomain='covid19relifedatapackage', domain='000webhostapp', suffix='com')\n",
      "ExtractResult(subdomain='klaim-pulsa-token-covid19-psbb', domain='000webhostapp', suffix='com')\n",
      "ExtractResult(subdomain='www.reguster-forparticipateinthecorona-freecoin300', domain='mrbonus', suffix='com')\n",
      "ExtractResult(subdomain='freebreakdancerbundleandcupidscar', domain='000webhostapp', suffix='com')\n",
      "ExtractResult(subdomain='www', domain='cine', suffix='com.uy')\n",
      "ExtractResult(subdomain='join-whatsapp-bokep62', domain='covid99', suffix='gq')\n",
      "ExtractResult(subdomain='coronavirusonooeir', domain='luxciosoiop', suffix='com')\n",
      "ExtractResult(subdomain='chat-whatsapps', domain='19covidd', suffix='com')\n",
      "ExtractResult(subdomain='covid19-stimulus', domain='000webhostapp', suffix='com')\n",
      "ExtractResult(subdomain='www.peduli-corona', domain='wikaba', suffix='com')\n",
      "ExtractResult(subdomain='aruba-covid19.u720493s8q.ha004.t', domain='justns', suffix='ru')\n",
      "ExtractResult(subdomain='www.coronavirusonooeir', domain='huidps', suffix='com')\n",
      "ExtractResult(subdomain='moveamxcovid', domain='webcindario', suffix='com')\n",
      "ExtractResult(subdomain='trenv', domain='coronavideo3', suffix='tk')\n",
      "ExtractResult(subdomain='www', domain='covidmask24', suffix='com')\n",
      "ExtractResult(subdomain='covid19healthcare', domain='000webhostapp', suffix='com')\n",
      "ExtractResult(subdomain='mydancerblogs', domain='000webhostapp', suffix='com')\n",
      "ExtractResult(subdomain='irs-gov-covid19', domain='phpnet', suffix='us')\n",
      "ExtractResult(subdomain='covid19', domain='id-airbnb', suffix='com')\n",
      "ExtractResult(subdomain='covid-19jh', domain='000webhostapp', suffix='com')\n",
      "ExtractResult(subdomain='thusdaycoronaupdae.blob.core', domain='windows', suffix='net')\n",
      "ExtractResult(subdomain='eshop-COVID19', domain='rf', suffix='gd')\n",
      "ExtractResult(subdomain='shop-covid19-2021', domain='rf', suffix='gd')\n",
      "ExtractResult(subdomain='covid19---shop', domain='rf', suffix='gd')\n",
      "ExtractResult(subdomain='www', domain='netflix-covid-19', suffix='com')\n",
      "ExtractResult(subdomain='covid-19', domain='bdtime', suffix='news')\n",
      "ExtractResult(subdomain='blognicovideodb', domain='appspot', suffix='com')\n",
      "ExtractResult(subdomain='ing', domain='csam-corona', suffix='be')\n",
      "ExtractResult(subdomain='covid19', domain='seguranca-bb', suffix='info')\n",
      "ExtractResult(subdomain='dati-covid19-psd2', domain='000webhostapp', suffix='com')\n",
      "ExtractResult(subdomain='uniconet', domain='cloudns', suffix='asia')\n",
      "ExtractResult(subdomain='www', domain='promo-covid19-neftlix', suffix='ml')\n",
      "ExtractResult(subdomain='amazon.co.jp', domain='initiativescompany-news-covid19-20200316token4787f6f3e205921236', suffix='buzz')\n",
      "ExtractResult(subdomain='account-service-apple-update-covid2020', domain='giize', suffix='com')\n",
      "ExtractResult(subdomain='covid19-united', domain='000webhostapp', suffix='com')\n",
      "ExtractResult(subdomain='www', domain='rogers-covid19', suffix='com')\n",
      "ExtractResult(subdomain='coronafoundation', domain='000webhostapp', suffix='com')\n",
      "ExtractResult(subdomain='www', domain='irs', suffix='org')\n",
      "ExtractResult(subdomain='click', domain='cocovid', suffix='co')\n",
      "ExtractResult(subdomain='www.register-participatecoronafreecoins300', domain='mrbonus', suffix='com')\n",
      "ExtractResult(subdomain='airbnb', domain='id-covid19', suffix='com')\n",
      "ExtractResult(subdomain='oldschool', domain='runescape-covid-19', suffix='info')\n",
      "ExtractResult(subdomain='www', domain='nellyreifler', suffix='com')\n",
      "ExtractResult(subdomain='nxt27893', domain='nextadmin', suffix='hu')\n",
      "ExtractResult(subdomain='covid19partnership', domain='000webhostapp', suffix='com')\n",
      "ExtractResult(subdomain='covid19-seguranca', domain='autosmsbb', suffix='com')\n",
      "ExtractResult(subdomain='amazon.co.jp', domain='initiativescompany-news-covid19-20200316token4787f6f3e205923534', suffix='buzz')\n",
      "ExtractResult(subdomain='shop-covid19', domain='rf', suffix='gd')\n",
      "ExtractResult(subdomain='update-account-covid19', domain='giize', suffix='com')\n",
      "ExtractResult(subdomain='www', domain='tzetta', suffix='com')\n",
      "ExtractResult(subdomain='chaseteamcovid19relieffunds', domain='000webhostapp', suffix='com')\n",
      "ExtractResult(subdomain='news', domain='att-covid19', suffix='com')\n",
      "ExtractResult(subdomain='coronavirusreport', domain='000webhostapp', suffix='com')\n",
      "ExtractResult(subdomain='covidstimulusreliefs', domain='000webhostapp', suffix='com')\n",
      "ExtractResult(subdomain='covidluiza', domain='000webhostapp', suffix='com')\n",
      "ExtractResult(subdomain='group.whatsapps', domain='19covidd', suffix='com')\n",
      "ExtractResult(subdomain='mydancerblog', domain='000webhostapp', suffix='com')\n",
      "ExtractResult(subdomain='covid-19ch', domain='000webhostapp', suffix='com')\n",
      "ExtractResult(subdomain='www', domain='stpl', suffix='ca')\n",
      "ExtractResult(subdomain='dshbrd-signin-coviddata19-info-user', domain='duckdns', suffix='org')\n",
      "ExtractResult(subdomain='appconfirmationcovid19', domain='giize', suffix='com')\n",
      "ExtractResult(subdomain='COVID--19-shop', domain='rf', suffix='gd')\n",
      "ExtractResult(subdomain='secure007-covid19updatesq', domain='kozow', suffix='com')\n",
      "ExtractResult(subdomain='shop---covid19', domain='rf', suffix='gd')\n",
      "ExtractResult(subdomain='covid19-survei', domain='000webhostapp', suffix='com')\n",
      "ExtractResult(subdomain='freebreakdancerbundlefreefire', domain='000webhostapp', suffix='com')\n",
      "ExtractResult(subdomain='acerbic-gleam', domain='000webhostapp', suffix='com')\n",
      "ExtractResult(subdomain='www', domain='lovecelebrities', suffix='com')\n",
      "ExtractResult(subdomain='bhleon.com-do', domain='serfidelo', suffix='com')\n",
      "ExtractResult(subdomain='www', domain='koharrhealth', suffix='com')\n",
      "ExtractResult(subdomain='breakdancerbundlefreefureofficial', domain='000webhostapp', suffix='com')\n",
      "ExtractResult(subdomain='signin-dashboard-webapi-verifing-protal', domain='duckdns', suffix='org')\n",
      "ExtractResult(subdomain='covid-19hr', domain='000webhostapp', suffix='com')\n",
      "ExtractResult(subdomain='grupwhatsapp', domain='19covidd', suffix='com')\n",
      "ExtractResult(subdomain='portal.auone.jp-verifykey', domain='covid-191', suffix='com')\n",
      "ExtractResult(subdomain='service-amazon-update-date-covid2020', domain='giize', suffix='com')\n",
      "ExtractResult(subdomain='amazon-update-date-covid2020', domain='giize', suffix='com')\n",
      "ExtractResult(subdomain='www', domain='im4free', suffix='com')\n",
      "ExtractResult(subdomain='secure001-covid19alertonline3', domain='ooguy', suffix='com')\n",
      "ExtractResult(subdomain='eecovid19-support150', domain='hyundaigiadinhsaigon', suffix='com')\n",
      "ExtractResult(subdomain='piocppocodso.blob.core', domain='windows', suffix='net')\n",
      "ExtractResult(subdomain='covid-19', domain='xxx-wa', suffix='com')\n",
      "ExtractResult(subdomain='amazoncovid-19', domain='000webhostapp', suffix='com')\n",
      "ExtractResult(subdomain='pagecovid-19', domain='000webhostapp', suffix='com')\n",
      "ExtractResult(subdomain='applestorenetflixpaymentsupdatecovid2020', domain='theworkpc', suffix='com')\n",
      "ExtractResult(subdomain='covid-19jk', domain='000webhostapp', suffix='com')\n",
      "ExtractResult(subdomain='www', domain='mediterraneosantamarinella', suffix='com')\n",
      "ExtractResult(subdomain='actualisatie.updateics-covid19', domain='noez', suffix='me')\n",
      "ExtractResult(subdomain='bokepspecialcovid19', domain='event-indo', suffix='com')\n",
      "ExtractResult(subdomain='habbocorona1', domain='000webhostapp', suffix='com')\n",
      "ExtractResult(subdomain='covid19united', domain='000webhostapp', suffix='com')\n",
      "ExtractResult(subdomain='coronaviruss', domain='webcindario', suffix='com')\n",
      "ExtractResult(subdomain='faq-coronavirus-financial-help', domain='nsign', suffix='me')\n",
      "ExtractResult(subdomain='ubredaio', domain='cloudns', suffix='asia')\n",
      "ExtractResult(subdomain='covidbkep19', domain='000webhostapp', suffix='com')\n",
      "ExtractResult(subdomain='pulsagratisviruscorona', domain='000webhostapp', suffix='com')\n",
      "ExtractResult(subdomain='app-confirmationaccount-covid19', domain='giize', suffix='com')\n",
      "ExtractResult(subdomain='ghostvirus', domain='000webhostapp', suffix='com')\n",
      "ExtractResult(subdomain='www', domain='eater', suffix='com')\n",
      "ExtractResult(subdomain='www', domain='welcometocoronado', suffix='com')\n",
      "ExtractResult(subdomain='www4-irs-gov.uc.r', domain='appspot', suffix='com')\n",
      "ExtractResult(subdomain='shopscovid19', domain='rf', suffix='gd')\n",
      "ExtractResult(subdomain='tarjeta-vi-regalo-promo-covid19-user-jms', domain='000webhostapp', suffix='com')\n",
      "ExtractResult(subdomain='coronagame2', domain='co', suffix='vu')\n",
      "ExtractResult(subdomain='www', domain='plantingvelve', suffix='com')\n",
      "ExtractResult(subdomain='gcoronag', domain='000webhostapp', suffix='com')\n",
      "ExtractResult(subdomain='www', domain='netflixbrazilcovid', suffix='com')\n",
      "ExtractResult(subdomain='master-regalo-covid19-jms-user-jms', domain='000webhostapp', suffix='com')\n",
      "ExtractResult(subdomain='statant-ocean', domain='000webhostapp', suffix='com')\n",
      "ExtractResult(subdomain='appconfirmationupdatenotificationcovid2020', domain='giize', suffix='com')\n",
      "ExtractResult(subdomain='www', domain='pescaturismocorona', suffix='it')\n",
      "ExtractResult(subdomain='covid-19an', domain='000webhostapp', suffix='com')\n",
      "ExtractResult(subdomain='shop--covid19', domain='rf', suffix='gd')\n",
      "ExtractResult(subdomain='breakdancerbundleandcupidscardff', domain='000webhostapp', suffix='com')\n",
      "ExtractResult(subdomain='coronagame1', domain='co', suffix='vu')\n",
      "ExtractResult(subdomain='www-webappauthloginserviceamqzon', domain='gleeze', suffix='com')\n",
      "ExtractResult(subdomain='app-corona-confirmation', domain='giize', suffix='com')\n",
      "ExtractResult(subdomain='corotnavirusonline', domain='huidps', suffix='com')\n",
      "ExtractResult(subdomain='coronavirusonooeir', domain='huidps', suffix='com')\n",
      "ExtractResult(subdomain='covidsurveygma', domain='000webhostapp', suffix='com')\n",
      "ExtractResult(subdomain='irs-gov-coronavirus-get.ue.r', domain='appspot', suffix='com')\n",
      "ExtractResult(subdomain='apple', domain='covid19solidario', suffix='es')\n",
      "ExtractResult(subdomain='covid19-support', domain='aquintaessencia', suffix='com.br')\n",
      "ExtractResult(subdomain='securityirc-dashboard-covid19-sign-in', domain='duckdns', suffix='org')\n",
      "ExtractResult(subdomain='eshop-covid19', domain='rf', suffix='gd')\n",
      "ExtractResult(subdomain='virusflourished23', domain='azurewebsites', suffix='net')\n",
      "ExtractResult(subdomain='breakdancerbundleandcupidscarff', domain='000webhostapp', suffix='com')\n",
      "ExtractResult(subdomain='dashboard-signedin-scr-covid19-vrf', domain='duckdns', suffix='org')\n",
      "ExtractResult(subdomain='vzwcovid19g-001-site1', domain='1tempurl', suffix='com')\n",
      "ExtractResult(subdomain='grupbokep28', domain='19covidd', suffix='com')\n",
      "ExtractResult(subdomain='coronaflexx', domain='000webhostapp', suffix='com')\n",
      "ExtractResult(subdomain='www-webauthserviceaqmazonverify', domain='ooguy', suffix='com')\n",
      "ExtractResult(subdomain='www', domain='americanascovidshop', suffix='com')\n",
      "ExtractResult(subdomain='webmail.accenter', domain='answerivecovid19', suffix='com')\n",
      "ExtractResult(subdomain='freecupidscarandbreakdancerbundle', domain='000webhostapp', suffix='com')\n",
      "ExtractResult(subdomain='coronavirusinasec', domain='000webhostapp', suffix='com')\n",
      "ExtractResult(subdomain='service-account2vl-covid19', domain='giize', suffix='com')\n",
      "ExtractResult(subdomain='www', domain='n95mask-covid19', suffix='com')\n",
      "ExtractResult(subdomain='coronavgame1', domain='atwebpages', suffix='com')\n",
      "ExtractResult(subdomain='shopcovid-19', domain='rf', suffix='gd')\n",
      "ExtractResult(subdomain='coronavgame2', domain='atwebpages', suffix='com')\n",
      "ExtractResult(subdomain='vzwcovid19i-001-site1', domain='1tempurl', suffix='com')\n",
      "ExtractResult(subdomain='secure001-covid19alertonline2', domain='giize', suffix='com')\n",
      "ExtractResult(subdomain='www', domain='4mysecure-facebookcovid19petition', suffix='cf')\n",
      "ExtractResult(subdomain='account-amazon-update-for-covid19', domain='giize', suffix='com')\n",
      "ExtractResult(subdomain='ing.securecovid-19', domain='noez', suffix='me')\n",
      "ExtractResult(subdomain='xn--jelpmedstoppespredningenavkoronavirus-4ed', domain='weebly', suffix='com')\n",
      "ExtractResult(subdomain='www.airbnb', domain='id-covid19', suffix='com')\n",
      "ExtractResult(subdomain='facecovid', domain='000webhostapp', suffix='com')\n",
      "ExtractResult(subdomain='database-acc-server-dashboard-onlinusr', domain='duckdns', suffix='org')\n",
      "ExtractResult(subdomain='www', domain='brunoespanha', suffix='com')\n",
      "ExtractResult(subdomain='bokepviral', domain='19covidd', suffix='com')\n",
      "ExtractResult(subdomain='coronavirusnews', domain='000webhostapp', suffix='com')\n",
      "ExtractResult(subdomain='covid-192', domain='godaddysites', suffix='com')\n",
      "ExtractResult(subdomain='store1secure', domain='covid19mascarillasymas', suffix='com')\n",
      "ExtractResult(subdomain='fffreecupidscarandbreakdancerb', domain='000webhostapp', suffix='com')\n",
      "ExtractResult(subdomain='facerboollk', domain='000webhostapp', suffix='com')\n",
      "ExtractResult(subdomain='bedienung-amazon-aktualisiere-date-covid19', domain='theworkpc', suffix='com')\n",
      "ExtractResult(subdomain='mail.covid-19', domain='xxx-wa', suffix='com')\n",
      "ExtractResult(subdomain='corona19covid', domain='000webhostapp', suffix='com')\n",
      "ExtractResult(subdomain='berita-covid-19-terkini-tasikmalaya', domain='000webhostapp', suffix='com')\n",
      "ExtractResult(subdomain='www', domain='antiviruscompares2020', suffix='com')\n",
      "ExtractResult(subdomain='pledge-againstt-corona', domain='000webhostapp', suffix='com')\n",
      "ExtractResult(subdomain='bp-formularios-covid19', domain='azurewebsites', suffix='net')\n",
      "ExtractResult(subdomain='newcovid19unread.z13.web.core', domain='windows', suffix='net')\n",
      "ExtractResult(subdomain='coronavgame3', domain='atwebpages', suffix='com')\n",
      "ExtractResult(subdomain='rec0veracc0unt', domain='000webhostapp', suffix='com')\n",
      "ExtractResult(subdomain='www', domain='lamalug', suffix='org')\n",
      "ExtractResult(subdomain='zonasegurabeta', domain='viabcp-covid19', suffix='xyz')\n",
      "ExtractResult(subdomain='italy-covid19.u720553s9g.ha004.t', domain='justns', suffix='ru')\n",
      "ExtractResult(subdomain='register-participatecoronafreecoins300', domain='mrbonus', suffix='com')\n",
      "160914\n"
     ]
    },
    {
     "name": "stdout",
     "output_type": "stream",
     "text": [
      "102517\n",
      "532\n"
     ]
    }
   ],
   "source": [
    "all_malicious = check_tld(dt + pl_urls + fm)"
   ]
  },
  {
   "cell_type": "code",
   "execution_count": 10,
   "metadata": {},
   "outputs": [
    {
     "name": "stdout",
     "output_type": "stream",
     "text": [
      "408380\n",
      "408380\n",
      "0\n"
     ]
    }
   ],
   "source": [
    "all_whois = check_tld(whois1['domain_name'].values.tolist() + whois2['domain_name'].values.tolist() + whois3['domain_name'].values.tolist())"
   ]
  },
  {
   "cell_type": "code",
   "execution_count": 11,
   "metadata": {},
   "outputs": [],
   "source": [
    "keywords = ['corona', 'covid' , 'ncov', 'wuhan', 'ncov-19', \n",
    "            'virus', 'covid-19', 'covid19', 'sars', 'wuhanvirus',\n",
    "            'novelvirus', 'cov19']"
   ]
  },
  {
   "cell_type": "code",
   "execution_count": 12,
   "metadata": {},
   "outputs": [
    {
     "name": "stderr",
     "output_type": "stream",
     "text": [
      "100%|██████████████████████████████████████████████████████████████████████████████████| 12/12 [00:03<00:00,  3.68it/s]\n"
     ]
    }
   ],
   "source": [
    "lst_whois = []\n",
    "for k in tqdm(range(len(keywords))):\n",
    "    key = keywords[k]\n",
    "    for u in all_whois:\n",
    "        if key in u:\n",
    "            lst_whois.append(u)"
   ]
  },
  {
   "cell_type": "code",
   "execution_count": 13,
   "metadata": {},
   "outputs": [
    {
     "data": {
      "text/plain": [
       "610"
      ]
     },
     "execution_count": 13,
     "metadata": {},
     "output_type": "execute_result"
    }
   ],
   "source": [
    "len(lst_whois)"
   ]
  },
  {
   "cell_type": "code",
   "execution_count": 14,
   "metadata": {},
   "outputs": [
    {
     "name": "stderr",
     "output_type": "stream",
     "text": [
      "100%|████████████████████████████████████████████████████████████████████████████████| 610/610 [00:40<00:00, 14.92it/s]\n"
     ]
    }
   ],
   "source": [
    "lst_wh_whois = []\n",
    "to_black = []\n",
    "for k in tqdm(range(len(lst_whois))):\n",
    "    key = lst_whois[k]\n",
    "    for u in all_malicious:\n",
    "        if (key == u):\n",
    "            lst_wh_whois.append(key)\n",
    "            to_black.append(k)"
   ]
  },
  {
   "cell_type": "code",
   "execution_count": 15,
   "metadata": {},
   "outputs": [
    {
     "data": {
      "text/plain": [
       "171"
      ]
     },
     "execution_count": 15,
     "metadata": {},
     "output_type": "execute_result"
    }
   ],
   "source": [
    "610 - len(lst_wh_whois)"
   ]
  },
  {
   "cell_type": "code",
   "execution_count": 16,
   "metadata": {},
   "outputs": [
    {
     "name": "stderr",
     "output_type": "stream",
     "text": [
      "100%|████████████████████████████████████████████████████████████████████████████| 610/610 [00:00<00:00, 152629.33it/s]\n"
     ]
    }
   ],
   "source": [
    "getattr(tqdm, '_instances', {}).clear()\n",
    "list_white = []\n",
    "count = 0\n",
    "for i in tqdm(range(len(lst_whois))):\n",
    "    if i not in to_black:\n",
    "        list_white.append(lst_whois[i])\n",
    "        count +=1\n",
    "#print(\"There are {} similar domains\".format(count))"
   ]
  },
  {
   "cell_type": "code",
   "execution_count": 17,
   "metadata": {},
   "outputs": [
    {
     "name": "stdout",
     "output_type": "stream",
     "text": [
      "171\n",
      "168\n",
      "0\n"
     ]
    }
   ],
   "source": [
    "new_dom = check_tld(list_white)"
   ]
  },
  {
   "cell_type": "code",
   "execution_count": 18,
   "metadata": {},
   "outputs": [],
   "source": [
    "from collections import Counter\n",
    "import math"
   ]
  },
  {
   "cell_type": "code",
   "execution_count": 19,
   "metadata": {},
   "outputs": [],
   "source": [
    "def entropy(s):\n",
    "    p, lns = Counter(s), float(len(s))\n",
    "    return -sum(count/lns * math.log(count/lns,2) for count in p.values())"
   ]
  },
  {
   "cell_type": "code",
   "execution_count": 20,
   "metadata": {},
   "outputs": [],
   "source": [
    "def avg_entropy(l):\n",
    "    e = 0\n",
    "    for i in l:\n",
    "        e += entropy(i)\n",
    "    return(e/(len(l)))"
   ]
  },
  {
   "cell_type": "code",
   "execution_count": 21,
   "metadata": {},
   "outputs": [
    {
     "data": {
      "text/plain": [
       "3.484350123912899"
      ]
     },
     "execution_count": 21,
     "metadata": {},
     "output_type": "execute_result"
    }
   ],
   "source": [
    "avg_entropy(new_dom)"
   ]
  },
  {
   "cell_type": "code",
   "execution_count": 26,
   "metadata": {},
   "outputs": [],
   "source": [
    "with open('clean_whois_with_keyword.txt', 'w') as f:\n",
    "    for item in new_dom:\n",
    "        f.write(\"%s\\n\" % item)"
   ]
  },
  {
   "cell_type": "code",
   "execution_count": 23,
   "metadata": {},
   "outputs": [],
   "source": [
    "with open('confirmed_malicious.txt', 'w') as f:\n",
    "    for item in all_malicious:\n",
    "        f.write(\"%s\\n\" % item)"
   ]
  },
  {
   "cell_type": "markdown",
   "metadata": {},
   "source": [
    "# Checking government, EDU search results and previous confirmed against all confirmed malicious"
   ]
  },
  {
   "cell_type": "code",
   "execution_count": 1,
   "metadata": {},
   "outputs": [
    {
     "ename": "FileNotFoundError",
     "evalue": "[Errno 2] No such file or directory: 'govedu_domains.txt'",
     "output_type": "error",
     "traceback": [
      "\u001b[1;31m---------------------------------------------------------------------------\u001b[0m",
      "\u001b[1;31mFileNotFoundError\u001b[0m                         Traceback (most recent call last)",
      "\u001b[1;32m<ipython-input-1-408ac96527f8>\u001b[0m in \u001b[0;36m<module>\u001b[1;34m()\u001b[0m\n\u001b[1;32m----> 1\u001b[1;33m \u001b[0mf1\u001b[0m \u001b[1;33m=\u001b[0m \u001b[0mopen\u001b[0m\u001b[1;33m(\u001b[0m\u001b[1;34m\"govedu_domains.txt\"\u001b[0m\u001b[1;33m)\u001b[0m\u001b[1;33m\u001b[0m\u001b[0m\n\u001b[0m\u001b[0;32m      2\u001b[0m \u001b[0mline\u001b[0m \u001b[1;33m=\u001b[0m \u001b[0mf1\u001b[0m\u001b[1;33m.\u001b[0m\u001b[0mreadline\u001b[0m\u001b[1;33m(\u001b[0m\u001b[1;33m)\u001b[0m\u001b[1;33m\u001b[0m\u001b[0m\n\u001b[0;32m      3\u001b[0m \u001b[0mgovedu\u001b[0m \u001b[1;33m=\u001b[0m \u001b[1;33m[\u001b[0m\u001b[1;33m]\u001b[0m\u001b[1;33m\u001b[0m\u001b[0m\n\u001b[0;32m      4\u001b[0m \u001b[1;32mwhile\u001b[0m \u001b[0mline\u001b[0m\u001b[1;33m:\u001b[0m\u001b[1;33m\u001b[0m\u001b[0m\n\u001b[0;32m      5\u001b[0m     \u001b[0mline\u001b[0m \u001b[1;33m=\u001b[0m \u001b[0mf1\u001b[0m\u001b[1;33m.\u001b[0m\u001b[0mreadline\u001b[0m\u001b[1;33m(\u001b[0m\u001b[1;33m)\u001b[0m\u001b[1;33m\u001b[0m\u001b[0m\n",
      "\u001b[1;31mFileNotFoundError\u001b[0m: [Errno 2] No such file or directory: 'govedu_domains.txt'"
     ]
    }
   ],
   "source": [
    "f1 = open(\"govedu_domains.txt\")\n",
    "line = f1.readline()\n",
    "govedu = []\n",
    "while line:                    \n",
    "    line = f1.readline() \n",
    "    govedu.append(line)\n",
    "print(\"The length of govedu_domains doc is\",len(govedu))\n",
    "f1.close()"
   ]
  },
  {
   "cell_type": "code",
   "execution_count": 24,
   "metadata": {},
   "outputs": [
    {
     "name": "stdout",
     "output_type": "stream",
     "text": [
      "The length of search_results doc is 2407\n"
     ]
    }
   ],
   "source": [
    "f1 = open(\"search_results.txt\")\n",
    "line = f1.readline()\n",
    "search_res = []\n",
    "while line:                    \n",
    "    line = f1.readline() \n",
    "    search_res.append(line)\n",
    "print(\"The length of search_results doc is\",len(search_res))\n",
    "f1.close()"
   ]
  },
  {
   "cell_type": "code",
   "execution_count": 6,
   "metadata": {},
   "outputs": [
    {
     "name": "stdout",
     "output_type": "stream",
     "text": [
      "The length of previous_confirmed doc is 1039\n"
     ]
    }
   ],
   "source": [
    "f1 = open(\"previous_confirmed.txt\")\n",
    "line = f1.readline()\n",
    "conf_white = []\n",
    "while line:                    \n",
    "    line = f1.readline() \n",
    "    conf_white.append(line)\n",
    "print(\"The length of previous_confirmed doc is\",len(conf_white))\n",
    "f1.close()"
   ]
  },
  {
   "cell_type": "code",
   "execution_count": 7,
   "metadata": {},
   "outputs": [
    {
     "name": "stdout",
     "output_type": "stream",
     "text": [
      "The length of confirmed_malicious doc is 102517\n"
     ]
    }
   ],
   "source": [
    "f1 = open(\"confirmed_malicious.txt\")\n",
    "line = f1.readline()\n",
    "conf_mal = []\n",
    "while line:                    \n",
    "    line = f1.readline() \n",
    "    conf_mal.append(line)\n",
    "print(\"The length of confirmed_malicious doc is\",len(conf_mal))\n",
    "f1.close()"
   ]
  },
  {
   "cell_type": "code",
   "execution_count": 3,
   "metadata": {},
   "outputs": [],
   "source": [
    "from tldextract import extract\n",
    "import numpy as np\n",
    "def check_tld(array):\n",
    "    new_list = []\n",
    "    count = 0\n",
    "    for i in array:\n",
    "        tsd, td, tsu = extract(i) #subdomain, domain, suffix\n",
    "        if tsd:\n",
    "            #print(extract(i))\n",
    "            #count +=1\n",
    "            if td:\n",
    "                dom = tsd + '.' + td + '.' + tsu\n",
    "            else:\n",
    "                dom = tsd + '.' + tsu\n",
    "        elif td:\n",
    "            dom = td + '.' + tsu\n",
    "        else:\n",
    "            dom = tsu\n",
    "        new_list.append(dom)\n",
    "    print(len(new_list))\n",
    "    print(len(np.unique(new_list)))\n",
    "    #print(count)\n",
    "    return(np.unique(new_list))"
   ]
  },
  {
   "cell_type": "code",
   "execution_count": 9,
   "metadata": {},
   "outputs": [],
   "source": [
    "from tqdm import tqdm\n",
    "getattr(tqdm, '_instances', {}).clear()"
   ]
  },
  {
   "cell_type": "markdown",
   "metadata": {},
   "source": [
    "## 1. Government & EDU"
   ]
  },
  {
   "cell_type": "code",
   "execution_count": 10,
   "metadata": {},
   "outputs": [
    {
     "name": "stderr",
     "output_type": "stream",
     "text": [
      "100%|█████████████████████████████████████████████████████████████████████████████| 7394/7394 [01:05<00:00, 112.73it/s]\n"
     ]
    }
   ],
   "source": [
    "lst_wh_gov = []\n",
    "to_black = []\n",
    "for k in tqdm(range(len(govedu))):\n",
    "    key = govedu[k]\n",
    "    for u in conf_mal:\n",
    "        if (key == u):\n",
    "            lst_wh_gov.append(key)\n",
    "            to_black.append(k)"
   ]
  },
  {
   "cell_type": "code",
   "execution_count": 11,
   "metadata": {},
   "outputs": [
    {
     "data": {
      "text/plain": [
       "116"
      ]
     },
     "execution_count": 11,
     "metadata": {},
     "output_type": "execute_result"
    }
   ],
   "source": [
    "len(lst_wh_gov)"
   ]
  },
  {
   "cell_type": "code",
   "execution_count": 12,
   "metadata": {},
   "outputs": [
    {
     "name": "stderr",
     "output_type": "stream",
     "text": [
      "100%|██████████████████████████████████████████████████████████████████████████| 7394/7394 [00:00<00:00, 295942.32it/s]"
     ]
    },
    {
     "name": "stdout",
     "output_type": "stream",
     "text": [
      "There remain 7278 domains, from 7394.\n"
     ]
    },
    {
     "name": "stderr",
     "output_type": "stream",
     "text": [
      "\n"
     ]
    }
   ],
   "source": [
    "getattr(tqdm, '_instances', {}).clear()\n",
    "new_gov = []\n",
    "count = 0\n",
    "for i in tqdm(range(len(govedu))):\n",
    "    if i not in to_black:\n",
    "        new_gov.append(govedu[i])\n",
    "        count +=1\n",
    "print(\"There remain {} domains, from {}.\".format(count, len(govedu)))"
   ]
  },
  {
   "cell_type": "code",
   "execution_count": 12,
   "metadata": {},
   "outputs": [],
   "source": [
    "with open('clean_govedu.txt', 'w') as f:\n",
    "    for item in new_gov:\n",
    "        f.write(\"%s\\n\" % item)"
   ]
  },
  {
   "cell_type": "markdown",
   "metadata": {},
   "source": [
    "# 2. Search Results"
   ]
  },
  {
   "cell_type": "code",
   "execution_count": 25,
   "metadata": {},
   "outputs": [
    {
     "name": "stderr",
     "output_type": "stream",
     "text": [
      "100%|█████████████████████████████████████████████████████████████████████████████| 2407/2407 [00:22<00:00, 108.98it/s]\n"
     ]
    }
   ],
   "source": [
    "lst_wh_res = []\n",
    "to_black = []\n",
    "getattr(tqdm, '_instances', {}).clear()\n",
    "for k in tqdm(range(len(search_res))):\n",
    "    key = search_res[k]\n",
    "    for u in conf_mal:\n",
    "        if (key == u):\n",
    "            lst_wh_res.append(key)\n",
    "            to_black.append(k)"
   ]
  },
  {
   "cell_type": "code",
   "execution_count": 26,
   "metadata": {},
   "outputs": [
    {
     "data": {
      "text/plain": [
       "5"
      ]
     },
     "execution_count": 26,
     "metadata": {},
     "output_type": "execute_result"
    }
   ],
   "source": [
    "len(lst_wh_res)"
   ]
  },
  {
   "cell_type": "code",
   "execution_count": 27,
   "metadata": {},
   "outputs": [
    {
     "name": "stderr",
     "output_type": "stream",
     "text": [
      "100%|██████████████████████████████████████████████████████████████████████████| 2407/2407 [00:00<00:00, 602475.96it/s]"
     ]
    },
    {
     "name": "stdout",
     "output_type": "stream",
     "text": [
      "There remain 2402 domains, from 2407.\n"
     ]
    },
    {
     "name": "stderr",
     "output_type": "stream",
     "text": [
      "\n"
     ]
    }
   ],
   "source": [
    "getattr(tqdm, '_instances', {}).clear()\n",
    "new_res = []\n",
    "count = 0\n",
    "for i in tqdm(range(len(search_res))):\n",
    "    if i not in to_black:\n",
    "        new_res.append(search_res[i])\n",
    "        count +=1\n",
    "print(\"There remain {} domains, from {}.\".format(count, len(search_res)))"
   ]
  },
  {
   "cell_type": "code",
   "execution_count": 28,
   "metadata": {},
   "outputs": [],
   "source": [
    "with open('clean_results.txt', 'w') as f:\n",
    "    for item in new_res:\n",
    "        f.write(\"%s\\n\" % item)"
   ]
  },
  {
   "cell_type": "markdown",
   "metadata": {},
   "source": [
    "# 3. Previous confirmed white"
   ]
  },
  {
   "cell_type": "code",
   "execution_count": 29,
   "metadata": {},
   "outputs": [
    {
     "name": "stderr",
     "output_type": "stream",
     "text": [
      "100%|█████████████████████████████████████████████████████████████████████████████| 1039/1039 [00:09<00:00, 107.65it/s]\n"
     ]
    }
   ],
   "source": [
    "lst_wh_prev = []\n",
    "to_black = []\n",
    "getattr(tqdm, '_instances', {}).clear()\n",
    "for k in tqdm(range(len(conf_white))):\n",
    "    key = conf_white[k]\n",
    "    for u in conf_mal:\n",
    "        if (key == u):\n",
    "            lst_wh_prev.append(key)\n",
    "            to_black.append(k)"
   ]
  },
  {
   "cell_type": "code",
   "execution_count": 21,
   "metadata": {},
   "outputs": [
    {
     "data": {
      "text/plain": [
       "2"
      ]
     },
     "execution_count": 21,
     "metadata": {},
     "output_type": "execute_result"
    }
   ],
   "source": [
    "len(lst_wh_prev)"
   ]
  },
  {
   "cell_type": "code",
   "execution_count": 30,
   "metadata": {},
   "outputs": [
    {
     "name": "stderr",
     "output_type": "stream",
     "text": [
      "100%|██████████████████████████████████████████████████████████████████████████| 1039/1039 [00:00<00:00, 519785.53it/s]"
     ]
    },
    {
     "name": "stdout",
     "output_type": "stream",
     "text": [
      "There remain 1037 domains, from 1039.\n"
     ]
    },
    {
     "name": "stderr",
     "output_type": "stream",
     "text": [
      "\n"
     ]
    }
   ],
   "source": [
    "new_conf = []\n",
    "count = 0\n",
    "getattr(tqdm, '_instances', {}).clear()\n",
    "for i in tqdm(range(len(conf_white))):\n",
    "    if i not in to_black:\n",
    "        new_conf.append(conf_white[i])\n",
    "        count +=1\n",
    "print(\"There remain {} domains, from {}.\".format(count, len(conf_white)))"
   ]
  },
  {
   "cell_type": "code",
   "execution_count": 23,
   "metadata": {},
   "outputs": [],
   "source": [
    "with open('clean_previous.txt', 'w') as f:\n",
    "    for item in new_conf:\n",
    "        f.write(\"%s\\n\" % item)"
   ]
  },
  {
   "cell_type": "markdown",
   "metadata": {},
   "source": [
    "# Combining all clean"
   ]
  },
  {
   "cell_type": "code",
   "execution_count": 2,
   "metadata": {},
   "outputs": [
    {
     "name": "stdout",
     "output_type": "stream",
     "text": [
      "The length of search_results doc is 14556\n"
     ]
    }
   ],
   "source": [
    "f1 = open(\"clean_govedu.txt\")\n",
    "line = f1.readline()\n",
    "new_gov = []\n",
    "while line:                    \n",
    "    line = f1.readline() \n",
    "    new_gov.append(line)\n",
    "print(\"The length of search_results doc is\",len(new_gov))\n",
    "f1.close()"
   ]
  },
  {
   "cell_type": "code",
   "execution_count": 5,
   "metadata": {},
   "outputs": [
    {
     "name": "stdout",
     "output_type": "stream",
     "text": [
      "14556\n",
      "7278\n"
     ]
    }
   ],
   "source": [
    "new_gov = check_tld(new_gov)"
   ]
  },
  {
   "cell_type": "code",
   "execution_count": 6,
   "metadata": {},
   "outputs": [
    {
     "name": "stdout",
     "output_type": "stream",
     "text": [
      "The length of search_results doc is 2074\n"
     ]
    }
   ],
   "source": [
    "f1 = open(\"clean_previous.txt\")\n",
    "line = f1.readline()\n",
    "new_prev = []\n",
    "while line:                    \n",
    "    line = f1.readline() \n",
    "    new_prev.append(line)\n",
    "print(\"The length of search_results doc is\",len(new_prev))\n",
    "f1.close()"
   ]
  },
  {
   "cell_type": "code",
   "execution_count": 7,
   "metadata": {},
   "outputs": [
    {
     "name": "stdout",
     "output_type": "stream",
     "text": [
      "2074\n",
      "1037\n"
     ]
    }
   ],
   "source": [
    "new_prev = check_tld(new_prev)"
   ]
  },
  {
   "cell_type": "code",
   "execution_count": 8,
   "metadata": {},
   "outputs": [
    {
     "name": "stdout",
     "output_type": "stream",
     "text": [
      "The length of search_results doc is 4804\n"
     ]
    }
   ],
   "source": [
    "f1 = open(\"clean_results.txt\")\n",
    "line = f1.readline()\n",
    "new_res = []\n",
    "while line:                    \n",
    "    line = f1.readline() \n",
    "    new_res.append(line)\n",
    "print(\"The length of search_results doc is\",len(new_res))\n",
    "f1.close()"
   ]
  },
  {
   "cell_type": "code",
   "execution_count": 9,
   "metadata": {},
   "outputs": [
    {
     "name": "stdout",
     "output_type": "stream",
     "text": [
      "4804\n",
      "2402\n"
     ]
    }
   ],
   "source": [
    "new_res = check_tld(new_res)"
   ]
  },
  {
   "cell_type": "code",
   "execution_count": 11,
   "metadata": {},
   "outputs": [
    {
     "name": "stdout",
     "output_type": "stream",
     "text": [
      "10717\n",
      "10291\n"
     ]
    }
   ],
   "source": [
    "clean = []\n",
    "for i in new_gov:\n",
    "    clean.append(i)\n",
    "for i in new_prev:\n",
    "    clean.append(i)\n",
    "for i in new_res:\n",
    "    clean.append(i)\n",
    "\n",
    "    \n",
    "clean = check_tld(clean)"
   ]
  },
  {
   "cell_type": "code",
   "execution_count": 22,
   "metadata": {},
   "outputs": [],
   "source": [
    "import numpy as np\n",
    "from tldextract import extract\n",
    "def check_unique_tld(array):\n",
    "    new_list = []\n",
    "    for i in array:\n",
    "        tsd, td, tsu = extract(i) #subdomain, domain, suffix\n",
    "        if td:\n",
    "            dom = td + '.' + tsu\n",
    "        else:\n",
    "            dom = tsu\n",
    "        new_list.append(dom)\n",
    "    print(len(new_list))\n",
    "    print(len(np.unique(new_list)))\n",
    "    return(np.unique(new_list))"
   ]
  },
  {
   "cell_type": "code",
   "execution_count": 26,
   "metadata": {},
   "outputs": [
    {
     "name": "stdout",
     "output_type": "stream",
     "text": [
      "10293\n",
      "4703\n"
     ]
    }
   ],
   "source": [
    "clean1 = check_unique_tld(clean)"
   ]
  },
  {
   "cell_type": "code",
   "execution_count": 27,
   "metadata": {},
   "outputs": [],
   "source": [
    "with open('all_clean.txt', 'w') as f:\n",
    "    for item in clean:\n",
    "        f.write(\"%s\\n\" % item)"
   ]
  },
  {
   "cell_type": "code",
   "execution_count": 28,
   "metadata": {},
   "outputs": [],
   "source": [
    "with open('all_clean_without_subdom.txt', 'w') as f:\n",
    "    for item in clean1:\n",
    "        f.write(\"%s\\n\" % item)"
   ]
  },
  {
   "cell_type": "markdown",
   "metadata": {},
   "source": [
    "# More filtering"
   ]
  },
  {
   "cell_type": "code",
   "execution_count": 13,
   "metadata": {},
   "outputs": [
    {
     "name": "stdout",
     "output_type": "stream",
     "text": [
      "The length of all_clean.txt doc is 10293\n"
     ]
    }
   ],
   "source": [
    "f1 = open(\"all_clean.txt\")\n",
    "line = f1.readline()\n",
    "all_clean = []\n",
    "while line:                    \n",
    "    line = f1.readline() \n",
    "    all_clean.append(line)\n",
    "print(\"The length of all_clean.txt doc is\",len(all_clean))\n",
    "f1.close()"
   ]
  },
  {
   "cell_type": "code",
   "execution_count": 14,
   "metadata": {},
   "outputs": [],
   "source": [
    "keywords = ['corona', 'covid' , 'ncov', 'wuhan', 'ncov-19', \n",
    "            'virus', 'covid-19', 'covid19', 'sars', 'wuhanvirus',\n",
    "            'novelvirus', 'korona']"
   ]
  },
  {
   "cell_type": "code",
   "execution_count": 17,
   "metadata": {},
   "outputs": [
    {
     "name": "stderr",
     "output_type": "stream",
     "text": [
      "100%|█████████████████████████████████████████████████████████████████████████████████| 12/12 [00:00<00:00, 545.80it/s]"
     ]
    },
    {
     "name": "stdout",
     "output_type": "stream",
     "text": [
      "9539\n"
     ]
    },
    {
     "name": "stderr",
     "output_type": "stream",
     "text": [
      "\n"
     ]
    }
   ],
   "source": [
    "lt_key = []\n",
    "getattr(tqdm, '_instances', {}).clear()\n",
    "for k in tqdm(range(len(keywords))):\n",
    "    key = keywords[k]\n",
    "    for u in all_clean:\n",
    "        if key in u:\n",
    "            lt_key.append(u)\n",
    "print(len(lt_key))"
   ]
  },
  {
   "cell_type": "code",
   "execution_count": 20,
   "metadata": {},
   "outputs": [
    {
     "name": "stdout",
     "output_type": "stream",
     "text": [
      "9539\n",
      "5972\n"
     ]
    }
   ],
   "source": [
    "clean_with_key = check_tld(lt_key)"
   ]
  },
  {
   "cell_type": "code",
   "execution_count": 21,
   "metadata": {},
   "outputs": [],
   "source": [
    "with open('all_clean_with_keyword.txt', 'w') as f:\n",
    "    for item in clean_with_key:\n",
    "        f.write(\"%s\\n\" % item)"
   ]
  },
  {
   "cell_type": "code",
   "execution_count": 23,
   "metadata": {},
   "outputs": [
    {
     "name": "stdout",
     "output_type": "stream",
     "text": [
      "9539\n",
      "2794\n"
     ]
    },
    {
     "data": {
      "text/plain": [
       "array(['103.gov.kg', '10mm.com.br', '1551.gov.ua', ...,\n",
       "       'zodiaccovid19.gov.ge', 'zodiaccovid19.gov.jo',\n",
       "       'zodiaccovid19.gov.mn'], dtype='<U39')"
      ]
     },
     "execution_count": 23,
     "metadata": {},
     "output_type": "execute_result"
    }
   ],
   "source": [
    "check_unique_tld(lt_key)"
   ]
  },
  {
   "cell_type": "code",
   "execution_count": null,
   "metadata": {},
   "outputs": [],
   "source": []
  }
 ],
 "metadata": {
  "kernelspec": {
   "display_name": "Python 3",
   "language": "python",
   "name": "python3"
  },
  "language_info": {
   "codemirror_mode": {
    "name": "ipython",
    "version": 3
   },
   "file_extension": ".py",
   "mimetype": "text/x-python",
   "name": "python",
   "nbconvert_exporter": "python",
   "pygments_lexer": "ipython3",
   "version": "3.6.5"
  }
 },
 "nbformat": 4,
 "nbformat_minor": 2
}
